{
 "cells": [
  {
   "cell_type": "markdown",
   "id": "dc54a482-1a08-4042-baa7-2ab017b8ce35",
   "metadata": {
    "id": "dc54a482-1a08-4042-baa7-2ab017b8ce35"
   },
   "source": [
    "# `UTFVI` TensorFlow Decision Forests"
   ]
  },
  {
   "cell_type": "code",
   "execution_count": 1,
   "id": "4a7a0047-a521-4ed6-b108-b2d1b558b6ea",
   "metadata": {},
   "outputs": [],
   "source": [
    "ano = '2000'\n",
    "md = '6'\n",
    "folder = 'UHIn - speed + quad + RH + NDVI'\n",
    "feat = ['windspeed','windquad','RH','NDVI']\n",
    "t_index = 0"
   ]
  },
  {
   "cell_type": "code",
   "execution_count": 2,
   "id": "7c84b85c",
   "metadata": {
    "id": "7c84b85c"
   },
   "outputs": [
    {
     "name": "stderr",
     "output_type": "stream",
     "text": [
      "2024-02-14 14:55:17.153493: I tensorflow/tsl/cuda/cudart_stub.cc:28] Could not find cuda drivers on your machine, GPU will not be used.\n",
      "2024-02-14 14:55:17.223659: I tensorflow/tsl/cuda/cudart_stub.cc:28] Could not find cuda drivers on your machine, GPU will not be used.\n",
      "2024-02-14 14:55:17.226092: I tensorflow/core/platform/cpu_feature_guard.cc:182] This TensorFlow binary is optimized to use available CPU instructions in performance-critical operations.\n",
      "To enable the following instructions: AVX2 FMA, in other operations, rebuild TensorFlow with the appropriate compiler flags.\n",
      "2024-02-14 14:55:18.583606: W tensorflow/compiler/tf2tensorrt/utils/py_utils.cc:38] TF-TRT Warning: Could not find TensorRT\n"
     ]
    }
   ],
   "source": [
    "import tensorflow_decision_forests as tf\n",
    "from tensorflow_decision_forests.tensorflow.core import Task\n",
    "\n",
    "from sklearn.model_selection import train_test_split\n",
    "from sklearn.metrics import mean_absolute_error, mean_squared_error, explained_variance_score, r2_score, precision_score, recall_score\n",
    "from sklearn.metrics import classification_report, confusion_matrix, cohen_kappa_score, accuracy_score, roc_auc_score, roc_curve\n",
    "\n",
    "# import Random Forest classifier\n",
    "from sklearn.ensemble import RandomForestClassifier\n",
    "from sklearn import tree\n",
    "\n",
    "import pandas as pd\n",
    "from collections import defaultdict\n",
    "\n",
    "import statsmodels.api as sm\n",
    "import shap\n",
    "\n",
    "import seaborn as sns\n",
    "import matplotlib\n",
    "import matplotlib.pyplot as plt\n",
    "\n",
    "import dtreeviz\n",
    "import numpy as np\n",
    "import warnings  \n",
    "# Settings the warnings to be ignored\n",
    "warnings.filterwarnings('ignore')\n",
    "%config InlineBackend.figure_format = 'retina' # Make visualizations look good\n",
    "#%config InlineBackend.figure_format = 'svg'\n",
    "%matplotlib inline\n",
    "\n",
    "random_state = 42 # get reproducible trees"
   ]
  },
  {
   "cell_type": "code",
   "execution_count": 3,
   "id": "c802fe95-f5db-433e-89ee-f33728f9659d",
   "metadata": {
    "id": "7c84b85c"
   },
   "outputs": [],
   "source": [
    "import tensorflow_decision_forests as tf\n",
    "from tensorflow_decision_forests.tensorflow.core import Task\n",
    "\n",
    "from sklearn.model_selection import train_test_split\n",
    "from sklearn.metrics import mean_absolute_error, mean_squared_error, explained_variance_score, r2_score, precision_score, recall_score\n",
    "from sklearn.metrics import classification_report, confusion_matrix, cohen_kappa_score, accuracy_score, roc_auc_score, roc_curve\n",
    "\n",
    "# import Random Forest classifier\n",
    "from sklearn.ensemble import RandomForestClassifier\n",
    "from sklearn import tree\n",
    "\n",
    "import pandas as pd\n",
    "from collections import defaultdict\n",
    "\n",
    "import statsmodels.api as sm\n",
    "import shap\n",
    "\n",
    "import seaborn as sns\n",
    "import matplotlib\n",
    "import matplotlib.pyplot as plt\n",
    "\n",
    "import dtreeviz\n",
    "import numpy as np\n",
    "import warnings  \n",
    "# Settings the warnings to be ignored\n",
    "warnings.filterwarnings('ignore')\n",
    "%config InlineBackend.figure_format = 'retina' # Make visualizations look good\n",
    "#%config InlineBackend.figure_format = 'svg'\n",
    "%matplotlib inline\n",
    "\n",
    "random_state = 42 # get reproducible trees"
   ]
  },
  {
   "cell_type": "markdown",
   "id": "a30d65da",
   "metadata": {
    "id": "a30d65da"
   },
   "source": [
    "## Load Sample Data"
   ]
  },
  {
   "cell_type": "code",
   "execution_count": 4,
   "id": "016e16eb",
   "metadata": {
    "id": "016e16eb"
   },
   "outputs": [],
   "source": [
    "# random_state = 1234\n",
    "# dataset_url = \"https://raw.githubusercontent.com/parrt/dtreeviz/master/data/titanic/titanic.csv\"\n",
    "# dataset = pd.read_csv(dataset_url)\n",
    "# # Fill missing values for Age\n",
    "# dataset.fillna({\"Age\":dataset.Age.mean()}, inplace=True)\n",
    "# # Encode categorical variables\n",
    "# dataset[\"Sex_label\"] = dataset.Sex.astype(\"category\").cat.codes\n",
    "\n",
    "# dataset[\"Cabin_label\"] = dataset.Cabin.astype(\"category\").cat.codes\n",
    "# dataset[\"Embarked_label\"] = dataset.Embarked.astype(\"category\").cat.codes\n",
    "\n",
    "df = pd.read_csv('../era5_modis_daily_estacoes_cuiaba_'+ano+'_01-mensal.csv')\n",
    "df = df[(df['UHIp']!='nenhum') & (df['UHIp']!='fraco') & (df['UHIp']!='medio')]"
   ]
  },
  {
   "cell_type": "code",
   "execution_count": 5,
   "id": "76e152f2-7f54-404c-bea7-f582a59c80a9",
   "metadata": {},
   "outputs": [],
   "source": [
    "df = df[df['UHIp']!='nenhum']"
   ]
  },
  {
   "cell_type": "code",
   "execution_count": 6,
   "id": "78ab1b73-ddd8-4ebb-948c-acdc7503e7b4",
   "metadata": {},
   "outputs": [
    {
     "data": {
      "text/html": [
       "<div>\n",
       "<style scoped>\n",
       "    .dataframe tbody tr th:only-of-type {\n",
       "        vertical-align: middle;\n",
       "    }\n",
       "\n",
       "    .dataframe tbody tr th {\n",
       "        vertical-align: top;\n",
       "    }\n",
       "\n",
       "    .dataframe thead th {\n",
       "        text-align: right;\n",
       "    }\n",
       "</style>\n",
       "<table border=\"1\" class=\"dataframe\">\n",
       "  <thead>\n",
       "    <tr style=\"text-align: right;\">\n",
       "      <th></th>\n",
       "      <th>index</th>\n",
       "      <th>latitude</th>\n",
       "      <th>longitude</th>\n",
       "      <th>Day</th>\n",
       "      <th>Month</th>\n",
       "      <th>Year</th>\n",
       "      <th>hour</th>\n",
       "      <th>Temp2m</th>\n",
       "      <th>skinTemp</th>\n",
       "      <th>dewPoint</th>\n",
       "      <th>...</th>\n",
       "      <th>HTI</th>\n",
       "      <th>windpower</th>\n",
       "      <th>UHIp</th>\n",
       "      <th>UHIn</th>\n",
       "      <th>UHIp2m</th>\n",
       "      <th>UHIn2m</th>\n",
       "      <th>date</th>\n",
       "      <th>timestamp</th>\n",
       "      <th>local</th>\n",
       "      <th>NDVI</th>\n",
       "    </tr>\n",
       "  </thead>\n",
       "  <tbody>\n",
       "    <tr>\n",
       "      <th>39</th>\n",
       "      <td>2810</td>\n",
       "      <td>-15.632077</td>\n",
       "      <td>-56.056664</td>\n",
       "      <td>18</td>\n",
       "      <td>7</td>\n",
       "      <td>2000</td>\n",
       "      <td>10</td>\n",
       "      <td>15.740991</td>\n",
       "      <td>14.608850</td>\n",
       "      <td>11.124902</td>\n",
       "      <td>...</td>\n",
       "      <td>4.208562</td>\n",
       "      <td>medio</td>\n",
       "      <td>extremo</td>\n",
       "      <td>5.0</td>\n",
       "      <td>forte</td>\n",
       "      <td>3.0</td>\n",
       "      <td>2000-07-18</td>\n",
       "      <td>2000-07-18</td>\n",
       "      <td>COXIPO</td>\n",
       "      <td>0.373431</td>\n",
       "    </tr>\n",
       "    <tr>\n",
       "      <th>44</th>\n",
       "      <td>2829</td>\n",
       "      <td>-15.632077</td>\n",
       "      <td>-56.056664</td>\n",
       "      <td>18</td>\n",
       "      <td>7</td>\n",
       "      <td>2000</td>\n",
       "      <td>7</td>\n",
       "      <td>16.577600</td>\n",
       "      <td>15.257959</td>\n",
       "      <td>12.236658</td>\n",
       "      <td>...</td>\n",
       "      <td>9.054637</td>\n",
       "      <td>medio</td>\n",
       "      <td>extremo</td>\n",
       "      <td>5.0</td>\n",
       "      <td>muito_forte</td>\n",
       "      <td>4.0</td>\n",
       "      <td>2000-07-18</td>\n",
       "      <td>2000-07-18</td>\n",
       "      <td>COXIPO</td>\n",
       "      <td>0.373431</td>\n",
       "    </tr>\n",
       "    <tr>\n",
       "      <th>45</th>\n",
       "      <td>2830</td>\n",
       "      <td>-15.632077</td>\n",
       "      <td>-56.056664</td>\n",
       "      <td>18</td>\n",
       "      <td>7</td>\n",
       "      <td>2000</td>\n",
       "      <td>8</td>\n",
       "      <td>16.258325</td>\n",
       "      <td>14.941309</td>\n",
       "      <td>11.936639</td>\n",
       "      <td>...</td>\n",
       "      <td>6.628350</td>\n",
       "      <td>medio</td>\n",
       "      <td>extremo</td>\n",
       "      <td>5.0</td>\n",
       "      <td>muito_forte</td>\n",
       "      <td>4.0</td>\n",
       "      <td>2000-07-18</td>\n",
       "      <td>2000-07-18</td>\n",
       "      <td>COXIPO</td>\n",
       "      <td>0.373431</td>\n",
       "    </tr>\n",
       "    <tr>\n",
       "      <th>46</th>\n",
       "      <td>2831</td>\n",
       "      <td>-15.632077</td>\n",
       "      <td>-56.056664</td>\n",
       "      <td>18</td>\n",
       "      <td>7</td>\n",
       "      <td>2000</td>\n",
       "      <td>9</td>\n",
       "      <td>16.007715</td>\n",
       "      <td>14.787042</td>\n",
       "      <td>11.572778</td>\n",
       "      <td>...</td>\n",
       "      <td>5.492990</td>\n",
       "      <td>medio</td>\n",
       "      <td>extremo</td>\n",
       "      <td>5.0</td>\n",
       "      <td>forte</td>\n",
       "      <td>3.0</td>\n",
       "      <td>2000-07-18</td>\n",
       "      <td>2000-07-18</td>\n",
       "      <td>COXIPO</td>\n",
       "      <td>0.373431</td>\n",
       "    </tr>\n",
       "    <tr>\n",
       "      <th>165</th>\n",
       "      <td>9196</td>\n",
       "      <td>-15.625789</td>\n",
       "      <td>-56.028367</td>\n",
       "      <td>10</td>\n",
       "      <td>5</td>\n",
       "      <td>2000</td>\n",
       "      <td>12</td>\n",
       "      <td>23.746240</td>\n",
       "      <td>26.967493</td>\n",
       "      <td>20.204919</td>\n",
       "      <td>...</td>\n",
       "      <td>165.103126</td>\n",
       "      <td>medio</td>\n",
       "      <td>extremo</td>\n",
       "      <td>5.0</td>\n",
       "      <td>fraco</td>\n",
       "      <td>1.0</td>\n",
       "      <td>2000-05-10</td>\n",
       "      <td>2000-05-10</td>\n",
       "      <td>TIJUCAL</td>\n",
       "      <td>0.288711</td>\n",
       "    </tr>\n",
       "    <tr>\n",
       "      <th>425</th>\n",
       "      <td>20282</td>\n",
       "      <td>-15.609619</td>\n",
       "      <td>-56.066097</td>\n",
       "      <td>18</td>\n",
       "      <td>7</td>\n",
       "      <td>2000</td>\n",
       "      <td>10</td>\n",
       "      <td>15.740991</td>\n",
       "      <td>14.608850</td>\n",
       "      <td>11.124902</td>\n",
       "      <td>...</td>\n",
       "      <td>4.208562</td>\n",
       "      <td>medio</td>\n",
       "      <td>extremo</td>\n",
       "      <td>5.0</td>\n",
       "      <td>forte</td>\n",
       "      <td>3.0</td>\n",
       "      <td>2000-07-18</td>\n",
       "      <td>2000-07-18</td>\n",
       "      <td>UFMT</td>\n",
       "      <td>0.338587</td>\n",
       "    </tr>\n",
       "    <tr>\n",
       "      <th>430</th>\n",
       "      <td>20301</td>\n",
       "      <td>-15.609619</td>\n",
       "      <td>-56.066097</td>\n",
       "      <td>18</td>\n",
       "      <td>7</td>\n",
       "      <td>2000</td>\n",
       "      <td>7</td>\n",
       "      <td>16.577600</td>\n",
       "      <td>15.257959</td>\n",
       "      <td>12.236658</td>\n",
       "      <td>...</td>\n",
       "      <td>9.054637</td>\n",
       "      <td>medio</td>\n",
       "      <td>extremo</td>\n",
       "      <td>5.0</td>\n",
       "      <td>muito_forte</td>\n",
       "      <td>4.0</td>\n",
       "      <td>2000-07-18</td>\n",
       "      <td>2000-07-18</td>\n",
       "      <td>UFMT</td>\n",
       "      <td>0.338587</td>\n",
       "    </tr>\n",
       "    <tr>\n",
       "      <th>431</th>\n",
       "      <td>20302</td>\n",
       "      <td>-15.609619</td>\n",
       "      <td>-56.066097</td>\n",
       "      <td>18</td>\n",
       "      <td>7</td>\n",
       "      <td>2000</td>\n",
       "      <td>8</td>\n",
       "      <td>16.258325</td>\n",
       "      <td>14.941309</td>\n",
       "      <td>11.936639</td>\n",
       "      <td>...</td>\n",
       "      <td>6.628350</td>\n",
       "      <td>medio</td>\n",
       "      <td>extremo</td>\n",
       "      <td>5.0</td>\n",
       "      <td>muito_forte</td>\n",
       "      <td>4.0</td>\n",
       "      <td>2000-07-18</td>\n",
       "      <td>2000-07-18</td>\n",
       "      <td>UFMT</td>\n",
       "      <td>0.338587</td>\n",
       "    </tr>\n",
       "    <tr>\n",
       "      <th>432</th>\n",
       "      <td>20303</td>\n",
       "      <td>-15.609619</td>\n",
       "      <td>-56.066097</td>\n",
       "      <td>18</td>\n",
       "      <td>7</td>\n",
       "      <td>2000</td>\n",
       "      <td>9</td>\n",
       "      <td>16.007715</td>\n",
       "      <td>14.787042</td>\n",
       "      <td>11.572778</td>\n",
       "      <td>...</td>\n",
       "      <td>5.492990</td>\n",
       "      <td>medio</td>\n",
       "      <td>extremo</td>\n",
       "      <td>5.0</td>\n",
       "      <td>forte</td>\n",
       "      <td>3.0</td>\n",
       "      <td>2000-07-18</td>\n",
       "      <td>2000-07-18</td>\n",
       "      <td>UFMT</td>\n",
       "      <td>0.338587</td>\n",
       "    </tr>\n",
       "    <tr>\n",
       "      <th>559</th>\n",
       "      <td>29018</td>\n",
       "      <td>-15.603331</td>\n",
       "      <td>-56.122241</td>\n",
       "      <td>18</td>\n",
       "      <td>7</td>\n",
       "      <td>2000</td>\n",
       "      <td>10</td>\n",
       "      <td>15.740991</td>\n",
       "      <td>14.608850</td>\n",
       "      <td>11.124902</td>\n",
       "      <td>...</td>\n",
       "      <td>4.208562</td>\n",
       "      <td>medio</td>\n",
       "      <td>extremo</td>\n",
       "      <td>5.0</td>\n",
       "      <td>forte</td>\n",
       "      <td>3.0</td>\n",
       "      <td>2000-07-18</td>\n",
       "      <td>2000-07-18</td>\n",
       "      <td>AECIM</td>\n",
       "      <td>0.289445</td>\n",
       "    </tr>\n",
       "    <tr>\n",
       "      <th>564</th>\n",
       "      <td>29037</td>\n",
       "      <td>-15.603331</td>\n",
       "      <td>-56.122241</td>\n",
       "      <td>18</td>\n",
       "      <td>7</td>\n",
       "      <td>2000</td>\n",
       "      <td>7</td>\n",
       "      <td>16.577600</td>\n",
       "      <td>15.257959</td>\n",
       "      <td>12.236658</td>\n",
       "      <td>...</td>\n",
       "      <td>9.054637</td>\n",
       "      <td>medio</td>\n",
       "      <td>extremo</td>\n",
       "      <td>5.0</td>\n",
       "      <td>muito_forte</td>\n",
       "      <td>4.0</td>\n",
       "      <td>2000-07-18</td>\n",
       "      <td>2000-07-18</td>\n",
       "      <td>AECIM</td>\n",
       "      <td>0.289445</td>\n",
       "    </tr>\n",
       "    <tr>\n",
       "      <th>565</th>\n",
       "      <td>29038</td>\n",
       "      <td>-15.603331</td>\n",
       "      <td>-56.122241</td>\n",
       "      <td>18</td>\n",
       "      <td>7</td>\n",
       "      <td>2000</td>\n",
       "      <td>8</td>\n",
       "      <td>16.258325</td>\n",
       "      <td>14.941309</td>\n",
       "      <td>11.936639</td>\n",
       "      <td>...</td>\n",
       "      <td>6.628350</td>\n",
       "      <td>medio</td>\n",
       "      <td>extremo</td>\n",
       "      <td>5.0</td>\n",
       "      <td>muito_forte</td>\n",
       "      <td>4.0</td>\n",
       "      <td>2000-07-18</td>\n",
       "      <td>2000-07-18</td>\n",
       "      <td>AECIM</td>\n",
       "      <td>0.289445</td>\n",
       "    </tr>\n",
       "    <tr>\n",
       "      <th>566</th>\n",
       "      <td>29039</td>\n",
       "      <td>-15.603331</td>\n",
       "      <td>-56.122241</td>\n",
       "      <td>18</td>\n",
       "      <td>7</td>\n",
       "      <td>2000</td>\n",
       "      <td>9</td>\n",
       "      <td>16.007715</td>\n",
       "      <td>14.787042</td>\n",
       "      <td>11.572778</td>\n",
       "      <td>...</td>\n",
       "      <td>5.492990</td>\n",
       "      <td>medio</td>\n",
       "      <td>extremo</td>\n",
       "      <td>5.0</td>\n",
       "      <td>forte</td>\n",
       "      <td>3.0</td>\n",
       "      <td>2000-07-18</td>\n",
       "      <td>2000-07-18</td>\n",
       "      <td>AECIM</td>\n",
       "      <td>0.289445</td>\n",
       "    </tr>\n",
       "    <tr>\n",
       "      <th>693</th>\n",
       "      <td>37754</td>\n",
       "      <td>-15.597492</td>\n",
       "      <td>-56.097987</td>\n",
       "      <td>18</td>\n",
       "      <td>7</td>\n",
       "      <td>2000</td>\n",
       "      <td>10</td>\n",
       "      <td>15.740991</td>\n",
       "      <td>14.608850</td>\n",
       "      <td>11.124902</td>\n",
       "      <td>...</td>\n",
       "      <td>4.208562</td>\n",
       "      <td>medio</td>\n",
       "      <td>extremo</td>\n",
       "      <td>5.0</td>\n",
       "      <td>forte</td>\n",
       "      <td>3.0</td>\n",
       "      <td>2000-07-18</td>\n",
       "      <td>2000-07-18</td>\n",
       "      <td>CENTRO</td>\n",
       "      <td>0.207158</td>\n",
       "    </tr>\n",
       "    <tr>\n",
       "      <th>698</th>\n",
       "      <td>37773</td>\n",
       "      <td>-15.597492</td>\n",
       "      <td>-56.097987</td>\n",
       "      <td>18</td>\n",
       "      <td>7</td>\n",
       "      <td>2000</td>\n",
       "      <td>7</td>\n",
       "      <td>16.577600</td>\n",
       "      <td>15.257959</td>\n",
       "      <td>12.236658</td>\n",
       "      <td>...</td>\n",
       "      <td>9.054637</td>\n",
       "      <td>medio</td>\n",
       "      <td>extremo</td>\n",
       "      <td>5.0</td>\n",
       "      <td>muito_forte</td>\n",
       "      <td>4.0</td>\n",
       "      <td>2000-07-18</td>\n",
       "      <td>2000-07-18</td>\n",
       "      <td>CENTRO</td>\n",
       "      <td>0.207158</td>\n",
       "    </tr>\n",
       "    <tr>\n",
       "      <th>699</th>\n",
       "      <td>37774</td>\n",
       "      <td>-15.597492</td>\n",
       "      <td>-56.097987</td>\n",
       "      <td>18</td>\n",
       "      <td>7</td>\n",
       "      <td>2000</td>\n",
       "      <td>8</td>\n",
       "      <td>16.258325</td>\n",
       "      <td>14.941309</td>\n",
       "      <td>11.936639</td>\n",
       "      <td>...</td>\n",
       "      <td>6.628350</td>\n",
       "      <td>medio</td>\n",
       "      <td>extremo</td>\n",
       "      <td>5.0</td>\n",
       "      <td>muito_forte</td>\n",
       "      <td>4.0</td>\n",
       "      <td>2000-07-18</td>\n",
       "      <td>2000-07-18</td>\n",
       "      <td>CENTRO</td>\n",
       "      <td>0.207158</td>\n",
       "    </tr>\n",
       "    <tr>\n",
       "      <th>700</th>\n",
       "      <td>37775</td>\n",
       "      <td>-15.597492</td>\n",
       "      <td>-56.097987</td>\n",
       "      <td>18</td>\n",
       "      <td>7</td>\n",
       "      <td>2000</td>\n",
       "      <td>9</td>\n",
       "      <td>16.007715</td>\n",
       "      <td>14.787042</td>\n",
       "      <td>11.572778</td>\n",
       "      <td>...</td>\n",
       "      <td>5.492990</td>\n",
       "      <td>medio</td>\n",
       "      <td>extremo</td>\n",
       "      <td>5.0</td>\n",
       "      <td>forte</td>\n",
       "      <td>3.0</td>\n",
       "      <td>2000-07-18</td>\n",
       "      <td>2000-07-18</td>\n",
       "      <td>CENTRO</td>\n",
       "      <td>0.207158</td>\n",
       "    </tr>\n",
       "    <tr>\n",
       "      <th>845</th>\n",
       "      <td>46490</td>\n",
       "      <td>-15.595246</td>\n",
       "      <td>-56.064749</td>\n",
       "      <td>18</td>\n",
       "      <td>7</td>\n",
       "      <td>2000</td>\n",
       "      <td>10</td>\n",
       "      <td>15.740991</td>\n",
       "      <td>14.608850</td>\n",
       "      <td>11.124902</td>\n",
       "      <td>...</td>\n",
       "      <td>4.208562</td>\n",
       "      <td>medio</td>\n",
       "      <td>extremo</td>\n",
       "      <td>5.0</td>\n",
       "      <td>forte</td>\n",
       "      <td>3.0</td>\n",
       "      <td>2000-07-18</td>\n",
       "      <td>2000-07-18</td>\n",
       "      <td>ALPHAVILLE</td>\n",
       "      <td>0.220028</td>\n",
       "    </tr>\n",
       "    <tr>\n",
       "      <th>850</th>\n",
       "      <td>46509</td>\n",
       "      <td>-15.595246</td>\n",
       "      <td>-56.064749</td>\n",
       "      <td>18</td>\n",
       "      <td>7</td>\n",
       "      <td>2000</td>\n",
       "      <td>7</td>\n",
       "      <td>16.577600</td>\n",
       "      <td>15.257959</td>\n",
       "      <td>12.236658</td>\n",
       "      <td>...</td>\n",
       "      <td>9.054637</td>\n",
       "      <td>medio</td>\n",
       "      <td>extremo</td>\n",
       "      <td>5.0</td>\n",
       "      <td>muito_forte</td>\n",
       "      <td>4.0</td>\n",
       "      <td>2000-07-18</td>\n",
       "      <td>2000-07-18</td>\n",
       "      <td>ALPHAVILLE</td>\n",
       "      <td>0.220028</td>\n",
       "    </tr>\n",
       "    <tr>\n",
       "      <th>851</th>\n",
       "      <td>46510</td>\n",
       "      <td>-15.595246</td>\n",
       "      <td>-56.064749</td>\n",
       "      <td>18</td>\n",
       "      <td>7</td>\n",
       "      <td>2000</td>\n",
       "      <td>8</td>\n",
       "      <td>16.258325</td>\n",
       "      <td>14.941309</td>\n",
       "      <td>11.936639</td>\n",
       "      <td>...</td>\n",
       "      <td>6.628350</td>\n",
       "      <td>medio</td>\n",
       "      <td>extremo</td>\n",
       "      <td>5.0</td>\n",
       "      <td>muito_forte</td>\n",
       "      <td>4.0</td>\n",
       "      <td>2000-07-18</td>\n",
       "      <td>2000-07-18</td>\n",
       "      <td>ALPHAVILLE</td>\n",
       "      <td>0.220028</td>\n",
       "    </tr>\n",
       "    <tr>\n",
       "      <th>852</th>\n",
       "      <td>46511</td>\n",
       "      <td>-15.595246</td>\n",
       "      <td>-56.064749</td>\n",
       "      <td>18</td>\n",
       "      <td>7</td>\n",
       "      <td>2000</td>\n",
       "      <td>9</td>\n",
       "      <td>16.007715</td>\n",
       "      <td>14.787042</td>\n",
       "      <td>11.572778</td>\n",
       "      <td>...</td>\n",
       "      <td>5.492990</td>\n",
       "      <td>medio</td>\n",
       "      <td>extremo</td>\n",
       "      <td>5.0</td>\n",
       "      <td>forte</td>\n",
       "      <td>3.0</td>\n",
       "      <td>2000-07-18</td>\n",
       "      <td>2000-07-18</td>\n",
       "      <td>ALPHAVILLE</td>\n",
       "      <td>0.220028</td>\n",
       "    </tr>\n",
       "    <tr>\n",
       "      <th>1019</th>\n",
       "      <td>55226</td>\n",
       "      <td>-15.594348</td>\n",
       "      <td>-56.058012</td>\n",
       "      <td>18</td>\n",
       "      <td>7</td>\n",
       "      <td>2000</td>\n",
       "      <td>10</td>\n",
       "      <td>15.740991</td>\n",
       "      <td>14.608850</td>\n",
       "      <td>11.124902</td>\n",
       "      <td>...</td>\n",
       "      <td>4.208562</td>\n",
       "      <td>medio</td>\n",
       "      <td>extremo</td>\n",
       "      <td>5.0</td>\n",
       "      <td>forte</td>\n",
       "      <td>3.0</td>\n",
       "      <td>2000-07-18</td>\n",
       "      <td>2000-07-18</td>\n",
       "      <td>TIA_NAIR</td>\n",
       "      <td>0.229362</td>\n",
       "    </tr>\n",
       "    <tr>\n",
       "      <th>1024</th>\n",
       "      <td>55245</td>\n",
       "      <td>-15.594348</td>\n",
       "      <td>-56.058012</td>\n",
       "      <td>18</td>\n",
       "      <td>7</td>\n",
       "      <td>2000</td>\n",
       "      <td>7</td>\n",
       "      <td>16.577600</td>\n",
       "      <td>15.257959</td>\n",
       "      <td>12.236658</td>\n",
       "      <td>...</td>\n",
       "      <td>9.054637</td>\n",
       "      <td>medio</td>\n",
       "      <td>extremo</td>\n",
       "      <td>5.0</td>\n",
       "      <td>muito_forte</td>\n",
       "      <td>4.0</td>\n",
       "      <td>2000-07-18</td>\n",
       "      <td>2000-07-18</td>\n",
       "      <td>TIA_NAIR</td>\n",
       "      <td>0.229362</td>\n",
       "    </tr>\n",
       "    <tr>\n",
       "      <th>1025</th>\n",
       "      <td>55246</td>\n",
       "      <td>-15.594348</td>\n",
       "      <td>-56.058012</td>\n",
       "      <td>18</td>\n",
       "      <td>7</td>\n",
       "      <td>2000</td>\n",
       "      <td>8</td>\n",
       "      <td>16.258325</td>\n",
       "      <td>14.941309</td>\n",
       "      <td>11.936639</td>\n",
       "      <td>...</td>\n",
       "      <td>6.628350</td>\n",
       "      <td>medio</td>\n",
       "      <td>extremo</td>\n",
       "      <td>5.0</td>\n",
       "      <td>muito_forte</td>\n",
       "      <td>4.0</td>\n",
       "      <td>2000-07-18</td>\n",
       "      <td>2000-07-18</td>\n",
       "      <td>TIA_NAIR</td>\n",
       "      <td>0.229362</td>\n",
       "    </tr>\n",
       "    <tr>\n",
       "      <th>1026</th>\n",
       "      <td>55247</td>\n",
       "      <td>-15.594348</td>\n",
       "      <td>-56.058012</td>\n",
       "      <td>18</td>\n",
       "      <td>7</td>\n",
       "      <td>2000</td>\n",
       "      <td>9</td>\n",
       "      <td>16.007715</td>\n",
       "      <td>14.787042</td>\n",
       "      <td>11.572778</td>\n",
       "      <td>...</td>\n",
       "      <td>5.492990</td>\n",
       "      <td>medio</td>\n",
       "      <td>extremo</td>\n",
       "      <td>5.0</td>\n",
       "      <td>forte</td>\n",
       "      <td>3.0</td>\n",
       "      <td>2000-07-18</td>\n",
       "      <td>2000-07-18</td>\n",
       "      <td>TIA_NAIR</td>\n",
       "      <td>0.229362</td>\n",
       "    </tr>\n",
       "    <tr>\n",
       "      <th>1165</th>\n",
       "      <td>63962</td>\n",
       "      <td>-15.579975</td>\n",
       "      <td>-56.105622</td>\n",
       "      <td>18</td>\n",
       "      <td>7</td>\n",
       "      <td>2000</td>\n",
       "      <td>10</td>\n",
       "      <td>15.740991</td>\n",
       "      <td>14.608850</td>\n",
       "      <td>11.124902</td>\n",
       "      <td>...</td>\n",
       "      <td>4.208562</td>\n",
       "      <td>medio</td>\n",
       "      <td>extremo</td>\n",
       "      <td>5.0</td>\n",
       "      <td>forte</td>\n",
       "      <td>3.0</td>\n",
       "      <td>2000-07-18</td>\n",
       "      <td>2000-07-18</td>\n",
       "      <td>BONIFACIA</td>\n",
       "      <td>0.479436</td>\n",
       "    </tr>\n",
       "    <tr>\n",
       "      <th>1170</th>\n",
       "      <td>63981</td>\n",
       "      <td>-15.579975</td>\n",
       "      <td>-56.105622</td>\n",
       "      <td>18</td>\n",
       "      <td>7</td>\n",
       "      <td>2000</td>\n",
       "      <td>7</td>\n",
       "      <td>16.577600</td>\n",
       "      <td>15.257959</td>\n",
       "      <td>12.236658</td>\n",
       "      <td>...</td>\n",
       "      <td>9.054637</td>\n",
       "      <td>medio</td>\n",
       "      <td>extremo</td>\n",
       "      <td>5.0</td>\n",
       "      <td>muito_forte</td>\n",
       "      <td>4.0</td>\n",
       "      <td>2000-07-18</td>\n",
       "      <td>2000-07-18</td>\n",
       "      <td>BONIFACIA</td>\n",
       "      <td>0.479436</td>\n",
       "    </tr>\n",
       "    <tr>\n",
       "      <th>1171</th>\n",
       "      <td>63982</td>\n",
       "      <td>-15.579975</td>\n",
       "      <td>-56.105622</td>\n",
       "      <td>18</td>\n",
       "      <td>7</td>\n",
       "      <td>2000</td>\n",
       "      <td>8</td>\n",
       "      <td>16.258325</td>\n",
       "      <td>14.941309</td>\n",
       "      <td>11.936639</td>\n",
       "      <td>...</td>\n",
       "      <td>6.628350</td>\n",
       "      <td>medio</td>\n",
       "      <td>extremo</td>\n",
       "      <td>5.0</td>\n",
       "      <td>muito_forte</td>\n",
       "      <td>4.0</td>\n",
       "      <td>2000-07-18</td>\n",
       "      <td>2000-07-18</td>\n",
       "      <td>BONIFACIA</td>\n",
       "      <td>0.479436</td>\n",
       "    </tr>\n",
       "    <tr>\n",
       "      <th>1172</th>\n",
       "      <td>63983</td>\n",
       "      <td>-15.579975</td>\n",
       "      <td>-56.105622</td>\n",
       "      <td>18</td>\n",
       "      <td>7</td>\n",
       "      <td>2000</td>\n",
       "      <td>9</td>\n",
       "      <td>16.007715</td>\n",
       "      <td>14.787042</td>\n",
       "      <td>11.572778</td>\n",
       "      <td>...</td>\n",
       "      <td>5.492990</td>\n",
       "      <td>medio</td>\n",
       "      <td>extremo</td>\n",
       "      <td>5.0</td>\n",
       "      <td>forte</td>\n",
       "      <td>3.0</td>\n",
       "      <td>2000-07-18</td>\n",
       "      <td>2000-07-18</td>\n",
       "      <td>BONIFACIA</td>\n",
       "      <td>0.479436</td>\n",
       "    </tr>\n",
       "    <tr>\n",
       "      <th>1274</th>\n",
       "      <td>70348</td>\n",
       "      <td>-15.570542</td>\n",
       "      <td>-56.038249</td>\n",
       "      <td>10</td>\n",
       "      <td>5</td>\n",
       "      <td>2000</td>\n",
       "      <td>12</td>\n",
       "      <td>23.746240</td>\n",
       "      <td>26.967493</td>\n",
       "      <td>20.204919</td>\n",
       "      <td>...</td>\n",
       "      <td>165.103126</td>\n",
       "      <td>medio</td>\n",
       "      <td>extremo</td>\n",
       "      <td>5.0</td>\n",
       "      <td>fraco</td>\n",
       "      <td>1.0</td>\n",
       "      <td>2000-05-10</td>\n",
       "      <td>2000-05-10</td>\n",
       "      <td>TRES_LAGOAS</td>\n",
       "      <td>0.385039</td>\n",
       "    </tr>\n",
       "    <tr>\n",
       "      <th>1552</th>\n",
       "      <td>81434</td>\n",
       "      <td>-15.568746</td>\n",
       "      <td>-56.073283</td>\n",
       "      <td>18</td>\n",
       "      <td>7</td>\n",
       "      <td>2000</td>\n",
       "      <td>10</td>\n",
       "      <td>15.740991</td>\n",
       "      <td>14.608850</td>\n",
       "      <td>11.124902</td>\n",
       "      <td>...</td>\n",
       "      <td>4.208562</td>\n",
       "      <td>medio</td>\n",
       "      <td>extremo</td>\n",
       "      <td>5.0</td>\n",
       "      <td>forte</td>\n",
       "      <td>3.0</td>\n",
       "      <td>2000-07-18</td>\n",
       "      <td>2000-07-18</td>\n",
       "      <td>CPA</td>\n",
       "      <td>0.316062</td>\n",
       "    </tr>\n",
       "    <tr>\n",
       "      <th>1557</th>\n",
       "      <td>81453</td>\n",
       "      <td>-15.568746</td>\n",
       "      <td>-56.073283</td>\n",
       "      <td>18</td>\n",
       "      <td>7</td>\n",
       "      <td>2000</td>\n",
       "      <td>7</td>\n",
       "      <td>16.577600</td>\n",
       "      <td>15.257959</td>\n",
       "      <td>12.236658</td>\n",
       "      <td>...</td>\n",
       "      <td>9.054637</td>\n",
       "      <td>medio</td>\n",
       "      <td>extremo</td>\n",
       "      <td>5.0</td>\n",
       "      <td>muito_forte</td>\n",
       "      <td>4.0</td>\n",
       "      <td>2000-07-18</td>\n",
       "      <td>2000-07-18</td>\n",
       "      <td>CPA</td>\n",
       "      <td>0.316062</td>\n",
       "    </tr>\n",
       "    <tr>\n",
       "      <th>1558</th>\n",
       "      <td>81454</td>\n",
       "      <td>-15.568746</td>\n",
       "      <td>-56.073283</td>\n",
       "      <td>18</td>\n",
       "      <td>7</td>\n",
       "      <td>2000</td>\n",
       "      <td>8</td>\n",
       "      <td>16.258325</td>\n",
       "      <td>14.941309</td>\n",
       "      <td>11.936639</td>\n",
       "      <td>...</td>\n",
       "      <td>6.628350</td>\n",
       "      <td>medio</td>\n",
       "      <td>extremo</td>\n",
       "      <td>5.0</td>\n",
       "      <td>muito_forte</td>\n",
       "      <td>4.0</td>\n",
       "      <td>2000-07-18</td>\n",
       "      <td>2000-07-18</td>\n",
       "      <td>CPA</td>\n",
       "      <td>0.316062</td>\n",
       "    </tr>\n",
       "    <tr>\n",
       "      <th>1559</th>\n",
       "      <td>81455</td>\n",
       "      <td>-15.568746</td>\n",
       "      <td>-56.073283</td>\n",
       "      <td>18</td>\n",
       "      <td>7</td>\n",
       "      <td>2000</td>\n",
       "      <td>9</td>\n",
       "      <td>16.007715</td>\n",
       "      <td>14.787042</td>\n",
       "      <td>11.572778</td>\n",
       "      <td>...</td>\n",
       "      <td>5.492990</td>\n",
       "      <td>medio</td>\n",
       "      <td>extremo</td>\n",
       "      <td>5.0</td>\n",
       "      <td>forte</td>\n",
       "      <td>3.0</td>\n",
       "      <td>2000-07-18</td>\n",
       "      <td>2000-07-18</td>\n",
       "      <td>CPA</td>\n",
       "      <td>0.316062</td>\n",
       "    </tr>\n",
       "    <tr>\n",
       "      <th>1686</th>\n",
       "      <td>90170</td>\n",
       "      <td>-15.567847</td>\n",
       "      <td>-56.079571</td>\n",
       "      <td>18</td>\n",
       "      <td>7</td>\n",
       "      <td>2000</td>\n",
       "      <td>10</td>\n",
       "      <td>15.740991</td>\n",
       "      <td>14.608850</td>\n",
       "      <td>11.124902</td>\n",
       "      <td>...</td>\n",
       "      <td>4.208562</td>\n",
       "      <td>medio</td>\n",
       "      <td>extremo</td>\n",
       "      <td>5.0</td>\n",
       "      <td>forte</td>\n",
       "      <td>3.0</td>\n",
       "      <td>2000-07-18</td>\n",
       "      <td>2000-07-18</td>\n",
       "      <td>PARQUE_AGUAS</td>\n",
       "      <td>0.218384</td>\n",
       "    </tr>\n",
       "    <tr>\n",
       "      <th>1691</th>\n",
       "      <td>90189</td>\n",
       "      <td>-15.567847</td>\n",
       "      <td>-56.079571</td>\n",
       "      <td>18</td>\n",
       "      <td>7</td>\n",
       "      <td>2000</td>\n",
       "      <td>7</td>\n",
       "      <td>16.577600</td>\n",
       "      <td>15.257959</td>\n",
       "      <td>12.236658</td>\n",
       "      <td>...</td>\n",
       "      <td>9.054637</td>\n",
       "      <td>medio</td>\n",
       "      <td>extremo</td>\n",
       "      <td>5.0</td>\n",
       "      <td>muito_forte</td>\n",
       "      <td>4.0</td>\n",
       "      <td>2000-07-18</td>\n",
       "      <td>2000-07-18</td>\n",
       "      <td>PARQUE_AGUAS</td>\n",
       "      <td>0.218384</td>\n",
       "    </tr>\n",
       "    <tr>\n",
       "      <th>1692</th>\n",
       "      <td>90190</td>\n",
       "      <td>-15.567847</td>\n",
       "      <td>-56.079571</td>\n",
       "      <td>18</td>\n",
       "      <td>7</td>\n",
       "      <td>2000</td>\n",
       "      <td>8</td>\n",
       "      <td>16.258325</td>\n",
       "      <td>14.941309</td>\n",
       "      <td>11.936639</td>\n",
       "      <td>...</td>\n",
       "      <td>6.628350</td>\n",
       "      <td>medio</td>\n",
       "      <td>extremo</td>\n",
       "      <td>5.0</td>\n",
       "      <td>muito_forte</td>\n",
       "      <td>4.0</td>\n",
       "      <td>2000-07-18</td>\n",
       "      <td>2000-07-18</td>\n",
       "      <td>PARQUE_AGUAS</td>\n",
       "      <td>0.218384</td>\n",
       "    </tr>\n",
       "    <tr>\n",
       "      <th>1693</th>\n",
       "      <td>90191</td>\n",
       "      <td>-15.567847</td>\n",
       "      <td>-56.079571</td>\n",
       "      <td>18</td>\n",
       "      <td>7</td>\n",
       "      <td>2000</td>\n",
       "      <td>9</td>\n",
       "      <td>16.007715</td>\n",
       "      <td>14.787042</td>\n",
       "      <td>11.572778</td>\n",
       "      <td>...</td>\n",
       "      <td>5.492990</td>\n",
       "      <td>medio</td>\n",
       "      <td>extremo</td>\n",
       "      <td>5.0</td>\n",
       "      <td>forte</td>\n",
       "      <td>3.0</td>\n",
       "      <td>2000-07-18</td>\n",
       "      <td>2000-07-18</td>\n",
       "      <td>PARQUE_AGUAS</td>\n",
       "      <td>0.218384</td>\n",
       "    </tr>\n",
       "    <tr>\n",
       "      <th>1813</th>\n",
       "      <td>96556</td>\n",
       "      <td>-15.562907</td>\n",
       "      <td>-56.048130</td>\n",
       "      <td>10</td>\n",
       "      <td>5</td>\n",
       "      <td>2000</td>\n",
       "      <td>12</td>\n",
       "      <td>23.746240</td>\n",
       "      <td>26.967493</td>\n",
       "      <td>20.204919</td>\n",
       "      <td>...</td>\n",
       "      <td>165.103126</td>\n",
       "      <td>medio</td>\n",
       "      <td>extremo</td>\n",
       "      <td>5.0</td>\n",
       "      <td>fraco</td>\n",
       "      <td>1.0</td>\n",
       "      <td>2000-05-10</td>\n",
       "      <td>2000-05-10</td>\n",
       "      <td>MORADA_SERRAII</td>\n",
       "      <td>0.254102</td>\n",
       "    </tr>\n",
       "  </tbody>\n",
       "</table>\n",
       "<p>39 rows × 33 columns</p>\n",
       "</div>"
      ],
      "text/plain": [
       "      index   latitude  longitude  Day  Month  Year  hour     Temp2m  \\\n",
       "39     2810 -15.632077 -56.056664   18      7  2000    10  15.740991   \n",
       "44     2829 -15.632077 -56.056664   18      7  2000     7  16.577600   \n",
       "45     2830 -15.632077 -56.056664   18      7  2000     8  16.258325   \n",
       "46     2831 -15.632077 -56.056664   18      7  2000     9  16.007715   \n",
       "165    9196 -15.625789 -56.028367   10      5  2000    12  23.746240   \n",
       "425   20282 -15.609619 -56.066097   18      7  2000    10  15.740991   \n",
       "430   20301 -15.609619 -56.066097   18      7  2000     7  16.577600   \n",
       "431   20302 -15.609619 -56.066097   18      7  2000     8  16.258325   \n",
       "432   20303 -15.609619 -56.066097   18      7  2000     9  16.007715   \n",
       "559   29018 -15.603331 -56.122241   18      7  2000    10  15.740991   \n",
       "564   29037 -15.603331 -56.122241   18      7  2000     7  16.577600   \n",
       "565   29038 -15.603331 -56.122241   18      7  2000     8  16.258325   \n",
       "566   29039 -15.603331 -56.122241   18      7  2000     9  16.007715   \n",
       "693   37754 -15.597492 -56.097987   18      7  2000    10  15.740991   \n",
       "698   37773 -15.597492 -56.097987   18      7  2000     7  16.577600   \n",
       "699   37774 -15.597492 -56.097987   18      7  2000     8  16.258325   \n",
       "700   37775 -15.597492 -56.097987   18      7  2000     9  16.007715   \n",
       "845   46490 -15.595246 -56.064749   18      7  2000    10  15.740991   \n",
       "850   46509 -15.595246 -56.064749   18      7  2000     7  16.577600   \n",
       "851   46510 -15.595246 -56.064749   18      7  2000     8  16.258325   \n",
       "852   46511 -15.595246 -56.064749   18      7  2000     9  16.007715   \n",
       "1019  55226 -15.594348 -56.058012   18      7  2000    10  15.740991   \n",
       "1024  55245 -15.594348 -56.058012   18      7  2000     7  16.577600   \n",
       "1025  55246 -15.594348 -56.058012   18      7  2000     8  16.258325   \n",
       "1026  55247 -15.594348 -56.058012   18      7  2000     9  16.007715   \n",
       "1165  63962 -15.579975 -56.105622   18      7  2000    10  15.740991   \n",
       "1170  63981 -15.579975 -56.105622   18      7  2000     7  16.577600   \n",
       "1171  63982 -15.579975 -56.105622   18      7  2000     8  16.258325   \n",
       "1172  63983 -15.579975 -56.105622   18      7  2000     9  16.007715   \n",
       "1274  70348 -15.570542 -56.038249   10      5  2000    12  23.746240   \n",
       "1552  81434 -15.568746 -56.073283   18      7  2000    10  15.740991   \n",
       "1557  81453 -15.568746 -56.073283   18      7  2000     7  16.577600   \n",
       "1558  81454 -15.568746 -56.073283   18      7  2000     8  16.258325   \n",
       "1559  81455 -15.568746 -56.073283   18      7  2000     9  16.007715   \n",
       "1686  90170 -15.567847 -56.079571   18      7  2000    10  15.740991   \n",
       "1691  90189 -15.567847 -56.079571   18      7  2000     7  16.577600   \n",
       "1692  90190 -15.567847 -56.079571   18      7  2000     8  16.258325   \n",
       "1693  90191 -15.567847 -56.079571   18      7  2000     9  16.007715   \n",
       "1813  96556 -15.562907 -56.048130   10      5  2000    12  23.746240   \n",
       "\n",
       "       skinTemp   dewPoint  ...         HTI  windpower     UHIp  UHIn  \\\n",
       "39    14.608850  11.124902  ...    4.208562      medio  extremo   5.0   \n",
       "44    15.257959  12.236658  ...    9.054637      medio  extremo   5.0   \n",
       "45    14.941309  11.936639  ...    6.628350      medio  extremo   5.0   \n",
       "46    14.787042  11.572778  ...    5.492990      medio  extremo   5.0   \n",
       "165   26.967493  20.204919  ...  165.103126      medio  extremo   5.0   \n",
       "425   14.608850  11.124902  ...    4.208562      medio  extremo   5.0   \n",
       "430   15.257959  12.236658  ...    9.054637      medio  extremo   5.0   \n",
       "431   14.941309  11.936639  ...    6.628350      medio  extremo   5.0   \n",
       "432   14.787042  11.572778  ...    5.492990      medio  extremo   5.0   \n",
       "559   14.608850  11.124902  ...    4.208562      medio  extremo   5.0   \n",
       "564   15.257959  12.236658  ...    9.054637      medio  extremo   5.0   \n",
       "565   14.941309  11.936639  ...    6.628350      medio  extremo   5.0   \n",
       "566   14.787042  11.572778  ...    5.492990      medio  extremo   5.0   \n",
       "693   14.608850  11.124902  ...    4.208562      medio  extremo   5.0   \n",
       "698   15.257959  12.236658  ...    9.054637      medio  extremo   5.0   \n",
       "699   14.941309  11.936639  ...    6.628350      medio  extremo   5.0   \n",
       "700   14.787042  11.572778  ...    5.492990      medio  extremo   5.0   \n",
       "845   14.608850  11.124902  ...    4.208562      medio  extremo   5.0   \n",
       "850   15.257959  12.236658  ...    9.054637      medio  extremo   5.0   \n",
       "851   14.941309  11.936639  ...    6.628350      medio  extremo   5.0   \n",
       "852   14.787042  11.572778  ...    5.492990      medio  extremo   5.0   \n",
       "1019  14.608850  11.124902  ...    4.208562      medio  extremo   5.0   \n",
       "1024  15.257959  12.236658  ...    9.054637      medio  extremo   5.0   \n",
       "1025  14.941309  11.936639  ...    6.628350      medio  extremo   5.0   \n",
       "1026  14.787042  11.572778  ...    5.492990      medio  extremo   5.0   \n",
       "1165  14.608850  11.124902  ...    4.208562      medio  extremo   5.0   \n",
       "1170  15.257959  12.236658  ...    9.054637      medio  extremo   5.0   \n",
       "1171  14.941309  11.936639  ...    6.628350      medio  extremo   5.0   \n",
       "1172  14.787042  11.572778  ...    5.492990      medio  extremo   5.0   \n",
       "1274  26.967493  20.204919  ...  165.103126      medio  extremo   5.0   \n",
       "1552  14.608850  11.124902  ...    4.208562      medio  extremo   5.0   \n",
       "1557  15.257959  12.236658  ...    9.054637      medio  extremo   5.0   \n",
       "1558  14.941309  11.936639  ...    6.628350      medio  extremo   5.0   \n",
       "1559  14.787042  11.572778  ...    5.492990      medio  extremo   5.0   \n",
       "1686  14.608850  11.124902  ...    4.208562      medio  extremo   5.0   \n",
       "1691  15.257959  12.236658  ...    9.054637      medio  extremo   5.0   \n",
       "1692  14.941309  11.936639  ...    6.628350      medio  extremo   5.0   \n",
       "1693  14.787042  11.572778  ...    5.492990      medio  extremo   5.0   \n",
       "1813  26.967493  20.204919  ...  165.103126      medio  extremo   5.0   \n",
       "\n",
       "           UHIp2m  UHIn2m        date   timestamp           local      NDVI  \n",
       "39          forte     3.0  2000-07-18  2000-07-18          COXIPO  0.373431  \n",
       "44    muito_forte     4.0  2000-07-18  2000-07-18          COXIPO  0.373431  \n",
       "45    muito_forte     4.0  2000-07-18  2000-07-18          COXIPO  0.373431  \n",
       "46          forte     3.0  2000-07-18  2000-07-18          COXIPO  0.373431  \n",
       "165         fraco     1.0  2000-05-10  2000-05-10         TIJUCAL  0.288711  \n",
       "425         forte     3.0  2000-07-18  2000-07-18            UFMT  0.338587  \n",
       "430   muito_forte     4.0  2000-07-18  2000-07-18            UFMT  0.338587  \n",
       "431   muito_forte     4.0  2000-07-18  2000-07-18            UFMT  0.338587  \n",
       "432         forte     3.0  2000-07-18  2000-07-18            UFMT  0.338587  \n",
       "559         forte     3.0  2000-07-18  2000-07-18           AECIM  0.289445  \n",
       "564   muito_forte     4.0  2000-07-18  2000-07-18           AECIM  0.289445  \n",
       "565   muito_forte     4.0  2000-07-18  2000-07-18           AECIM  0.289445  \n",
       "566         forte     3.0  2000-07-18  2000-07-18           AECIM  0.289445  \n",
       "693         forte     3.0  2000-07-18  2000-07-18          CENTRO  0.207158  \n",
       "698   muito_forte     4.0  2000-07-18  2000-07-18          CENTRO  0.207158  \n",
       "699   muito_forte     4.0  2000-07-18  2000-07-18          CENTRO  0.207158  \n",
       "700         forte     3.0  2000-07-18  2000-07-18          CENTRO  0.207158  \n",
       "845         forte     3.0  2000-07-18  2000-07-18      ALPHAVILLE  0.220028  \n",
       "850   muito_forte     4.0  2000-07-18  2000-07-18      ALPHAVILLE  0.220028  \n",
       "851   muito_forte     4.0  2000-07-18  2000-07-18      ALPHAVILLE  0.220028  \n",
       "852         forte     3.0  2000-07-18  2000-07-18      ALPHAVILLE  0.220028  \n",
       "1019        forte     3.0  2000-07-18  2000-07-18        TIA_NAIR  0.229362  \n",
       "1024  muito_forte     4.0  2000-07-18  2000-07-18        TIA_NAIR  0.229362  \n",
       "1025  muito_forte     4.0  2000-07-18  2000-07-18        TIA_NAIR  0.229362  \n",
       "1026        forte     3.0  2000-07-18  2000-07-18        TIA_NAIR  0.229362  \n",
       "1165        forte     3.0  2000-07-18  2000-07-18       BONIFACIA  0.479436  \n",
       "1170  muito_forte     4.0  2000-07-18  2000-07-18       BONIFACIA  0.479436  \n",
       "1171  muito_forte     4.0  2000-07-18  2000-07-18       BONIFACIA  0.479436  \n",
       "1172        forte     3.0  2000-07-18  2000-07-18       BONIFACIA  0.479436  \n",
       "1274        fraco     1.0  2000-05-10  2000-05-10     TRES_LAGOAS  0.385039  \n",
       "1552        forte     3.0  2000-07-18  2000-07-18             CPA  0.316062  \n",
       "1557  muito_forte     4.0  2000-07-18  2000-07-18             CPA  0.316062  \n",
       "1558  muito_forte     4.0  2000-07-18  2000-07-18             CPA  0.316062  \n",
       "1559        forte     3.0  2000-07-18  2000-07-18             CPA  0.316062  \n",
       "1686        forte     3.0  2000-07-18  2000-07-18    PARQUE_AGUAS  0.218384  \n",
       "1691  muito_forte     4.0  2000-07-18  2000-07-18    PARQUE_AGUAS  0.218384  \n",
       "1692  muito_forte     4.0  2000-07-18  2000-07-18    PARQUE_AGUAS  0.218384  \n",
       "1693        forte     3.0  2000-07-18  2000-07-18    PARQUE_AGUAS  0.218384  \n",
       "1813        fraco     1.0  2000-05-10  2000-05-10  MORADA_SERRAII  0.254102  \n",
       "\n",
       "[39 rows x 33 columns]"
      ]
     },
     "execution_count": 6,
     "metadata": {},
     "output_type": "execute_result"
    }
   ],
   "source": [
    "df[df['UHIp']=='extremo']"
   ]
  },
  {
   "cell_type": "code",
   "execution_count": 7,
   "id": "8d116451-0235-405b-b9a5-3c3228175229",
   "metadata": {},
   "outputs": [
    {
     "name": "stdout",
     "output_type": "stream",
     "text": [
      "1999-12-21 2000-3-21\n"
     ]
    }
   ],
   "source": [
    "# ano = '2020'\n",
    "mesInicial = 1\n",
    "mesFinal = 3\n",
    "# datei = ano+'-'+str(mesInicial)+'-23'\n",
    "datei = str(int(ano)-1)+'-12'+'-21'\n",
    "datef = ano+'-'+str(mesFinal)+'-21'\n",
    "print(datei,datef)"
   ]
  },
  {
   "cell_type": "code",
   "execution_count": 8,
   "id": "d6de36e1-7826-4d79-b10f-ab3ee4ada011",
   "metadata": {},
   "outputs": [],
   "source": [
    "df=df.drop_duplicates()\n",
    "\n",
    "# Convert the date to datetime64\n",
    "df['date'] = pd.to_datetime(df['date'], format='%Y-%m-%d')"
   ]
  },
  {
   "cell_type": "code",
   "execution_count": 9,
   "id": "25e7163e-f91d-4dc6-8dd2-1530ae53340c",
   "metadata": {},
   "outputs": [],
   "source": [
    "def degToCompass(num):\n",
    "    val=int((num/22.5)+.5)\n",
    "    arr=[\"N\",\"NNE\",\"NE\",\"ENE\",\"L\",\"ESE\", \"SE\", \"SSE\",\"S\",\"SSW\",\"SW\",\"WSW\",\"O\",\"WNW\",\"NW\",\"NNW\"]\n",
    "    print(arr[(val % 16)])"
   ]
  },
  {
   "cell_type": "code",
   "execution_count": 10,
   "id": "c8ef771d-467d-416f-9065-391382f48059",
   "metadata": {},
   "outputs": [],
   "source": [
    "df[\"windspeed\"] = df[\"windspeed\"] * 3.6"
   ]
  },
  {
   "cell_type": "code",
   "execution_count": 11,
   "id": "60af9db0-d358-4f22-af57-d422bbdc0e9e",
   "metadata": {},
   "outputs": [
    {
     "data": {
      "text/plain": [
       "3.0    1822\n",
       "4.0     194\n",
       "5.0      39\n",
       "Name: UHIn, dtype: int64"
      ]
     },
     "execution_count": 11,
     "metadata": {},
     "output_type": "execute_result"
    }
   ],
   "source": [
    "df['UHIn'].value_counts()"
   ]
  },
  {
   "cell_type": "code",
   "execution_count": 12,
   "id": "883bc1f1-1ead-4b71-bba4-78ae224ae835",
   "metadata": {},
   "outputs": [],
   "source": [
    "power = {\n",
    "     'baixo':0,\n",
    "     'medio':1, \n",
    "     'alto':2,\n",
    "}\n",
    "\n",
    "df['windpower'] = df['windpower'].map(power) # re-mapping"
   ]
  },
  {
   "cell_type": "code",
   "execution_count": 13,
   "id": "24366fc7-0e2d-478d-be17-ed6fd9e72b0f",
   "metadata": {},
   "outputs": [],
   "source": [
    "def degrees_to_cardinal(d):\n",
    "    '''\n",
    "    note: this is highly approximate...\n",
    "    '''\n",
    "    dirs = np.array([\"N\", \"NNE\", \"NE\", \"ENE\", \"L\", \"ESE\", \"SE\", \"SSE\",\n",
    "                     \"S\", \"SSW\", \"SW\", \"WSW\", \"O\", \"WNW\", \"NW\", \"NNW\"], dtype='U')\n",
    "    ix = np.round(d / (360. / len(dirs))).astype('i')\n",
    "    return dirs[ix % 16]"
   ]
  },
  {
   "cell_type": "code",
   "execution_count": 14,
   "id": "ae8a2b33-f6f6-4187-a6fa-d576239805db",
   "metadata": {},
   "outputs": [
    {
     "name": "stdout",
     "output_type": "stream",
     "text": [
      "     winddir_stat     winddir\n",
      "0             SSW  201.609773\n",
      "1             SSW  204.386395\n",
      "2               S  184.148565\n",
      "3               S  190.236594\n",
      "4               N    1.378269\n",
      "...           ...         ...\n",
      "2050          NNW  335.832620\n",
      "2051           NW  324.911049\n",
      "2052          NNW  342.515673\n",
      "2053            N    4.926461\n",
      "2054            N  356.486833\n",
      "\n",
      "[2055 rows x 2 columns]\n"
     ]
    }
   ],
   "source": [
    "df['winddir_stat_name'] = degrees_to_cardinal(df['winddir']) #o \"-1\" é para evitar erro de acesso indevido à uma posição inexistente do array\n",
    "df['winddir_stat'] = degrees_to_cardinal(df['winddir']) #o \"-1\" é para evitar erro de acesso indevido à uma posição inexistente do array\n",
    "print(df[['winddir_stat','winddir']])\n",
    "df[\"winddir_stat\"] = df.winddir_stat.astype(\"category\").cat.codes"
   ]
  },
  {
   "cell_type": "code",
   "execution_count": 15,
   "id": "df9ec58f-ba4d-4ea7-9a4b-e973c44d85ac",
   "metadata": {},
   "outputs": [
    {
     "data": {
      "image/png": "[encoded data removed]",
      "text/plain": [
       "<Figure size 1200x500 with 1 Axes>"
      ]
     },
     "metadata": {
      "image/png": {
       "height": 476,
       "width": 997
      }
     },
     "output_type": "display_data"
    }
   ],
   "source": [
    "fig, ax = plt.subplots(figsize=(12,5))\n",
    "sns.boxplot(x = df.Month,\n",
    "                y = df['Temp2m'], \n",
    "                ax = ax)\n",
    "plt.title(\"Temperatura do Ar a 2 metros em Cuiabá (\"+ano+\")\", loc=\"center\", fontsize=18)\n",
    "plt.xlabel(\"Meses do Ano\")\n",
    "plt.ylabel(\"Temperatura (ºC)\")\n",
    "\n",
    "# ax = sns.stripplot(data = df, x='Precipitação (mm)', y='Temperatura (ºC)', hue=\"Temperatura (ºC)\")  \n",
    "fig.savefig('cuiaba_boxplot_prec_temp_ar-'+ano+'.png')"
   ]
  },
  {
   "cell_type": "code",
   "execution_count": 16,
   "id": "e428570a-c031-4cba-a79b-9703a8da867f",
   "metadata": {},
   "outputs": [
    {
     "data": {
      "image/png": "[encoded data removed]",
      "text/plain": [
       "<Figure size 1200x500 with 1 Axes>"
      ]
     },
     "metadata": {
      "image/png": {
       "height": 476,
       "width": 997
      }
     },
     "output_type": "display_data"
    }
   ],
   "source": [
    "fig, ax = plt.subplots(figsize=(12,5))\n",
    "sns.boxplot(x = df.Month,\n",
    "                y = df['skinTemp'], \n",
    "                ax = ax)\n",
    "plt.title(\"Temperatura da Superfície do Solo em Cuiabá (\"+ano+\")\", loc=\"center\", fontsize=18)\n",
    "plt.xlabel(\"Meses do Ano\")\n",
    "plt.ylabel(\"Temperatura (ºC)\")\n",
    "# ax = sns.stripplot(data = df, x='Precipitação (mm)', y='Temperatura (ºC)', hue=\"Temperatura (ºC)\")  \n",
    "fig.savefig('cuiaba_boxplot_prec_skintemp-'+ano+'.png')"
   ]
  },
  {
   "cell_type": "code",
   "execution_count": 17,
   "id": "95d265ef-f488-4b28-9c34-748117f331d9",
   "metadata": {},
   "outputs": [
    {
     "data": {
      "image/png": "[encoded data removed]",
      "text/plain": [
       "<Figure size 1200x400 with 1 Axes>"
      ]
     },
     "metadata": {
      "image/png": {
       "height": 357,
       "width": 1001
      }
     },
     "output_type": "display_data"
    }
   ],
   "source": [
    "label = 'Meses'\n",
    "# df.plot(x='date', y=['UTFVI2m','UTFVI'], kind='line', rot=0, grid=True, title='UTFVI do Ar vs UTFVI da Superfície do Solo', xlabel=label,ylabel='Níveis Fenômeno ICU',fontsize=10, figsize=(12,4));\n",
    "res = df.plot(x='date', y=['UTFVI','RH','NDVI'], kind='line',grid=True, ylim=(-0.1, 1), rot=0, title='UTFVI Superfície do Solo vs NDVI', xlabel=label,ylabel='Níveis Fenômeno ICU',fontsize=10, figsize=(12,4)).get_figure()\n",
    "\n",
    "# Save figure\n",
    "res.savefig(\"RF-IMAGES/classification/extremo/UTFVI/\"+folder+\"/\"+\"RF-UTFVI do Solo vs NDVI-\"+ano+\".png\")"
   ]
  },
  {
   "cell_type": "code",
   "execution_count": 18,
   "id": "1132ec8c-c1fc-456b-b914-95268ecca561",
   "metadata": {},
   "outputs": [],
   "source": [
    "del df['date']\n",
    "del df['longitude']\n",
    "del df['latitude']\n",
    "# del df['UHIp']\n",
    "# del df['skinTemp']\n",
    "# del df['Temp2m']\n",
    "# del df['dewPoint']\n",
    "# del df['total_precipitation']\n",
    "del df['Day']\n",
    "del df['Month']\n",
    "del df['THI']\n",
    "del df['UHI']\n",
    "del df['HTI']\n",
    "del df['Year']\n",
    "del df['winddir']\n",
    "del df['winddir_stat']\n",
    "# del df['RH']\n",
    "# del df['speed_x']\n",
    "# del df['speed_y']\n",
    "# del df['Cidade']\n",
    "# del df['Região']\n",
    "# del df['UF']\n",
    "# del df['total_evaporation']\n",
    "# del df['windpower']\n",
    "del df['timestamp']\n",
    "del df['local']\n",
    "# del df['UHIp2m']\n",
    "del df['winddir_stat_name']\n",
    "del df['skinTemp_mean']\n",
    "del df['Temp2m_mean']\n",
    "# del df['surface_pressure']\n",
    "# del df['UHIn2m']\n",
    "# del df['UTFVI2m']\n",
    "del df['hour']"
   ]
  },
  {
   "cell_type": "code",
   "execution_count": 19,
   "id": "06110e60-53e4-4057-984b-1aa2a6891112",
   "metadata": {},
   "outputs": [
    {
     "data": {
      "text/plain": [
       "5.0    825\n",
       "1.0    386\n",
       "8.0    356\n",
       "4.0    181\n",
       "3.0    108\n",
       "2.0     83\n",
       "7.0     80\n",
       "6.0     36\n",
       "Name: windquad, dtype: int64"
      ]
     },
     "execution_count": 19,
     "metadata": {},
     "output_type": "execute_result"
    }
   ],
   "source": [
    "df['windquad'].value_counts()"
   ]
  },
  {
   "cell_type": "code",
   "execution_count": 20,
   "id": "9ba3cf55-ddec-4654-aac3-ee866fa5db99",
   "metadata": {},
   "outputs": [],
   "source": [
    "quad = {\n",
    "    1:'Primeiro',\n",
    "    2:'Segundo', \n",
    "    3:'Terceiro',\n",
    "    4:'Quarto',\n",
    "    5:'Quinto',\n",
    "    6:'Sexto',\n",
    "    7:'Sétimo',\n",
    "    8:'Oitavo'\n",
    "}\n",
    "\n",
    "df['windquad_cat'] = df['windquad'].map(quad) # re-mapping\n"
   ]
  },
  {
   "cell_type": "code",
   "execution_count": 21,
   "id": "db212028-487c-481a-ad19-d6ca770c88ca",
   "metadata": {},
   "outputs": [],
   "source": [
    "# quad = {\n",
    "#     1:0,\n",
    "#     2:1, \n",
    "#     3:2,\n",
    "#     4:3,\n",
    "#     5:4,\n",
    "#     6:5,\n",
    "#     7:6,\n",
    "#     8:7\n",
    "# }\n",
    "\n",
    "# df['windquad'] = df['windquad'].map(quad) # re-mapping"
   ]
  },
  {
   "cell_type": "code",
   "execution_count": 22,
   "id": "da50a3cd-f00c-4a40-8e1b-ee8ec7382b3b",
   "metadata": {},
   "outputs": [],
   "source": [
    "utfvi = {\n",
    "    5:6,\n",
    "    4:5, \n",
    "    3:4,\n",
    "    2:3,\n",
    "    1:2,\n",
    "    0:1,\n",
    "}\n",
    "\n",
    "df['UHIn'] = df['UHIn'].map(utfvi) # re-mapping"
   ]
  },
  {
   "cell_type": "code",
   "execution_count": 23,
   "id": "f224cf32-8afc-4cb3-8af4-b005e8a0c30d",
   "metadata": {},
   "outputs": [],
   "source": [
    "df['windquad'] = df['windquad'].astype(int)"
   ]
  },
  {
   "cell_type": "code",
   "execution_count": 24,
   "id": "23b760b8-0a8d-4a3f-bba7-ffb4e8a93e17",
   "metadata": {},
   "outputs": [
    {
     "data": {
      "text/plain": [
       "4    1822\n",
       "5     194\n",
       "6      39\n",
       "Name: UHIn, dtype: int64"
      ]
     },
     "execution_count": 24,
     "metadata": {},
     "output_type": "execute_result"
    }
   ],
   "source": [
    "# df['UHIn2m'] = df['UHIn2m'].astype(int)\n",
    "df['UHIn'] = df['UHIn'].astype(int)\n",
    "# df['UHIn'] = df['UHIn'] -1 \n",
    "df['UHIn'].value_counts()"
   ]
  },
  {
   "cell_type": "code",
   "execution_count": 25,
   "id": "9be588d3-3bd9-4726-993a-a1d5ca7b3fff",
   "metadata": {},
   "outputs": [],
   "source": [
    "# df['UHIt'] = df['UHIn'].apply(lambda x: 1 if x >= 4 else 0)\n",
    "df['UHIt'] = df['UHIn'].apply(lambda x: 2 if x >= 4 else ( 1 if (x >= 2 and x <= 3) else 0))"
   ]
  },
  {
   "cell_type": "code",
   "execution_count": 26,
   "id": "e1441b6c-030f-49f9-910c-a7613dea79aa",
   "metadata": {},
   "outputs": [
    {
     "data": {
      "text/plain": [
       "Quinto      825\n",
       "Primeiro    386\n",
       "Oitavo      356\n",
       "Quarto      181\n",
       "Terceiro    108\n",
       "Segundo      83\n",
       "Sétimo       80\n",
       "Sexto        36\n",
       "Name: windquad_cat, dtype: int64"
      ]
     },
     "execution_count": 26,
     "metadata": {},
     "output_type": "execute_result"
    }
   ],
   "source": [
    "df['windquad_cat'].value_counts()"
   ]
  },
  {
   "cell_type": "code",
   "execution_count": 27,
   "id": "a1c349a2-9c0b-4f3d-9436-e7db580b366a",
   "metadata": {},
   "outputs": [
    {
     "data": {
      "text/plain": [
       "0          99247.55\n",
       "1          99194.55\n",
       "2          98543.03\n",
       "3         100192.17\n",
       "4          99098.55\n",
       "           ...     \n",
       "2050    99041375.00\n",
       "2051       99014.14\n",
       "2052    98810836.00\n",
       "2053       99141.79\n",
       "2054       99126.25\n",
       "Name: surface_pressure, Length: 2055, dtype: float64"
      ]
     },
     "execution_count": 27,
     "metadata": {},
     "output_type": "execute_result"
    }
   ],
   "source": [
    "df['surface_pressure']"
   ]
  },
  {
   "cell_type": "markdown",
   "id": "2e20d0ae",
   "metadata": {
    "id": "2e20d0ae"
   },
   "source": [
    "# Classifiers\n",
    "\n",
    "To demonstrate classifier decision trees, we trying to model using six features to predict the boolean survived target."
   ]
  },
  {
   "cell_type": "code",
   "execution_count": 28,
   "id": "9c9ab459-eeb8-41be-ba3d-4b29f1bb9615",
   "metadata": {},
   "outputs": [
    {
     "data": {
      "text/html": [
       "<div>\n",
       "<style scoped>\n",
       "    .dataframe tbody tr th:only-of-type {\n",
       "        vertical-align: middle;\n",
       "    }\n",
       "\n",
       "    .dataframe tbody tr th {\n",
       "        vertical-align: top;\n",
       "    }\n",
       "\n",
       "    .dataframe thead th {\n",
       "        text-align: right;\n",
       "    }\n",
       "</style>\n",
       "<table border=\"1\" class=\"dataframe\">\n",
       "  <thead>\n",
       "    <tr style=\"text-align: right;\">\n",
       "      <th></th>\n",
       "      <th>index</th>\n",
       "      <th>Temp2m</th>\n",
       "      <th>skinTemp</th>\n",
       "      <th>dewPoint</th>\n",
       "      <th>total_precipitation</th>\n",
       "      <th>RH</th>\n",
       "      <th>windspeed</th>\n",
       "      <th>total_evaporation</th>\n",
       "      <th>surface_pressure</th>\n",
       "      <th>windquad</th>\n",
       "      <th>UTFVI</th>\n",
       "      <th>UTFVI2m</th>\n",
       "      <th>windpower</th>\n",
       "      <th>UHIp</th>\n",
       "      <th>UHIn</th>\n",
       "      <th>UHIp2m</th>\n",
       "      <th>UHIn2m</th>\n",
       "      <th>NDVI</th>\n",
       "      <th>windquad_cat</th>\n",
       "      <th>UHIt</th>\n",
       "    </tr>\n",
       "  </thead>\n",
       "  <tbody>\n",
       "    <tr>\n",
       "      <th>0</th>\n",
       "      <td>458</td>\n",
       "      <td>20.406335</td>\n",
       "      <td>19.368738</td>\n",
       "      <td>19.408777</td>\n",
       "      <td>0.000000</td>\n",
       "      <td>0.537326</td>\n",
       "      <td>6.248625</td>\n",
       "      <td>-0.000043</td>\n",
       "      <td>99247.55</td>\n",
       "      <td>5</td>\n",
       "      <td>0.012983</td>\n",
       "      <td>0.007189</td>\n",
       "      <td>1</td>\n",
       "      <td>forte</td>\n",
       "      <td>4</td>\n",
       "      <td>medio</td>\n",
       "      <td>2.0</td>\n",
       "      <td>0.461616</td>\n",
       "      <td>Quinto</td>\n",
       "      <td>2</td>\n",
       "    </tr>\n",
       "    <tr>\n",
       "      <th>1</th>\n",
       "      <td>479</td>\n",
       "      <td>20.752649</td>\n",
       "      <td>19.689417</td>\n",
       "      <td>19.683069</td>\n",
       "      <td>0.000000</td>\n",
       "      <td>0.536793</td>\n",
       "      <td>6.428343</td>\n",
       "      <td>-0.000043</td>\n",
       "      <td>99194.55</td>\n",
       "      <td>5</td>\n",
       "      <td>0.011372</td>\n",
       "      <td>0.007911</td>\n",
       "      <td>1</td>\n",
       "      <td>forte</td>\n",
       "      <td>4</td>\n",
       "      <td>medio</td>\n",
       "      <td>2.0</td>\n",
       "      <td>0.461616</td>\n",
       "      <td>Quinto</td>\n",
       "      <td>2</td>\n",
       "    </tr>\n",
       "    <tr>\n",
       "      <th>2</th>\n",
       "      <td>734</td>\n",
       "      <td>28.909082</td>\n",
       "      <td>29.692499</td>\n",
       "      <td>22.767236</td>\n",
       "      <td>0.000659</td>\n",
       "      <td>0.499757</td>\n",
       "      <td>7.025779</td>\n",
       "      <td>-0.004273</td>\n",
       "      <td>98543.03</td>\n",
       "      <td>5</td>\n",
       "      <td>0.011106</td>\n",
       "      <td>-0.000356</td>\n",
       "      <td>1</td>\n",
       "      <td>forte</td>\n",
       "      <td>4</td>\n",
       "      <td>nenhum</td>\n",
       "      <td>0.0</td>\n",
       "      <td>0.497236</td>\n",
       "      <td>Quinto</td>\n",
       "      <td>2</td>\n",
       "    </tr>\n",
       "    <tr>\n",
       "      <th>3</th>\n",
       "      <td>813</td>\n",
       "      <td>10.658563</td>\n",
       "      <td>11.614771</td>\n",
       "      <td>5.106165</td>\n",
       "      <td>0.000090</td>\n",
       "      <td>0.500056</td>\n",
       "      <td>18.847093</td>\n",
       "      <td>-0.000199</td>\n",
       "      <td>100192.17</td>\n",
       "      <td>5</td>\n",
       "      <td>0.010751</td>\n",
       "      <td>-0.000926</td>\n",
       "      <td>2</td>\n",
       "      <td>forte</td>\n",
       "      <td>4</td>\n",
       "      <td>nenhum</td>\n",
       "      <td>0.0</td>\n",
       "      <td>0.380348</td>\n",
       "      <td>Quinto</td>\n",
       "      <td>2</td>\n",
       "    </tr>\n",
       "    <tr>\n",
       "      <th>4</th>\n",
       "      <td>1133</td>\n",
       "      <td>28.584863</td>\n",
       "      <td>31.938043</td>\n",
       "      <td>21.664453</td>\n",
       "      <td>0.000933</td>\n",
       "      <td>0.494030</td>\n",
       "      <td>18.742737</td>\n",
       "      <td>-0.000385</td>\n",
       "      <td>99098.55</td>\n",
       "      <td>1</td>\n",
       "      <td>0.010607</td>\n",
       "      <td>-0.000047</td>\n",
       "      <td>2</td>\n",
       "      <td>forte</td>\n",
       "      <td>4</td>\n",
       "      <td>nenhum</td>\n",
       "      <td>0.0</td>\n",
       "      <td>0.352365</td>\n",
       "      <td>Primeiro</td>\n",
       "      <td>2</td>\n",
       "    </tr>\n",
       "    <tr>\n",
       "      <th>...</th>\n",
       "      <td>...</td>\n",
       "      <td>...</td>\n",
       "      <td>...</td>\n",
       "      <td>...</td>\n",
       "      <td>...</td>\n",
       "      <td>...</td>\n",
       "      <td>...</td>\n",
       "      <td>...</td>\n",
       "      <td>...</td>\n",
       "      <td>...</td>\n",
       "      <td>...</td>\n",
       "      <td>...</td>\n",
       "      <td>...</td>\n",
       "      <td>...</td>\n",
       "      <td>...</td>\n",
       "      <td>...</td>\n",
       "      <td>...</td>\n",
       "      <td>...</td>\n",
       "      <td>...</td>\n",
       "      <td>...</td>\n",
       "    </tr>\n",
       "    <tr>\n",
       "      <th>2050</th>\n",
       "      <td>104507</td>\n",
       "      <td>34.462732</td>\n",
       "      <td>39.604669</td>\n",
       "      <td>13.136255</td>\n",
       "      <td>0.000003</td>\n",
       "      <td>0.401009</td>\n",
       "      <td>8.293895</td>\n",
       "      <td>-0.000885</td>\n",
       "      <td>99041375.00</td>\n",
       "      <td>8</td>\n",
       "      <td>0.010546</td>\n",
       "      <td>0.003390</td>\n",
       "      <td>1</td>\n",
       "      <td>forte</td>\n",
       "      <td>4</td>\n",
       "      <td>fraco</td>\n",
       "      <td>1.0</td>\n",
       "      <td>0.217134</td>\n",
       "      <td>Oitavo</td>\n",
       "      <td>2</td>\n",
       "    </tr>\n",
       "    <tr>\n",
       "      <th>2051</th>\n",
       "      <td>104509</td>\n",
       "      <td>33.878748</td>\n",
       "      <td>37.651758</td>\n",
       "      <td>14.598352</td>\n",
       "      <td>0.000003</td>\n",
       "      <td>0.413241</td>\n",
       "      <td>4.624342</td>\n",
       "      <td>-0.000959</td>\n",
       "      <td>99014.14</td>\n",
       "      <td>8</td>\n",
       "      <td>0.010212</td>\n",
       "      <td>0.004581</td>\n",
       "      <td>0</td>\n",
       "      <td>forte</td>\n",
       "      <td>4</td>\n",
       "      <td>fraco</td>\n",
       "      <td>1.0</td>\n",
       "      <td>0.217134</td>\n",
       "      <td>Oitavo</td>\n",
       "      <td>2</td>\n",
       "    </tr>\n",
       "    <tr>\n",
       "      <th>2052</th>\n",
       "      <td>104579</td>\n",
       "      <td>34.342401</td>\n",
       "      <td>41.403650</td>\n",
       "      <td>19.521356</td>\n",
       "      <td>0.000199</td>\n",
       "      <td>0.441773</td>\n",
       "      <td>2.069200</td>\n",
       "      <td>-0.001844</td>\n",
       "      <td>98810836.00</td>\n",
       "      <td>8</td>\n",
       "      <td>0.010401</td>\n",
       "      <td>0.002217</td>\n",
       "      <td>0</td>\n",
       "      <td>forte</td>\n",
       "      <td>4</td>\n",
       "      <td>fraco</td>\n",
       "      <td>1.0</td>\n",
       "      <td>0.239179</td>\n",
       "      <td>Oitavo</td>\n",
       "      <td>2</td>\n",
       "    </tr>\n",
       "    <tr>\n",
       "      <th>2053</th>\n",
       "      <td>104746</td>\n",
       "      <td>32.259149</td>\n",
       "      <td>37.568201</td>\n",
       "      <td>12.962457</td>\n",
       "      <td>0.000000</td>\n",
       "      <td>0.412361</td>\n",
       "      <td>7.136313</td>\n",
       "      <td>-0.001447</td>\n",
       "      <td>99141.79</td>\n",
       "      <td>1</td>\n",
       "      <td>0.010241</td>\n",
       "      <td>0.004474</td>\n",
       "      <td>1</td>\n",
       "      <td>forte</td>\n",
       "      <td>4</td>\n",
       "      <td>fraco</td>\n",
       "      <td>1.0</td>\n",
       "      <td>0.243214</td>\n",
       "      <td>Primeiro</td>\n",
       "      <td>2</td>\n",
       "    </tr>\n",
       "    <tr>\n",
       "      <th>2054</th>\n",
       "      <td>104747</td>\n",
       "      <td>32.060907</td>\n",
       "      <td>36.398218</td>\n",
       "      <td>13.721674</td>\n",
       "      <td>0.000000</td>\n",
       "      <td>0.418255</td>\n",
       "      <td>5.149911</td>\n",
       "      <td>-0.001664</td>\n",
       "      <td>99126.25</td>\n",
       "      <td>8</td>\n",
       "      <td>0.010240</td>\n",
       "      <td>0.004580</td>\n",
       "      <td>0</td>\n",
       "      <td>forte</td>\n",
       "      <td>4</td>\n",
       "      <td>fraco</td>\n",
       "      <td>1.0</td>\n",
       "      <td>0.243214</td>\n",
       "      <td>Oitavo</td>\n",
       "      <td>2</td>\n",
       "    </tr>\n",
       "  </tbody>\n",
       "</table>\n",
       "<p>2055 rows × 20 columns</p>\n",
       "</div>"
      ],
      "text/plain": [
       "       index     Temp2m   skinTemp   dewPoint  total_precipitation        RH  \\\n",
       "0        458  20.406335  19.368738  19.408777             0.000000  0.537326   \n",
       "1        479  20.752649  19.689417  19.683069             0.000000  0.536793   \n",
       "2        734  28.909082  29.692499  22.767236             0.000659  0.499757   \n",
       "3        813  10.658563  11.614771   5.106165             0.000090  0.500056   \n",
       "4       1133  28.584863  31.938043  21.664453             0.000933  0.494030   \n",
       "...      ...        ...        ...        ...                  ...       ...   \n",
       "2050  104507  34.462732  39.604669  13.136255             0.000003  0.401009   \n",
       "2051  104509  33.878748  37.651758  14.598352             0.000003  0.413241   \n",
       "2052  104579  34.342401  41.403650  19.521356             0.000199  0.441773   \n",
       "2053  104746  32.259149  37.568201  12.962457             0.000000  0.412361   \n",
       "2054  104747  32.060907  36.398218  13.721674             0.000000  0.418255   \n",
       "\n",
       "      windspeed  total_evaporation  surface_pressure  windquad     UTFVI  \\\n",
       "0      6.248625          -0.000043          99247.55         5  0.012983   \n",
       "1      6.428343          -0.000043          99194.55         5  0.011372   \n",
       "2      7.025779          -0.004273          98543.03         5  0.011106   \n",
       "3     18.847093          -0.000199         100192.17         5  0.010751   \n",
       "4     18.742737          -0.000385          99098.55         1  0.010607   \n",
       "...         ...                ...               ...       ...       ...   \n",
       "2050   8.293895          -0.000885       99041375.00         8  0.010546   \n",
       "2051   4.624342          -0.000959          99014.14         8  0.010212   \n",
       "2052   2.069200          -0.001844       98810836.00         8  0.010401   \n",
       "2053   7.136313          -0.001447          99141.79         1  0.010241   \n",
       "2054   5.149911          -0.001664          99126.25         8  0.010240   \n",
       "\n",
       "       UTFVI2m  windpower   UHIp  UHIn  UHIp2m  UHIn2m      NDVI windquad_cat  \\\n",
       "0     0.007189          1  forte     4   medio     2.0  0.461616       Quinto   \n",
       "1     0.007911          1  forte     4   medio     2.0  0.461616       Quinto   \n",
       "2    -0.000356          1  forte     4  nenhum     0.0  0.497236       Quinto   \n",
       "3    -0.000926          2  forte     4  nenhum     0.0  0.380348       Quinto   \n",
       "4    -0.000047          2  forte     4  nenhum     0.0  0.352365     Primeiro   \n",
       "...        ...        ...    ...   ...     ...     ...       ...          ...   \n",
       "2050  0.003390          1  forte     4   fraco     1.0  0.217134       Oitavo   \n",
       "2051  0.004581          0  forte     4   fraco     1.0  0.217134       Oitavo   \n",
       "2052  0.002217          0  forte     4   fraco     1.0  0.239179       Oitavo   \n",
       "2053  0.004474          1  forte     4   fraco     1.0  0.243214     Primeiro   \n",
       "2054  0.004580          0  forte     4   fraco     1.0  0.243214       Oitavo   \n",
       "\n",
       "      UHIt  \n",
       "0        2  \n",
       "1        2  \n",
       "2        2  \n",
       "3        2  \n",
       "4        2  \n",
       "...    ...  \n",
       "2050     2  \n",
       "2051     2  \n",
       "2052     2  \n",
       "2053     2  \n",
       "2054     2  \n",
       "\n",
       "[2055 rows x 20 columns]"
      ]
     },
     "execution_count": 28,
     "metadata": {},
     "output_type": "execute_result"
    }
   ],
   "source": [
    "df"
   ]
  },
  {
   "cell_type": "code",
   "execution_count": 29,
   "id": "549ad286-fcbf-40b9-acf5-4f5eaf82abc8",
   "metadata": {},
   "outputs": [],
   "source": [
    "# df[['skinTemp','RH','windspeed','windquad','UHIp','UTFVI','windquad_cat','surface_pressure']].to_csv('../random_forest/era5_'+ano+'.csv')\n",
    "df[['skinTemp','RH','windspeed','windquad','UHIp','windquad_cat','surface_pressure','NDVI']].to_csv('../random_forest/era5_modis_'+ano+'.csv')"
   ]
  },
  {
   "cell_type": "code",
   "execution_count": 30,
   "id": "ae7b7865-d6cc-448d-9703-bf6331f3f6ca",
   "metadata": {},
   "outputs": [],
   "source": [
    "quad = {\n",
    "    1:0,\n",
    "    2:1, \n",
    "    3:2,\n",
    "    4:3,\n",
    "    5:4,\n",
    "    6:5,\n",
    "    7:6,\n",
    "    8:7\n",
    "}\n",
    "\n",
    "df['windquad'] = df['windquad'].map(quad) # re-mapping"
   ]
  },
  {
   "cell_type": "code",
   "execution_count": 31,
   "id": "e7cd0d25-0dd1-4d42-a650-ba777ff53031",
   "metadata": {},
   "outputs": [
    {
     "name": "stdout",
     "output_type": "stream",
     "text": [
      "Target 'UHIp'' classes: ['forte', 'muito_forte', 'extremo']\n"
     ]
    }
   ],
   "source": [
    "UTFVI_label = \"UHIp\"   # Name of the classification target label\n",
    "classes = list(df[UTFVI_label].unique())\n",
    "df[UTFVI_label] = df[UTFVI_label].map(classes.index)\n",
    "print(f\"Target '{UTFVI_label}'' classes: {classes}\")"
   ]
  },
  {
   "cell_type": "code",
   "execution_count": 32,
   "id": "4b464a29-a330-43b4-a977-522ece0fd511",
   "metadata": {},
   "outputs": [
    {
     "data": {
      "text/plain": [
       "0    1822\n",
       "1     194\n",
       "2      39\n",
       "Name: UHIp, dtype: int64"
      ]
     },
     "execution_count": 32,
     "metadata": {},
     "output_type": "execute_result"
    }
   ],
   "source": [
    "df['UHIp'].value_counts()"
   ]
  },
  {
   "cell_type": "code",
   "execution_count": 33,
   "id": "a12886cf-087f-44cd-afca-de366781ad8f",
   "metadata": {},
   "outputs": [
    {
     "data": {
      "text/html": [
       "<div>\n",
       "<style scoped>\n",
       "    .dataframe tbody tr th:only-of-type {\n",
       "        vertical-align: middle;\n",
       "    }\n",
       "\n",
       "    .dataframe tbody tr th {\n",
       "        vertical-align: top;\n",
       "    }\n",
       "\n",
       "    .dataframe thead th {\n",
       "        text-align: right;\n",
       "    }\n",
       "</style>\n",
       "<table border=\"1\" class=\"dataframe\">\n",
       "  <thead>\n",
       "    <tr style=\"text-align: right;\">\n",
       "      <th></th>\n",
       "      <th>index</th>\n",
       "      <th>Temp2m</th>\n",
       "      <th>skinTemp</th>\n",
       "      <th>dewPoint</th>\n",
       "      <th>total_precipitation</th>\n",
       "      <th>RH</th>\n",
       "      <th>windspeed</th>\n",
       "      <th>total_evaporation</th>\n",
       "      <th>surface_pressure</th>\n",
       "      <th>windquad</th>\n",
       "      <th>UTFVI</th>\n",
       "      <th>UTFVI2m</th>\n",
       "      <th>windpower</th>\n",
       "      <th>UHIp</th>\n",
       "      <th>UHIn</th>\n",
       "      <th>UHIp2m</th>\n",
       "      <th>UHIn2m</th>\n",
       "      <th>NDVI</th>\n",
       "      <th>windquad_cat</th>\n",
       "      <th>UHIt</th>\n",
       "    </tr>\n",
       "  </thead>\n",
       "  <tbody>\n",
       "    <tr>\n",
       "      <th>0</th>\n",
       "      <td>458</td>\n",
       "      <td>20.406335</td>\n",
       "      <td>19.368738</td>\n",
       "      <td>19.408777</td>\n",
       "      <td>0.000000</td>\n",
       "      <td>0.537326</td>\n",
       "      <td>6.248625</td>\n",
       "      <td>-0.000043</td>\n",
       "      <td>99247.55</td>\n",
       "      <td>4</td>\n",
       "      <td>0.012983</td>\n",
       "      <td>0.007189</td>\n",
       "      <td>1</td>\n",
       "      <td>0</td>\n",
       "      <td>4</td>\n",
       "      <td>medio</td>\n",
       "      <td>2.0</td>\n",
       "      <td>0.461616</td>\n",
       "      <td>Quinto</td>\n",
       "      <td>2</td>\n",
       "    </tr>\n",
       "    <tr>\n",
       "      <th>1</th>\n",
       "      <td>479</td>\n",
       "      <td>20.752649</td>\n",
       "      <td>19.689417</td>\n",
       "      <td>19.683069</td>\n",
       "      <td>0.000000</td>\n",
       "      <td>0.536793</td>\n",
       "      <td>6.428343</td>\n",
       "      <td>-0.000043</td>\n",
       "      <td>99194.55</td>\n",
       "      <td>4</td>\n",
       "      <td>0.011372</td>\n",
       "      <td>0.007911</td>\n",
       "      <td>1</td>\n",
       "      <td>0</td>\n",
       "      <td>4</td>\n",
       "      <td>medio</td>\n",
       "      <td>2.0</td>\n",
       "      <td>0.461616</td>\n",
       "      <td>Quinto</td>\n",
       "      <td>2</td>\n",
       "    </tr>\n",
       "    <tr>\n",
       "      <th>2</th>\n",
       "      <td>734</td>\n",
       "      <td>28.909082</td>\n",
       "      <td>29.692499</td>\n",
       "      <td>22.767236</td>\n",
       "      <td>0.000659</td>\n",
       "      <td>0.499757</td>\n",
       "      <td>7.025779</td>\n",
       "      <td>-0.004273</td>\n",
       "      <td>98543.03</td>\n",
       "      <td>4</td>\n",
       "      <td>0.011106</td>\n",
       "      <td>-0.000356</td>\n",
       "      <td>1</td>\n",
       "      <td>0</td>\n",
       "      <td>4</td>\n",
       "      <td>nenhum</td>\n",
       "      <td>0.0</td>\n",
       "      <td>0.497236</td>\n",
       "      <td>Quinto</td>\n",
       "      <td>2</td>\n",
       "    </tr>\n",
       "    <tr>\n",
       "      <th>3</th>\n",
       "      <td>813</td>\n",
       "      <td>10.658563</td>\n",
       "      <td>11.614771</td>\n",
       "      <td>5.106165</td>\n",
       "      <td>0.000090</td>\n",
       "      <td>0.500056</td>\n",
       "      <td>18.847093</td>\n",
       "      <td>-0.000199</td>\n",
       "      <td>100192.17</td>\n",
       "      <td>4</td>\n",
       "      <td>0.010751</td>\n",
       "      <td>-0.000926</td>\n",
       "      <td>2</td>\n",
       "      <td>0</td>\n",
       "      <td>4</td>\n",
       "      <td>nenhum</td>\n",
       "      <td>0.0</td>\n",
       "      <td>0.380348</td>\n",
       "      <td>Quinto</td>\n",
       "      <td>2</td>\n",
       "    </tr>\n",
       "    <tr>\n",
       "      <th>4</th>\n",
       "      <td>1133</td>\n",
       "      <td>28.584863</td>\n",
       "      <td>31.938043</td>\n",
       "      <td>21.664453</td>\n",
       "      <td>0.000933</td>\n",
       "      <td>0.494030</td>\n",
       "      <td>18.742737</td>\n",
       "      <td>-0.000385</td>\n",
       "      <td>99098.55</td>\n",
       "      <td>0</td>\n",
       "      <td>0.010607</td>\n",
       "      <td>-0.000047</td>\n",
       "      <td>2</td>\n",
       "      <td>0</td>\n",
       "      <td>4</td>\n",
       "      <td>nenhum</td>\n",
       "      <td>0.0</td>\n",
       "      <td>0.352365</td>\n",
       "      <td>Primeiro</td>\n",
       "      <td>2</td>\n",
       "    </tr>\n",
       "    <tr>\n",
       "      <th>...</th>\n",
       "      <td>...</td>\n",
       "      <td>...</td>\n",
       "      <td>...</td>\n",
       "      <td>...</td>\n",
       "      <td>...</td>\n",
       "      <td>...</td>\n",
       "      <td>...</td>\n",
       "      <td>...</td>\n",
       "      <td>...</td>\n",
       "      <td>...</td>\n",
       "      <td>...</td>\n",
       "      <td>...</td>\n",
       "      <td>...</td>\n",
       "      <td>...</td>\n",
       "      <td>...</td>\n",
       "      <td>...</td>\n",
       "      <td>...</td>\n",
       "      <td>...</td>\n",
       "      <td>...</td>\n",
       "      <td>...</td>\n",
       "    </tr>\n",
       "    <tr>\n",
       "      <th>2050</th>\n",
       "      <td>104507</td>\n",
       "      <td>34.462732</td>\n",
       "      <td>39.604669</td>\n",
       "      <td>13.136255</td>\n",
       "      <td>0.000003</td>\n",
       "      <td>0.401009</td>\n",
       "      <td>8.293895</td>\n",
       "      <td>-0.000885</td>\n",
       "      <td>99041375.00</td>\n",
       "      <td>7</td>\n",
       "      <td>0.010546</td>\n",
       "      <td>0.003390</td>\n",
       "      <td>1</td>\n",
       "      <td>0</td>\n",
       "      <td>4</td>\n",
       "      <td>fraco</td>\n",
       "      <td>1.0</td>\n",
       "      <td>0.217134</td>\n",
       "      <td>Oitavo</td>\n",
       "      <td>2</td>\n",
       "    </tr>\n",
       "    <tr>\n",
       "      <th>2051</th>\n",
       "      <td>104509</td>\n",
       "      <td>33.878748</td>\n",
       "      <td>37.651758</td>\n",
       "      <td>14.598352</td>\n",
       "      <td>0.000003</td>\n",
       "      <td>0.413241</td>\n",
       "      <td>4.624342</td>\n",
       "      <td>-0.000959</td>\n",
       "      <td>99014.14</td>\n",
       "      <td>7</td>\n",
       "      <td>0.010212</td>\n",
       "      <td>0.004581</td>\n",
       "      <td>0</td>\n",
       "      <td>0</td>\n",
       "      <td>4</td>\n",
       "      <td>fraco</td>\n",
       "      <td>1.0</td>\n",
       "      <td>0.217134</td>\n",
       "      <td>Oitavo</td>\n",
       "      <td>2</td>\n",
       "    </tr>\n",
       "    <tr>\n",
       "      <th>2052</th>\n",
       "      <td>104579</td>\n",
       "      <td>34.342401</td>\n",
       "      <td>41.403650</td>\n",
       "      <td>19.521356</td>\n",
       "      <td>0.000199</td>\n",
       "      <td>0.441773</td>\n",
       "      <td>2.069200</td>\n",
       "      <td>-0.001844</td>\n",
       "      <td>98810836.00</td>\n",
       "      <td>7</td>\n",
       "      <td>0.010401</td>\n",
       "      <td>0.002217</td>\n",
       "      <td>0</td>\n",
       "      <td>0</td>\n",
       "      <td>4</td>\n",
       "      <td>fraco</td>\n",
       "      <td>1.0</td>\n",
       "      <td>0.239179</td>\n",
       "      <td>Oitavo</td>\n",
       "      <td>2</td>\n",
       "    </tr>\n",
       "    <tr>\n",
       "      <th>2053</th>\n",
       "      <td>104746</td>\n",
       "      <td>32.259149</td>\n",
       "      <td>37.568201</td>\n",
       "      <td>12.962457</td>\n",
       "      <td>0.000000</td>\n",
       "      <td>0.412361</td>\n",
       "      <td>7.136313</td>\n",
       "      <td>-0.001447</td>\n",
       "      <td>99141.79</td>\n",
       "      <td>0</td>\n",
       "      <td>0.010241</td>\n",
       "      <td>0.004474</td>\n",
       "      <td>1</td>\n",
       "      <td>0</td>\n",
       "      <td>4</td>\n",
       "      <td>fraco</td>\n",
       "      <td>1.0</td>\n",
       "      <td>0.243214</td>\n",
       "      <td>Primeiro</td>\n",
       "      <td>2</td>\n",
       "    </tr>\n",
       "    <tr>\n",
       "      <th>2054</th>\n",
       "      <td>104747</td>\n",
       "      <td>32.060907</td>\n",
       "      <td>36.398218</td>\n",
       "      <td>13.721674</td>\n",
       "      <td>0.000000</td>\n",
       "      <td>0.418255</td>\n",
       "      <td>5.149911</td>\n",
       "      <td>-0.001664</td>\n",
       "      <td>99126.25</td>\n",
       "      <td>7</td>\n",
       "      <td>0.010240</td>\n",
       "      <td>0.004580</td>\n",
       "      <td>0</td>\n",
       "      <td>0</td>\n",
       "      <td>4</td>\n",
       "      <td>fraco</td>\n",
       "      <td>1.0</td>\n",
       "      <td>0.243214</td>\n",
       "      <td>Oitavo</td>\n",
       "      <td>2</td>\n",
       "    </tr>\n",
       "  </tbody>\n",
       "</table>\n",
       "<p>2055 rows × 20 columns</p>\n",
       "</div>"
      ],
      "text/plain": [
       "       index     Temp2m   skinTemp   dewPoint  total_precipitation        RH  \\\n",
       "0        458  20.406335  19.368738  19.408777             0.000000  0.537326   \n",
       "1        479  20.752649  19.689417  19.683069             0.000000  0.536793   \n",
       "2        734  28.909082  29.692499  22.767236             0.000659  0.499757   \n",
       "3        813  10.658563  11.614771   5.106165             0.000090  0.500056   \n",
       "4       1133  28.584863  31.938043  21.664453             0.000933  0.494030   \n",
       "...      ...        ...        ...        ...                  ...       ...   \n",
       "2050  104507  34.462732  39.604669  13.136255             0.000003  0.401009   \n",
       "2051  104509  33.878748  37.651758  14.598352             0.000003  0.413241   \n",
       "2052  104579  34.342401  41.403650  19.521356             0.000199  0.441773   \n",
       "2053  104746  32.259149  37.568201  12.962457             0.000000  0.412361   \n",
       "2054  104747  32.060907  36.398218  13.721674             0.000000  0.418255   \n",
       "\n",
       "      windspeed  total_evaporation  surface_pressure  windquad     UTFVI  \\\n",
       "0      6.248625          -0.000043          99247.55         4  0.012983   \n",
       "1      6.428343          -0.000043          99194.55         4  0.011372   \n",
       "2      7.025779          -0.004273          98543.03         4  0.011106   \n",
       "3     18.847093          -0.000199         100192.17         4  0.010751   \n",
       "4     18.742737          -0.000385          99098.55         0  0.010607   \n",
       "...         ...                ...               ...       ...       ...   \n",
       "2050   8.293895          -0.000885       99041375.00         7  0.010546   \n",
       "2051   4.624342          -0.000959          99014.14         7  0.010212   \n",
       "2052   2.069200          -0.001844       98810836.00         7  0.010401   \n",
       "2053   7.136313          -0.001447          99141.79         0  0.010241   \n",
       "2054   5.149911          -0.001664          99126.25         7  0.010240   \n",
       "\n",
       "       UTFVI2m  windpower  UHIp  UHIn  UHIp2m  UHIn2m      NDVI windquad_cat  \\\n",
       "0     0.007189          1     0     4   medio     2.0  0.461616       Quinto   \n",
       "1     0.007911          1     0     4   medio     2.0  0.461616       Quinto   \n",
       "2    -0.000356          1     0     4  nenhum     0.0  0.497236       Quinto   \n",
       "3    -0.000926          2     0     4  nenhum     0.0  0.380348       Quinto   \n",
       "4    -0.000047          2     0     4  nenhum     0.0  0.352365     Primeiro   \n",
       "...        ...        ...   ...   ...     ...     ...       ...          ...   \n",
       "2050  0.003390          1     0     4   fraco     1.0  0.217134       Oitavo   \n",
       "2051  0.004581          0     0     4   fraco     1.0  0.217134       Oitavo   \n",
       "2052  0.002217          0     0     4   fraco     1.0  0.239179       Oitavo   \n",
       "2053  0.004474          1     0     4   fraco     1.0  0.243214     Primeiro   \n",
       "2054  0.004580          0     0     4   fraco     1.0  0.243214       Oitavo   \n",
       "\n",
       "      UHIt  \n",
       "0        2  \n",
       "1        2  \n",
       "2        2  \n",
       "3        2  \n",
       "4        2  \n",
       "...    ...  \n",
       "2050     2  \n",
       "2051     2  \n",
       "2052     2  \n",
       "2053     2  \n",
       "2054     2  \n",
       "\n",
       "[2055 rows x 20 columns]"
      ]
     },
     "execution_count": 33,
     "metadata": {},
     "output_type": "execute_result"
    }
   ],
   "source": [
    "df"
   ]
  },
  {
   "cell_type": "code",
   "execution_count": 34,
   "id": "9cdee1af-7a96-4cf9-bc0d-489190a64954",
   "metadata": {},
   "outputs": [],
   "source": [
    "X = df[feat]\n",
    "y = df['UHIp']"
   ]
  },
  {
   "cell_type": "code",
   "execution_count": 35,
   "id": "ce77924c",
   "metadata": {
    "colab": {
     "base_uri": "https://localhost:8080/"
    },
    "id": "ce77924c",
    "outputId": "99c4927e-7263-4839-b8ff-ee7254c07773"
   },
   "outputs": [
    {
     "name": "stdout",
     "output_type": "stream",
     "text": [
      "Use /tmp/tmp4nye_tlz as temporary training directory\n",
      "Reading training dataset...\n"
     ]
    },
    {
     "name": "stderr",
     "output_type": "stream",
     "text": [
      "2024-02-14 14:55:23.450873: I tensorflow/core/common_runtime/executor.cc:1197] [/device:CPU:0] (DEBUG INFO) Executor start aborting (this does not indicate an error and you can ignore this message): INVALID_ARGUMENT: You must feed a value for placeholder tensor 'Placeholder/_4' with dtype int64 and shape [2055]\n",
      "\t [[{{node Placeholder/_4}}]]\n"
     ]
    },
    {
     "name": "stdout",
     "output_type": "stream",
     "text": [
      "Training dataset read in 0:00:03.532543. Found 2055 examples.\n",
      "Training model...\n",
      "Model trained in 0:00:00.177864\n",
      "Compiling model...\n"
     ]
    },
    {
     "name": "stderr",
     "output_type": "stream",
     "text": [
      "[INFO 24-02-14 14:55:27.1231 -04 kernel.cc:1242] Loading model from path /tmp/tmp4nye_tlz/model/ with prefix c56141ce7e004b55\n",
      "[INFO 24-02-14 14:55:27.1452 -04 decision_forest.cc:660] Model loaded with 300 root(s), 10646 node(s), and 4 input feature(s).\n",
      "[INFO 24-02-14 14:55:27.1452 -04 abstract_model.cc:1311] Engine \"RandomForestGeneric\" built\n",
      "[INFO 24-02-14 14:55:27.1452 -04 kernel.cc:1074] Use fast generic engine\n",
      "2024-02-14 14:55:27.160282: I tensorflow/core/common_runtime/executor.cc:1197] [/device:CPU:0] (DEBUG INFO) Executor start aborting (this does not indicate an error and you can ignore this message): INVALID_ARGUMENT: You must feed a value for placeholder tensor 'Placeholder/_0' with dtype double and shape [2055]\n",
      "\t [[{{node Placeholder/_0}}]]\n"
     ]
    },
    {
     "name": "stdout",
     "output_type": "stream",
     "text": [
      "WARNING:tensorflow:AutoGraph could not transform <function simple_ml_inference_op_with_handle at 0x7fdc135fca60> and will run it as-is.\n",
      "Please report this to the TensorFlow team. When filing the bug, set the verbosity to 10 (on Linux, `export AUTOGRAPH_VERBOSITY=10`) and attach the full output.\n",
      "Cause: could not get source code\n",
      "To silence this warning, decorate the function with @tf.autograph.experimental.do_not_convert\n"
     ]
    },
    {
     "name": "stderr",
     "output_type": "stream",
     "text": [
      "WARNING:tensorflow:AutoGraph could not transform <function simple_ml_inference_op_with_handle at 0x7fdc135fca60> and will run it as-is.\n",
      "Please report this to the TensorFlow team. When filing the bug, set the verbosity to 10 (on Linux, `export AUTOGRAPH_VERBOSITY=10`) and attach the full output.\n",
      "Cause: could not get source code\n",
      "To silence this warning, decorate the function with @tf.autograph.experimental.do_not_convert\n"
     ]
    },
    {
     "name": "stdout",
     "output_type": "stream",
     "text": [
      "WARNING: AutoGraph could not transform <function simple_ml_inference_op_with_handle at 0x7fdc135fca60> and will run it as-is.\n",
      "Please report this to the TensorFlow team. When filing the bug, set the verbosity to 10 (on Linux, `export AUTOGRAPH_VERBOSITY=10`) and attach the full output.\n",
      "Cause: could not get source code\n",
      "To silence this warning, decorate the function with @tf.autograph.experimental.do_not_convert\n",
      "Model compiled.\n"
     ]
    },
    {
     "data": {
      "text/plain": [
       "<keras.callbacks.History at 0x7fdbf9343100>"
      ]
     },
     "execution_count": 35,
     "metadata": {},
     "output_type": "execute_result"
    }
   ],
   "source": [
    "features = feat\n",
    "target = 'UHIp'\n",
    "# features\n",
    "dataset_tf = tf.keras.pd_dataframe_to_tf_dataset(df[features + [target]], label=target)\n",
    "model = tf.keras.RandomForestModel(max_depth=int(md), random_seed = random_state, task=Task.CLASSIFICATION)\n",
    "model.fit(dataset_tf)"
   ]
  },
  {
   "cell_type": "markdown",
   "id": "8486ecf6",
   "metadata": {
    "id": "8486ecf6"
   },
   "source": [
    "## Initialize dtreeviz model (adaptor)\n",
    "\n",
    "To adapt dtreeviz to a specific model, use the `model()` function to get an adaptor.  You'll need to provide the model, X/y data, feature names, target name, and target class names:"
   ]
  },
  {
   "cell_type": "code",
   "execution_count": 36,
   "id": "62573bbc-d0aa-4884-afeb-277783ce090e",
   "metadata": {},
   "outputs": [],
   "source": [
    "# model.summary()"
   ]
  },
  {
   "cell_type": "code",
   "execution_count": 37,
   "id": "be4f2868-3117-4660-879e-7eea06d572d7",
   "metadata": {},
   "outputs": [],
   "source": [
    "# model.make_inspector().variable_importances()"
   ]
  },
  {
   "cell_type": "code",
   "execution_count": 38,
   "id": "dec8052a-f0de-4a94-8f7d-621b2c0f95f8",
   "metadata": {},
   "outputs": [],
   "source": [
    "# inspector = model.make_inspector()\n",
    "# print(\"Model type:\", inspector.model_type())\n",
    "# print(\"Number of trees:\", inspector.num_trees())\n",
    "# print(\"Objective:\", inspector.objective())\n",
    "# print(\"Input features:\", inspector.features())"
   ]
  },
  {
   "cell_type": "code",
   "execution_count": 39,
   "id": "461f1301",
   "metadata": {
    "id": "461f1301"
   },
   "outputs": [],
   "source": [
    "viz_model = dtreeviz.model(model, tree_index=t_index,\n",
    "                             X_train=df[features],\n",
    "                             y_train=df[target],\n",
    "                             feature_names=features,\n",
    "                             target_name='Fenômeno ICU',\n",
    "                             class_names=classes)"
   ]
  },
  {
   "cell_type": "markdown",
   "id": "8c820880",
   "metadata": {
    "id": "8c820880"
   },
   "source": [
    "We'll use this model to demonstrate dtreeviz functionality in the following sections; the code will look the same for any decision tree library once we have this model adaptor."
   ]
  },
  {
   "cell_type": "markdown",
   "id": "1bed128f",
   "metadata": {
    "id": "1bed128f"
   },
   "source": [
    "## Tree structure visualizations\n",
    "To show the decision tree structure using the default visualization, call `view()`:"
   ]
  },
  {
   "cell_type": "code",
   "execution_count": 40,
   "id": "b5603276",
   "metadata": {
    "colab": {
     "base_uri": "https://localhost:8080/",
     "height": 1000
    },
    "id": "b5603276",
    "outputId": "c10b26cd-eff6-41cf-ebef-4134e3ca7ae9"
   },
   "outputs": [
    {
     "ename": "KeyboardInterrupt",
     "evalue": "",
     "output_type": "error",
     "traceback": [
      "\u001b[0;31m---------------------------------------------------------------------------\u001b[0m",
      "\u001b[0;31mKeyboardInterrupt\u001b[0m                         Traceback (most recent call last)",
      "Cell \u001b[0;32mIn[40], line 1\u001b[0m\n\u001b[0;32m----> 1\u001b[0m v \u001b[38;5;241m=\u001b[39m \u001b[43mviz_model\u001b[49m\u001b[38;5;241;43m.\u001b[39;49m\u001b[43mview\u001b[49m\u001b[43m(\u001b[49m\u001b[43mscale\u001b[49m\u001b[38;5;241;43m=\u001b[39;49m\u001b[38;5;241;43m2.1\u001b[39;49m\u001b[43m)\u001b[49m\n\u001b[1;32m      2\u001b[0m v\u001b[38;5;241m.\u001b[39msave(\u001b[38;5;124m\"\u001b[39m\u001b[38;5;124mRF-IMAGES/classification/extremo/\u001b[39m\u001b[38;5;124m\"\u001b[39m\u001b[38;5;241m+\u001b[39mfolder\u001b[38;5;241m+\u001b[39m\u001b[38;5;124m\"\u001b[39m\u001b[38;5;124m/\u001b[39m\u001b[38;5;124m\"\u001b[39m\u001b[38;5;241m+\u001b[39m\u001b[38;5;124m\"\u001b[39m\u001b[38;5;124mRF-UHIn+NDVI x ALL-MD\u001b[39m\u001b[38;5;124m\"\u001b[39m\u001b[38;5;241m+\u001b[39mmd\u001b[38;5;241m+\u001b[39m\u001b[38;5;124m\"\u001b[39m\u001b[38;5;124m-\u001b[39m\u001b[38;5;124m\"\u001b[39m\u001b[38;5;241m+\u001b[39mano\u001b[38;5;241m+\u001b[39m\u001b[38;5;124m\"\u001b[39m\u001b[38;5;124m.svg\u001b[39m\u001b[38;5;124m\"\u001b[39m)\n",
      "File \u001b[0;32m/opt/apps/ml/anaconda3/envs/tese/lib/python3.9/site-packages/dtreeviz/trees.py:562\u001b[0m, in \u001b[0;36mDTreeVizAPI.view\u001b[0;34m(self, precision, orientation, instance_orientation, show_root_edge_labels, show_node_labels, show_just_path, fancy, histtype, leaftype, highlight_path, x, max_X_features_LR, max_X_features_TD, depth_range_to_display, label_fontsize, ticks_fontsize, fontname, title, title_fontsize, colors, scale)\u001b[0m\n\u001b[1;32m    560\u001b[0m \u001b[38;5;28;01mif\u001b[39;00m fancy:\n\u001b[1;32m    561\u001b[0m     \u001b[38;5;28;01mif\u001b[39;00m \u001b[38;5;28mself\u001b[39m\u001b[38;5;241m.\u001b[39mshadow_tree\u001b[38;5;241m.\u001b[39mis_classifier():\n\u001b[0;32m--> 562\u001b[0m         \u001b[43m_class_split_viz\u001b[49m\u001b[43m(\u001b[49m\u001b[43mnode\u001b[49m\u001b[43m,\u001b[49m\u001b[43m \u001b[49m\u001b[43mX_train\u001b[49m\u001b[43m,\u001b[49m\u001b[43m \u001b[49m\u001b[43my_train\u001b[49m\u001b[43m,\u001b[49m\n\u001b[1;32m    563\u001b[0m \u001b[43m                         \u001b[49m\u001b[43mfilename\u001b[49m\u001b[38;5;241;43m=\u001b[39;49m\u001b[38;5;124;43mf\u001b[39;49m\u001b[38;5;124;43m\"\u001b[39;49m\u001b[38;5;132;43;01m{\u001b[39;49;00m\u001b[43mtmp\u001b[49m\u001b[38;5;132;43;01m}\u001b[39;49;00m\u001b[38;5;124;43m/node\u001b[39;49m\u001b[38;5;132;43;01m{\u001b[39;49;00m\u001b[43mnode\u001b[49m\u001b[38;5;241;43m.\u001b[39;49m\u001b[43mid\u001b[49m\u001b[38;5;132;43;01m}\u001b[39;49;00m\u001b[38;5;124;43m_\u001b[39;49m\u001b[38;5;132;43;01m{\u001b[39;49;00m\u001b[43mos\u001b[49m\u001b[38;5;241;43m.\u001b[39;49m\u001b[43mgetpid\u001b[49m\u001b[43m(\u001b[49m\u001b[43m)\u001b[49m\u001b[38;5;132;43;01m}\u001b[39;49;00m\u001b[38;5;124;43m.svg\u001b[39;49m\u001b[38;5;124;43m\"\u001b[39;49m\u001b[43m,\u001b[49m\n\u001b[1;32m    564\u001b[0m \u001b[43m                         \u001b[49m\u001b[43mprecision\u001b[49m\u001b[38;5;241;43m=\u001b[39;49m\u001b[43mprecision\u001b[49m\u001b[43m,\u001b[49m\n\u001b[1;32m    565\u001b[0m \u001b[43m                         \u001b[49m\u001b[43mcolors\u001b[49m\u001b[38;5;241;43m=\u001b[39;49m\u001b[43m{\u001b[49m\u001b[38;5;241;43m*\u001b[39;49m\u001b[38;5;241;43m*\u001b[39;49m\u001b[43mcolor_map\u001b[49m\u001b[43m,\u001b[49m\u001b[43m \u001b[49m\u001b[38;5;241;43m*\u001b[39;49m\u001b[38;5;241;43m*\u001b[39;49m\u001b[43mcolors\u001b[49m\u001b[43m}\u001b[49m\u001b[43m,\u001b[49m\n\u001b[1;32m    566\u001b[0m \u001b[43m                         \u001b[49m\u001b[43mhisttype\u001b[49m\u001b[38;5;241;43m=\u001b[39;49m\u001b[43mhisttype\u001b[49m\u001b[43m,\u001b[49m\n\u001b[1;32m    567\u001b[0m \u001b[43m                         \u001b[49m\u001b[43mnode_heights\u001b[49m\u001b[38;5;241;43m=\u001b[39;49m\u001b[43mnode_heights\u001b[49m\u001b[43m,\u001b[49m\n\u001b[1;32m    568\u001b[0m \u001b[43m                         \u001b[49m\u001b[43mX\u001b[49m\u001b[38;5;241;43m=\u001b[39;49m\u001b[43mx\u001b[49m\u001b[43m,\u001b[49m\n\u001b[1;32m    569\u001b[0m \u001b[43m                         \u001b[49m\u001b[43mticks_fontsize\u001b[49m\u001b[38;5;241;43m=\u001b[39;49m\u001b[43mticks_fontsize\u001b[49m\u001b[43m,\u001b[49m\n\u001b[1;32m    570\u001b[0m \u001b[43m                         \u001b[49m\u001b[43mlabel_fontsize\u001b[49m\u001b[38;5;241;43m=\u001b[39;49m\u001b[43mlabel_fontsize\u001b[49m\u001b[43m,\u001b[49m\n\u001b[1;32m    571\u001b[0m \u001b[43m                         \u001b[49m\u001b[43mfontname\u001b[49m\u001b[38;5;241;43m=\u001b[39;49m\u001b[43mfontname\u001b[49m\u001b[43m,\u001b[49m\n\u001b[1;32m    572\u001b[0m \u001b[43m                         \u001b[49m\u001b[43mhighlight_node\u001b[49m\u001b[38;5;241;43m=\u001b[39;49m\u001b[43mnode\u001b[49m\u001b[38;5;241;43m.\u001b[39;49m\u001b[43mid\u001b[49m\u001b[43m \u001b[49m\u001b[38;5;129;43;01min\u001b[39;49;00m\u001b[43m \u001b[49m\u001b[43mhighlight_path\u001b[49m\u001b[43m)\u001b[49m\n\u001b[1;32m    573\u001b[0m     \u001b[38;5;28;01melse\u001b[39;00m:\n\u001b[1;32m    574\u001b[0m         _regr_split_viz(node, X_train, y_train,\n\u001b[1;32m    575\u001b[0m                         filename\u001b[38;5;241m=\u001b[39m\u001b[38;5;124mf\u001b[39m\u001b[38;5;124m\"\u001b[39m\u001b[38;5;132;01m{\u001b[39;00mtmp\u001b[38;5;132;01m}\u001b[39;00m\u001b[38;5;124m/node\u001b[39m\u001b[38;5;132;01m{\u001b[39;00mnode\u001b[38;5;241m.\u001b[39mid\u001b[38;5;132;01m}\u001b[39;00m\u001b[38;5;124m_\u001b[39m\u001b[38;5;132;01m{\u001b[39;00mos\u001b[38;5;241m.\u001b[39mgetpid()\u001b[38;5;132;01m}\u001b[39;00m\u001b[38;5;124m.svg\u001b[39m\u001b[38;5;124m\"\u001b[39m,\n\u001b[1;32m    576\u001b[0m                         target_name\u001b[38;5;241m=\u001b[39m\u001b[38;5;28mself\u001b[39m\u001b[38;5;241m.\u001b[39mshadow_tree\u001b[38;5;241m.\u001b[39mtarget_name,\n\u001b[0;32m   (...)\u001b[0m\n\u001b[1;32m    582\u001b[0m                         highlight_node\u001b[38;5;241m=\u001b[39mnode\u001b[38;5;241m.\u001b[39mid \u001b[38;5;129;01min\u001b[39;00m highlight_path,\n\u001b[1;32m    583\u001b[0m                         colors\u001b[38;5;241m=\u001b[39mcolors)\n",
      "File \u001b[0;32m/opt/apps/ml/anaconda3/envs/tese/lib/python3.9/site-packages/dtreeviz/trees.py:1181\u001b[0m, in \u001b[0;36m_class_split_viz\u001b[0;34m(node, X_train, y_train, colors, node_heights, filename, ticks_fontsize, label_fontsize, fontname, precision, histtype, X, highlight_node)\u001b[0m\n\u001b[1;32m   1178\u001b[0m         ax\u001b[38;5;241m.\u001b[39mscatter(bucket, y_noise, alpha\u001b[38;5;241m=\u001b[39malpha, marker\u001b[38;5;241m=\u001b[39m\u001b[38;5;124m'\u001b[39m\u001b[38;5;124mo\u001b[39m\u001b[38;5;124m'\u001b[39m, s\u001b[38;5;241m=\u001b[39mdot_w, c\u001b[38;5;241m=\u001b[39mcolors[i],\n\u001b[1;32m   1179\u001b[0m                    edgecolors\u001b[38;5;241m=\u001b[39mcolors[\u001b[38;5;124m'\u001b[39m\u001b[38;5;124medge\u001b[39m\u001b[38;5;124m'\u001b[39m], lw\u001b[38;5;241m=\u001b[39m\u001b[38;5;241m.3\u001b[39m)\n\u001b[1;32m   1180\u001b[0m \u001b[38;5;28;01melse\u001b[39;00m:\n\u001b[0;32m-> 1181\u001b[0m     hist, bins, barcontainers \u001b[38;5;241m=\u001b[39m \u001b[43max\u001b[49m\u001b[38;5;241;43m.\u001b[39;49m\u001b[43mhist\u001b[49m\u001b[43m(\u001b[49m\u001b[43mX_hist\u001b[49m\u001b[43m,\u001b[49m\n\u001b[1;32m   1182\u001b[0m \u001b[43m                                        \u001b[49m\u001b[43mcolor\u001b[49m\u001b[38;5;241;43m=\u001b[39;49m\u001b[43mX_colors\u001b[49m\u001b[43m,\u001b[49m\n\u001b[1;32m   1183\u001b[0m \u001b[43m                                        \u001b[49m\u001b[43malign\u001b[49m\u001b[38;5;241;43m=\u001b[39;49m\u001b[38;5;124;43m'\u001b[39;49m\u001b[38;5;124;43mmid\u001b[39;49m\u001b[38;5;124;43m'\u001b[39;49m\u001b[43m,\u001b[49m\n\u001b[1;32m   1184\u001b[0m \u001b[43m                                        \u001b[49m\u001b[43mhisttype\u001b[49m\u001b[38;5;241;43m=\u001b[39;49m\u001b[43mhisttype\u001b[49m\u001b[43m,\u001b[49m\n\u001b[1;32m   1185\u001b[0m \u001b[43m                                        \u001b[49m\u001b[43mbins\u001b[49m\u001b[38;5;241;43m=\u001b[39;49m\u001b[43mbins\u001b[49m\u001b[43m,\u001b[49m\n\u001b[1;32m   1186\u001b[0m \u001b[43m                                        \u001b[49m\u001b[43mlabel\u001b[49m\u001b[38;5;241;43m=\u001b[39;49m\u001b[43mclass_names\u001b[49m\u001b[43m)\u001b[49m\n\u001b[1;32m   1188\u001b[0m     \u001b[38;5;66;03m# Alter appearance of each bar\u001b[39;00m\n\u001b[1;32m   1189\u001b[0m     \u001b[38;5;28;01mif\u001b[39;00m \u001b[38;5;28misinstance\u001b[39m(barcontainers[\u001b[38;5;241m0\u001b[39m], matplotlib\u001b[38;5;241m.\u001b[39mcontainer\u001b[38;5;241m.\u001b[39mBarContainer):\n",
      "File \u001b[0;32m/opt/apps/ml/anaconda3/envs/tese/lib/python3.9/site-packages/matplotlib/__init__.py:1433\u001b[0m, in \u001b[0;36m_preprocess_data.<locals>.inner\u001b[0;34m(ax, data, *args, **kwargs)\u001b[0m\n\u001b[1;32m   1430\u001b[0m \u001b[38;5;129m@functools\u001b[39m\u001b[38;5;241m.\u001b[39mwraps(func)\n\u001b[1;32m   1431\u001b[0m \u001b[38;5;28;01mdef\u001b[39;00m \u001b[38;5;21minner\u001b[39m(ax, \u001b[38;5;241m*\u001b[39margs, data\u001b[38;5;241m=\u001b[39m\u001b[38;5;28;01mNone\u001b[39;00m, \u001b[38;5;241m*\u001b[39m\u001b[38;5;241m*\u001b[39mkwargs):\n\u001b[1;32m   1432\u001b[0m     \u001b[38;5;28;01mif\u001b[39;00m data \u001b[38;5;129;01mis\u001b[39;00m \u001b[38;5;28;01mNone\u001b[39;00m:\n\u001b[0;32m-> 1433\u001b[0m         \u001b[38;5;28;01mreturn\u001b[39;00m \u001b[43mfunc\u001b[49m\u001b[43m(\u001b[49m\u001b[43max\u001b[49m\u001b[43m,\u001b[49m\u001b[43m \u001b[49m\u001b[38;5;241;43m*\u001b[39;49m\u001b[38;5;28;43mmap\u001b[39;49m\u001b[43m(\u001b[49m\u001b[43msanitize_sequence\u001b[49m\u001b[43m,\u001b[49m\u001b[43m \u001b[49m\u001b[43margs\u001b[49m\u001b[43m)\u001b[49m\u001b[43m,\u001b[49m\u001b[43m \u001b[49m\u001b[38;5;241;43m*\u001b[39;49m\u001b[38;5;241;43m*\u001b[39;49m\u001b[43mkwargs\u001b[49m\u001b[43m)\u001b[49m\n\u001b[1;32m   1435\u001b[0m     bound \u001b[38;5;241m=\u001b[39m new_sig\u001b[38;5;241m.\u001b[39mbind(ax, \u001b[38;5;241m*\u001b[39margs, \u001b[38;5;241m*\u001b[39m\u001b[38;5;241m*\u001b[39mkwargs)\n\u001b[1;32m   1436\u001b[0m     auto_label \u001b[38;5;241m=\u001b[39m (bound\u001b[38;5;241m.\u001b[39marguments\u001b[38;5;241m.\u001b[39mget(label_namer)\n\u001b[1;32m   1437\u001b[0m                   \u001b[38;5;129;01mor\u001b[39;00m bound\u001b[38;5;241m.\u001b[39mkwargs\u001b[38;5;241m.\u001b[39mget(label_namer))\n",
      "File \u001b[0;32m/opt/apps/ml/anaconda3/envs/tese/lib/python3.9/site-packages/matplotlib/axes/_axes.py:6803\u001b[0m, in \u001b[0;36mAxes.hist\u001b[0;34m(self, x, bins, range, density, weights, cumulative, bottom, histtype, align, orientation, rwidth, log, color, label, stacked, **kwargs)\u001b[0m\n\u001b[1;32m   6801\u001b[0m \u001b[38;5;28;01melse\u001b[39;00m:\n\u001b[1;32m   6802\u001b[0m     height \u001b[38;5;241m=\u001b[39m m\n\u001b[0;32m-> 6803\u001b[0m bars \u001b[38;5;241m=\u001b[39m \u001b[43m_barfunc\u001b[49m\u001b[43m(\u001b[49m\u001b[43mbins\u001b[49m\u001b[43m[\u001b[49m\u001b[43m:\u001b[49m\u001b[38;5;241;43m-\u001b[39;49m\u001b[38;5;241;43m1\u001b[39;49m\u001b[43m]\u001b[49m\u001b[38;5;241;43m+\u001b[39;49m\u001b[43mboffset\u001b[49m\u001b[43m,\u001b[49m\u001b[43m \u001b[49m\u001b[43mheight\u001b[49m\u001b[43m,\u001b[49m\u001b[43m \u001b[49m\u001b[43mwidth\u001b[49m\u001b[43m,\u001b[49m\n\u001b[1;32m   6804\u001b[0m \u001b[43m                \u001b[49m\u001b[43malign\u001b[49m\u001b[38;5;241;43m=\u001b[39;49m\u001b[38;5;124;43m'\u001b[39;49m\u001b[38;5;124;43mcenter\u001b[39;49m\u001b[38;5;124;43m'\u001b[39;49m\u001b[43m,\u001b[49m\u001b[43m \u001b[49m\u001b[43mlog\u001b[49m\u001b[38;5;241;43m=\u001b[39;49m\u001b[43mlog\u001b[49m\u001b[43m,\u001b[49m\n\u001b[1;32m   6805\u001b[0m \u001b[43m                \u001b[49m\u001b[43mcolor\u001b[49m\u001b[38;5;241;43m=\u001b[39;49m\u001b[43mc\u001b[49m\u001b[43m,\u001b[49m\u001b[43m \u001b[49m\u001b[38;5;241;43m*\u001b[39;49m\u001b[38;5;241;43m*\u001b[39;49m\u001b[43m{\u001b[49m\u001b[43mbottom_kwarg\u001b[49m\u001b[43m:\u001b[49m\u001b[43m \u001b[49m\u001b[43mbottom\u001b[49m\u001b[43m}\u001b[49m\u001b[43m)\u001b[49m\n\u001b[1;32m   6806\u001b[0m patches\u001b[38;5;241m.\u001b[39mappend(bars)\n\u001b[1;32m   6807\u001b[0m \u001b[38;5;28;01mif\u001b[39;00m stacked:\n",
      "File \u001b[0;32m/opt/apps/ml/anaconda3/envs/tese/lib/python3.9/site-packages/matplotlib/__init__.py:1433\u001b[0m, in \u001b[0;36m_preprocess_data.<locals>.inner\u001b[0;34m(ax, data, *args, **kwargs)\u001b[0m\n\u001b[1;32m   1430\u001b[0m \u001b[38;5;129m@functools\u001b[39m\u001b[38;5;241m.\u001b[39mwraps(func)\n\u001b[1;32m   1431\u001b[0m \u001b[38;5;28;01mdef\u001b[39;00m \u001b[38;5;21minner\u001b[39m(ax, \u001b[38;5;241m*\u001b[39margs, data\u001b[38;5;241m=\u001b[39m\u001b[38;5;28;01mNone\u001b[39;00m, \u001b[38;5;241m*\u001b[39m\u001b[38;5;241m*\u001b[39mkwargs):\n\u001b[1;32m   1432\u001b[0m     \u001b[38;5;28;01mif\u001b[39;00m data \u001b[38;5;129;01mis\u001b[39;00m \u001b[38;5;28;01mNone\u001b[39;00m:\n\u001b[0;32m-> 1433\u001b[0m         \u001b[38;5;28;01mreturn\u001b[39;00m \u001b[43mfunc\u001b[49m\u001b[43m(\u001b[49m\u001b[43max\u001b[49m\u001b[43m,\u001b[49m\u001b[43m \u001b[49m\u001b[38;5;241;43m*\u001b[39;49m\u001b[38;5;28;43mmap\u001b[39;49m\u001b[43m(\u001b[49m\u001b[43msanitize_sequence\u001b[49m\u001b[43m,\u001b[49m\u001b[43m \u001b[49m\u001b[43margs\u001b[49m\u001b[43m)\u001b[49m\u001b[43m,\u001b[49m\u001b[43m \u001b[49m\u001b[38;5;241;43m*\u001b[39;49m\u001b[38;5;241;43m*\u001b[39;49m\u001b[43mkwargs\u001b[49m\u001b[43m)\u001b[49m\n\u001b[1;32m   1435\u001b[0m     bound \u001b[38;5;241m=\u001b[39m new_sig\u001b[38;5;241m.\u001b[39mbind(ax, \u001b[38;5;241m*\u001b[39margs, \u001b[38;5;241m*\u001b[39m\u001b[38;5;241m*\u001b[39mkwargs)\n\u001b[1;32m   1436\u001b[0m     auto_label \u001b[38;5;241m=\u001b[39m (bound\u001b[38;5;241m.\u001b[39marguments\u001b[38;5;241m.\u001b[39mget(label_namer)\n\u001b[1;32m   1437\u001b[0m                   \u001b[38;5;129;01mor\u001b[39;00m bound\u001b[38;5;241m.\u001b[39mkwargs\u001b[38;5;241m.\u001b[39mget(label_namer))\n",
      "File \u001b[0;32m/opt/apps/ml/anaconda3/envs/tese/lib/python3.9/site-packages/matplotlib/axes/_axes.py:2474\u001b[0m, in \u001b[0;36mAxes.bar\u001b[0;34m(self, x, height, width, bottom, align, **kwargs)\u001b[0m\n\u001b[1;32m   2472\u001b[0m     \u001b[38;5;28;01melse\u001b[39;00m:  \u001b[38;5;66;03m# horizontal\u001b[39;00m\n\u001b[1;32m   2473\u001b[0m         r\u001b[38;5;241m.\u001b[39msticky_edges\u001b[38;5;241m.\u001b[39mx\u001b[38;5;241m.\u001b[39mappend(l)\n\u001b[0;32m-> 2474\u001b[0m     \u001b[38;5;28;43mself\u001b[39;49m\u001b[38;5;241;43m.\u001b[39;49m\u001b[43madd_patch\u001b[49m\u001b[43m(\u001b[49m\u001b[43mr\u001b[49m\u001b[43m)\u001b[49m\n\u001b[1;32m   2475\u001b[0m     patches\u001b[38;5;241m.\u001b[39mappend(r)\n\u001b[1;32m   2477\u001b[0m \u001b[38;5;28;01mif\u001b[39;00m xerr \u001b[38;5;129;01mis\u001b[39;00m \u001b[38;5;129;01mnot\u001b[39;00m \u001b[38;5;28;01mNone\u001b[39;00m \u001b[38;5;129;01mor\u001b[39;00m yerr \u001b[38;5;129;01mis\u001b[39;00m \u001b[38;5;129;01mnot\u001b[39;00m \u001b[38;5;28;01mNone\u001b[39;00m:\n",
      "File \u001b[0;32m/opt/apps/ml/anaconda3/envs/tese/lib/python3.9/site-packages/matplotlib/axes/_base.py:2407\u001b[0m, in \u001b[0;36m_AxesBase.add_patch\u001b[0;34m(self, p)\u001b[0m\n\u001b[1;32m   2405\u001b[0m \u001b[38;5;28mself\u001b[39m\u001b[38;5;241m.\u001b[39m_set_artist_props(p)\n\u001b[1;32m   2406\u001b[0m \u001b[38;5;28;01mif\u001b[39;00m p\u001b[38;5;241m.\u001b[39mget_clip_path() \u001b[38;5;129;01mis\u001b[39;00m \u001b[38;5;28;01mNone\u001b[39;00m:\n\u001b[0;32m-> 2407\u001b[0m     \u001b[43mp\u001b[49m\u001b[38;5;241;43m.\u001b[39;49m\u001b[43mset_clip_path\u001b[49m\u001b[43m(\u001b[49m\u001b[38;5;28;43mself\u001b[39;49m\u001b[38;5;241;43m.\u001b[39;49m\u001b[43mpatch\u001b[49m\u001b[43m)\u001b[49m\n\u001b[1;32m   2408\u001b[0m \u001b[38;5;28mself\u001b[39m\u001b[38;5;241m.\u001b[39m_update_patch_limits(p)\n\u001b[1;32m   2409\u001b[0m \u001b[38;5;28mself\u001b[39m\u001b[38;5;241m.\u001b[39m_children\u001b[38;5;241m.\u001b[39mappend(p)\n",
      "File \u001b[0;32m/opt/apps/ml/anaconda3/envs/tese/lib/python3.9/site-packages/matplotlib/artist.py:774\u001b[0m, in \u001b[0;36mArtist.set_clip_path\u001b[0;34m(self, path, transform)\u001b[0m\n\u001b[1;32m    771\u001b[0m \u001b[38;5;28;01mif\u001b[39;00m transform \u001b[38;5;129;01mis\u001b[39;00m \u001b[38;5;28;01mNone\u001b[39;00m:\n\u001b[1;32m    772\u001b[0m     \u001b[38;5;28;01mif\u001b[39;00m \u001b[38;5;28misinstance\u001b[39m(path, Rectangle):\n\u001b[1;32m    773\u001b[0m         \u001b[38;5;28mself\u001b[39m\u001b[38;5;241m.\u001b[39mclipbox \u001b[38;5;241m=\u001b[39m TransformedBbox(Bbox\u001b[38;5;241m.\u001b[39munit(),\n\u001b[0;32m--> 774\u001b[0m                                        \u001b[43mpath\u001b[49m\u001b[38;5;241;43m.\u001b[39;49m\u001b[43mget_transform\u001b[49m\u001b[43m(\u001b[49m\u001b[43m)\u001b[49m)\n\u001b[1;32m    775\u001b[0m         \u001b[38;5;28mself\u001b[39m\u001b[38;5;241m.\u001b[39m_clippath \u001b[38;5;241m=\u001b[39m \u001b[38;5;28;01mNone\u001b[39;00m\n\u001b[1;32m    776\u001b[0m         success \u001b[38;5;241m=\u001b[39m \u001b[38;5;28;01mTrue\u001b[39;00m\n",
      "File \u001b[0;32m/opt/apps/ml/anaconda3/envs/tese/lib/python3.9/site-packages/matplotlib/patches.py:262\u001b[0m, in \u001b[0;36mPatch.get_transform\u001b[0;34m(self)\u001b[0m\n\u001b[1;32m    260\u001b[0m \u001b[38;5;28;01mdef\u001b[39;00m \u001b[38;5;21mget_transform\u001b[39m(\u001b[38;5;28mself\u001b[39m):\n\u001b[1;32m    261\u001b[0m     \u001b[38;5;124;03m\"\"\"Return the `~.transforms.Transform` applied to the `Patch`.\"\"\"\u001b[39;00m\n\u001b[0;32m--> 262\u001b[0m     \u001b[38;5;28;01mreturn\u001b[39;00m \u001b[38;5;28;43mself\u001b[39;49m\u001b[38;5;241;43m.\u001b[39;49m\u001b[43mget_patch_transform\u001b[49m\u001b[43m(\u001b[49m\u001b[43m)\u001b[49m \u001b[38;5;241m+\u001b[39m artist\u001b[38;5;241m.\u001b[39mArtist\u001b[38;5;241m.\u001b[39mget_transform(\u001b[38;5;28mself\u001b[39m)\n",
      "File \u001b[0;32m/opt/apps/ml/anaconda3/envs/tese/lib/python3.9/site-packages/matplotlib/patches.py:754\u001b[0m, in \u001b[0;36mRectangle.get_patch_transform\u001b[0;34m(self)\u001b[0m\n\u001b[1;32m    751\u001b[0m \u001b[38;5;28;01melse\u001b[39;00m:\n\u001b[1;32m    752\u001b[0m     rotation_point \u001b[38;5;241m=\u001b[39m \u001b[38;5;28mself\u001b[39m\u001b[38;5;241m.\u001b[39mrotation_point\n\u001b[1;32m    753\u001b[0m \u001b[38;5;28;01mreturn\u001b[39;00m transforms\u001b[38;5;241m.\u001b[39mBboxTransformTo(bbox) \\\n\u001b[0;32m--> 754\u001b[0m         \u001b[38;5;241m+\u001b[39m \u001b[43mtransforms\u001b[49m\u001b[38;5;241;43m.\u001b[39;49m\u001b[43mAffine2D\u001b[49m\u001b[43m(\u001b[49m\u001b[43m)\u001b[49m \\\n\u001b[1;32m    755\u001b[0m         \u001b[38;5;241m.\u001b[39mtranslate(\u001b[38;5;241m-\u001b[39mrotation_point[\u001b[38;5;241m0\u001b[39m], \u001b[38;5;241m-\u001b[39mrotation_point[\u001b[38;5;241m1\u001b[39m]) \\\n\u001b[1;32m    756\u001b[0m         \u001b[38;5;241m.\u001b[39mscale(\u001b[38;5;241m1\u001b[39m, \u001b[38;5;28mself\u001b[39m\u001b[38;5;241m.\u001b[39m_aspect_ratio_correction) \\\n\u001b[1;32m    757\u001b[0m         \u001b[38;5;241m.\u001b[39mrotate_deg(\u001b[38;5;28mself\u001b[39m\u001b[38;5;241m.\u001b[39mangle) \\\n\u001b[1;32m    758\u001b[0m         \u001b[38;5;241m.\u001b[39mscale(\u001b[38;5;241m1\u001b[39m, \u001b[38;5;241m1\u001b[39m \u001b[38;5;241m/\u001b[39m \u001b[38;5;28mself\u001b[39m\u001b[38;5;241m.\u001b[39m_aspect_ratio_correction) \\\n\u001b[1;32m    759\u001b[0m         \u001b[38;5;241m.\u001b[39mtranslate(\u001b[38;5;241m*\u001b[39mrotation_point)\n",
      "File \u001b[0;32m/opt/apps/ml/anaconda3/envs/tese/lib/python3.9/site-packages/matplotlib/transforms.py:1899\u001b[0m, in \u001b[0;36mAffine2D.__init__\u001b[0;34m(self, matrix, **kwargs)\u001b[0m\n\u001b[1;32m   1896\u001b[0m \u001b[38;5;28msuper\u001b[39m()\u001b[38;5;241m.\u001b[39m\u001b[38;5;21m__init__\u001b[39m(\u001b[38;5;241m*\u001b[39m\u001b[38;5;241m*\u001b[39mkwargs)\n\u001b[1;32m   1897\u001b[0m \u001b[38;5;28;01mif\u001b[39;00m matrix \u001b[38;5;129;01mis\u001b[39;00m \u001b[38;5;28;01mNone\u001b[39;00m:\n\u001b[1;32m   1898\u001b[0m     \u001b[38;5;66;03m# A bit faster than np.identity(3).\u001b[39;00m\n\u001b[0;32m-> 1899\u001b[0m     matrix \u001b[38;5;241m=\u001b[39m \u001b[43mIdentityTransform\u001b[49m\u001b[38;5;241;43m.\u001b[39;49m\u001b[43m_mtx\u001b[49m\u001b[38;5;241;43m.\u001b[39;49m\u001b[43mcopy\u001b[49m\u001b[43m(\u001b[49m\u001b[43m)\u001b[49m\n\u001b[1;32m   1900\u001b[0m \u001b[38;5;28mself\u001b[39m\u001b[38;5;241m.\u001b[39m_mtx \u001b[38;5;241m=\u001b[39m matrix\u001b[38;5;241m.\u001b[39mcopy()\n\u001b[1;32m   1901\u001b[0m \u001b[38;5;28mself\u001b[39m\u001b[38;5;241m.\u001b[39m_invalid \u001b[38;5;241m=\u001b[39m \u001b[38;5;241m0\u001b[39m\n",
      "\u001b[0;31mKeyboardInterrupt\u001b[0m: "
     ]
    },
    {
     "data": {
      "image/png": "[encoded data removed]",
      "text/plain": [
       "<Figure size 330x73.0263 with 1 Axes>"
      ]
     },
     "metadata": {
      "image/png": {
       "height": 125,
       "width": 304
      }
     },
     "output_type": "display_data"
    }
   ],
   "source": [
    "v = viz_model.view(scale=2.1)\n",
    "v.save(\"RF-IMAGES/classification/extremo/\"+folder+\"/\"+\"RF-UHIn+NDVI x ALL-MD\"+md+\"-\"+ano+\".svg\")"
   ]
  },
  {
   "cell_type": "markdown",
   "id": "c1531f06",
   "metadata": {
    "id": "c1531f06"
   },
   "source": [
    "To change the visualization, you can pass parameters, such as changing the orientation to left-to-right:"
   ]
  },
  {
   "cell_type": "code",
   "execution_count": null,
   "id": "6b8761ac",
   "metadata": {
    "colab": {
     "base_uri": "https://localhost:8080/",
     "height": 1000
    },
    "id": "6b8761ac",
    "outputId": "fe6496a3-04e5-4dc6-d6a9-0f36562f4bde"
   },
   "outputs": [],
   "source": [
    "# v = viz_model.view(orientation=\"LR\",scale=2.1)\n",
    "# v.save(\"RF-IMAGES/classification/extremo/\"+folder+\"/\"+\"RF-UHIn x ALL-LR-MD\"+md+\"-\"+ano+\".svg\")"
   ]
  },
  {
   "cell_type": "markdown",
   "id": "73a0eeaa",
   "metadata": {
    "id": "73a0eeaa"
   },
   "source": [
    "To visualize larger trees, you can reduce the amount of detail by turning off the fancy view:"
   ]
  },
  {
   "cell_type": "code",
   "execution_count": null,
   "id": "2135da31",
   "metadata": {
    "colab": {
     "base_uri": "https://localhost:8080/",
     "height": 1000
    },
    "id": "2135da31",
    "outputId": "e901042d-e29d-4bb3-ee43-8dd0582c614e"
   },
   "outputs": [],
   "source": [
    "# viz_model.view(fancy=False)"
   ]
  },
  {
   "cell_type": "markdown",
   "id": "4cda1842",
   "metadata": {
    "id": "4cda1842"
   },
   "source": [
    "Another way to reduce the visualization size is to specify the tree depths of interest:"
   ]
  },
  {
   "cell_type": "code",
   "execution_count": null,
   "id": "4d8b1848",
   "metadata": {
    "colab": {
     "base_uri": "https://localhost:8080/",
     "height": 1000
    },
    "id": "4d8b1848",
    "outputId": "c4274491-208a-4ac2-e46c-36e6dce7d5c0"
   },
   "outputs": [],
   "source": [
    "# v = viz_model.view(depth_range_to_display=(1, 2)) # root is level 0\n",
    "# v.save(\"RF-IMAGES/classification/extremo/\"+folder+\"/\"+\"RF - UHIn - classification-MD\"+md+\"-range-\"+ano+\".svg\")"
   ]
  },
  {
   "cell_type": "markdown",
   "id": "27d17d40",
   "metadata": {
    "id": "27d17d40"
   },
   "source": [
    "## Prediction path explanations\n",
    "\n",
    "For interpretation purposes, we often want to understand how a tree behaves for a specific instance. Let's pick a specific instance:"
   ]
  },
  {
   "cell_type": "code",
   "execution_count": null,
   "id": "fd2187c9",
   "metadata": {
    "colab": {
     "base_uri": "https://localhost:8080/"
    },
    "id": "fd2187c9",
    "outputId": "4ec55196-c267-42cb-dc9a-a5b992a29c98"
   },
   "outputs": [],
   "source": [
    "x = df[features].iloc[np.random.randint(0, len(df)),:].values\n",
    "x"
   ]
  },
  {
   "cell_type": "markdown",
   "id": "d8de4bb5",
   "metadata": {
    "id": "d8de4bb5"
   },
   "source": [
    "and then display the path through the tree structure:"
   ]
  },
  {
   "cell_type": "code",
   "execution_count": null,
   "id": "76c1b01e",
   "metadata": {
    "colab": {
     "base_uri": "https://localhost:8080/",
     "height": 1000
    },
    "id": "76c1b01e",
    "outputId": "5d73a88a-5de2-444a-8276-85b92ba8a2a5"
   },
   "outputs": [],
   "source": [
    "viz_model.view(x=x)\n",
    "# v.save(\"RF-IMAGES/classification/extremo/\"+folder+\"/\"+\"RF - UHIn - classification-MD\"+md+\"-predict-\"+ano+\".svg\")"
   ]
  },
  {
   "cell_type": "code",
   "execution_count": null,
   "id": "9e92844b",
   "metadata": {
    "colab": {
     "base_uri": "https://localhost:8080/",
     "height": 1000
    },
    "id": "9e92844b",
    "outputId": "f0283e4e-7fd5-4e15-9417-98f90f25008b"
   },
   "outputs": [],
   "source": [
    "# v = viz_model.view(x=x, show_just_path=True)\n",
    "# v.save(\"RF-IMAGES/classification/extremo/\"+folder+\"/\"+\"RF - UHIn - classification-MD\"+md+\"-path-\"+ano+\".svg\")"
   ]
  },
  {
   "cell_type": "markdown",
   "id": "6101c689",
   "metadata": {
    "id": "6101c689"
   },
   "source": [
    "You can also get a string representation explaining the comparisons made as an instance is run down the tree:"
   ]
  },
  {
   "cell_type": "code",
   "execution_count": null,
   "id": "d628492a",
   "metadata": {
    "colab": {
     "base_uri": "https://localhost:8080/"
    },
    "id": "d628492a",
    "outputId": "06744111-5815-4ea5-d177-d5f93507762d"
   },
   "outputs": [],
   "source": [
    "print(viz_model.explain_prediction_path(x))"
   ]
  },
  {
   "cell_type": "markdown",
   "id": "5a0ce3de-bb41-40c9-acd1-ad40d5aebff9",
   "metadata": {},
   "source": [
    "# `Features` Importance"
   ]
  },
  {
   "cell_type": "code",
   "execution_count": null,
   "id": "20b01db0-be4e-48dc-a7ea-b83c1e5d79f9",
   "metadata": {},
   "outputs": [],
   "source": [
    "# # let's create a dictionary of features and their importance values\n",
    "# feat_dict= {}\n",
    "# for col, val in sorted(zip(X_train.columns, dt_hp.feature_importances_),key=lambda x:x[1],reverse=True):\n",
    "#   feat_dict[col]=val"
   ]
  },
  {
   "cell_type": "markdown",
   "id": "88bbb700",
   "metadata": {
    "id": "88bbb700"
   },
   "source": [
    "## Leaf info\n",
    "\n",
    "There are a number of functions to get information about the leaves of the tree."
   ]
  },
  {
   "cell_type": "code",
   "execution_count": null,
   "id": "9dd1d2cf",
   "metadata": {
    "colab": {
     "base_uri": "https://localhost:8080/",
     "height": 1000
    },
    "id": "9dd1d2cf",
    "outputId": "cd4cbda0-1baa-44b0-cc8c-e380bd0ea13f"
   },
   "outputs": [],
   "source": [
    "# viz_model.leaf_sizes()"
   ]
  },
  {
   "cell_type": "code",
   "execution_count": null,
   "id": "a733eef0",
   "metadata": {
    "colab": {
     "base_uri": "https://localhost:8080/",
     "height": 1000
    },
    "id": "a733eef0",
    "outputId": "48a6799a-fc68-432b-ff2c-18fc6384dee6"
   },
   "outputs": [],
   "source": [
    "# viz_model.ctree_leaf_distributions()"
   ]
  },
  {
   "cell_type": "code",
   "execution_count": null,
   "id": "92678f59",
   "metadata": {
    "colab": {
     "base_uri": "https://localhost:8080/",
     "height": 300
    },
    "id": "92678f59",
    "outputId": "d9ad27b4-1fe7-47e9-d98e-557c74203024"
   },
   "outputs": [],
   "source": [
    "viz_model.node_stats(node_id=8).T"
   ]
  },
  {
   "cell_type": "code",
   "execution_count": null,
   "id": "1389c597",
   "metadata": {
    "id": "1389c597"
   },
   "outputs": [],
   "source": [
    "# v = viz_model.ctree_feature_space(features=['windspeed'], show={'splits','legend'}, figsize=(10,5))"
   ]
  },
  {
   "cell_type": "code",
   "execution_count": null,
   "id": "287d31d1-847f-4855-8662-cf0121e5b46f",
   "metadata": {},
   "outputs": [],
   "source": [
    "# viz_model.ctree_feature_space(nbins=40, \n",
    "#                               gtype='barstacked', \n",
    "#                               show={'splits','title'}, \n",
    "#                               features=['windspeed','RH'],\n",
    "#                               figsize=(10,5))"
   ]
  },
  {
   "cell_type": "code",
   "execution_count": null,
   "id": "552fcd07-b457-4382-b389-0279964ceb0c",
   "metadata": {},
   "outputs": [],
   "source": [
    "viz_model.ctree_feature_space(features=['windspeed','NDVI'], show={'splits','legend'}, figsize=(5,5))"
   ]
  },
  {
   "cell_type": "code",
   "execution_count": null,
   "id": "eb293c5d-2275-47c6-8281-262f965864a2",
   "metadata": {},
   "outputs": [],
   "source": [
    "# print(f\"Available variable importances:\")\n",
    "# for importance in inspector.variable_importances().keys():\n",
    "#   print(\"\\t\", importance)"
   ]
  },
  {
   "cell_type": "code",
   "execution_count": null,
   "id": "659f173d-cc44-4965-b854-c80a8428c662",
   "metadata": {},
   "outputs": [],
   "source": [
    "# import matplotlib.pyplot as plt\n",
    "\n",
    "# plt.figure(figsize=(12, 4))\n",
    "\n",
    "# # Mean decrease in AUC of the class 1 vs the others.\n",
    "# variable_importance_metric = \"INV_MEAN_MIN_DEPTH\"\n",
    "# variable_importances = inspector.variable_importances()[variable_importance_metric]\n",
    "\n",
    "# # Extract the feature name and importance values.\n",
    "# #\n",
    "# # `variable_importances` is a list of <feature, importance> tuples.\n",
    "# feature_names = [vi[0].name for vi in variable_importances]\n",
    "# feature_importances = [vi[1] for vi in variable_importances]\n",
    "# # The feature are ordered in decreasing importance value.\n",
    "# feature_ranks = range(len(feature_names))\n",
    "\n",
    "# bar = plt.barh(feature_ranks, feature_importances, label=[str(x) for x in feature_ranks])\n",
    "# plt.yticks(feature_ranks, feature_names)\n",
    "# plt.gca().invert_yaxis()\n",
    "\n",
    "# # TODO: Replace with \"plt.bar_label()\" when available.\n",
    "# # Label each bar with values\n",
    "# for importance, patch in zip(feature_importances, bar.patches):\n",
    "#   plt.text(patch.get_x() + patch.get_width(), patch.get_y(), f\"{importance:.4f}\", va=\"top\")\n",
    "\n",
    "# plt.xlabel(variable_importance_metric)\n",
    "# plt.title(\"Mean decrease in AUC of the class 1 vs the others\")\n",
    "# plt.tight_layout()\n",
    "# plt.show()"
   ]
  },
  {
   "cell_type": "code",
   "execution_count": null,
   "id": "dd627b72-784d-42b8-9037-9b7bd605f949",
   "metadata": {},
   "outputs": [],
   "source": [
    "# viz_model.instance_feature_importance(x, figsize=(3.5,2))"
   ]
  },
  {
   "cell_type": "markdown",
   "id": "14868654-1b67-4203-a9fa-d753008f48e0",
   "metadata": {},
   "source": [
    "# Inspect Individual Trees"
   ]
  },
  {
   "cell_type": "code",
   "execution_count": null,
   "id": "2395ca0e-096d-4008-8ea8-37cb33d67a00",
   "metadata": {},
   "outputs": [],
   "source": [
    "# first_tree = inspector.extract_tree(tree_idx=5)\n",
    "# print(first_tree.pretty())"
   ]
  },
  {
   "cell_type": "code",
   "execution_count": null,
   "id": "4cabadf7-9037-4699-bd37-9d60d042860b",
   "metadata": {},
   "outputs": [],
   "source": [
    "import math\n",
    "model.compile(metrics=[\"mse\"])\n",
    "evaluation = model.evaluate(dataset_tf, return_dict=True)\n",
    "\n",
    "print(evaluation)\n",
    "print()\n",
    "print(f\"MSE: {evaluation['mse']}\")\n",
    "print(f\"RMSE: {math.sqrt(evaluation['mse'])}\")"
   ]
  },
  {
   "cell_type": "code",
   "execution_count": null,
   "id": "5dd7966e-1c02-4e05-a06a-d14b81b378ff",
   "metadata": {},
   "outputs": [],
   "source": [
    "inspector = model.make_inspector()\n",
    "print(\"Model type:\", inspector.model_type())\n",
    "print(\"Number of trees:\", inspector.num_trees())\n",
    "print(\"Objective:\", inspector.objective())\n",
    "print(\"Input features:\", inspector.features())"
   ]
  },
  {
   "cell_type": "code",
   "execution_count": null,
   "id": "8d74c2f5-f8d6-4eca-a2e8-079034ce9c92",
   "metadata": {},
   "outputs": [],
   "source": [
    "import matplotlib.pyplot as plt\n",
    "plt.figure(figsize=(12, 4))\n",
    "# Mean decrease in AUC of the class 1 vs the others.\n",
    "variable_importance_metric = \"INV_MEAN_MIN_DEPTH\"\n",
    "variable_importances = inspector.variable_importances()[variable_importance_metric]\n",
    "# Extract the feature name and importance values.\n",
    "#\n",
    "# `variable_importances` is a list of <feature, importance> tuples.\n",
    "feature_names = [vi[0].name for vi in variable_importances]\n",
    "feature_importances = [vi[1] for vi in variable_importances]\n",
    "# The feature are ordered in decreasing importance value.\n",
    "feature_ranks = range(len(feature_names))\n",
    "bar = plt.barh(feature_ranks, feature_importances, label=[str(x) for x in feature_ranks])\n",
    "plt.yticks(feature_ranks, feature_names)\n",
    "plt.gca().invert_yaxis()\n",
    "# TODO: Replace with \"plt.bar_label()\" when available.\n",
    "# Label each bar with values\n",
    "for importance, patch in zip(feature_importances, bar.patches):\n",
    "    plt.text(patch.get_x() + patch.get_width(), patch.get_y(), f\"{importance:.4f}\", va=\"top\")\n",
    "plt.xlabel(variable_importance_metric)## \n",
    "plt.title(\"Features Importance\")\n",
    "plt.tight_layout()\n",
    "plt.show()"
   ]
  },
  {
   "cell_type": "code",
   "execution_count": null,
   "id": "913ee6c4-4e67-4fc0-9b7b-ff2a442ca02d",
   "metadata": {},
   "outputs": [],
   "source": [
    "from sklearn.model_selection import train_test_split\n",
    "X_train, X_test, y_train, y_test = train_test_split(X, y, test_size = 0.30, random_state = 42, stratify=y)"
   ]
  },
  {
   "cell_type": "code",
   "execution_count": null,
   "id": "42fdd516-d498-42b3-ae25-36d700c63c89",
   "metadata": {},
   "outputs": [],
   "source": [
    "# import Random Forest classifier\n",
    "from sklearn.ensemble import RandomForestClassifier\n",
    "# instantiate the classifier\n",
    "rf = RandomForestClassifier(random_state=42, max_depth=int(md))\n",
    "# fit the model\n",
    "rf.fit(X_train, y_train)\n",
    "# Predict the Test set results\n",
    "y_pred = rf.predict(X_test)\n",
    "# Check accuracy score\n",
    "from sklearn.metrics import accuracy_score\n",
    "print('Model accuracy score with 10 decision-trees : {0:0.4f}'.format(accuracy_score(y_test, y_pred)))"
   ]
  },
  {
   "cell_type": "code",
   "execution_count": null,
   "id": "99a425d2-4146-40e6-9c99-515240649a20",
   "metadata": {},
   "outputs": [],
   "source": [
    "# # Extract single tree\n",
    "# estimator = rf.estimators_[5]\n",
    "\n",
    "# from sklearn.tree import export_graphviz\n",
    "# # Export as dot file\n",
    "# export_graphviz(estimator, out_file='tree.dot', \n",
    "#                 feature_names = df[features],\n",
    "#                 class_names = df[target],\n",
    "#                 rounded = True, proportion = False, \n",
    "#                 precision = 2, filled = True)\n",
    "\n",
    "# # Convert to png using system command (requires Graphviz)\n",
    "# from subprocess import call\n",
    "# call(['dot', '-Tpng', 'tree.dot', '-o', 'tree.png', '-Gdpi=600'])\n",
    "\n",
    "# # Display in jupyter notebook\n",
    "# from IPython.display import Image\n",
    "# Image(filename = 'tree.png')"
   ]
  },
  {
   "cell_type": "code",
   "execution_count": null,
   "id": "2eed09f7-67a6-47d1-be47-2cfba3ffea22",
   "metadata": {},
   "outputs": [],
   "source": [
    "#HABILITAR SOMENTE PARA ENCONTRAR OS MELHORES PARÂMETROS\n",
    "from sklearn.model_selection import GridSearchCV\n",
    "param_grid = {\n",
    "    'n_estimators': [200, 300, 500],\n",
    "    'max_features': ['sqrt', 'log2'],\n",
    "    'max_depth' : [4,5,6,7,8],\n",
    "    'criterion' :['gini', 'entropy']\n",
    "}"
   ]
  },
  {
   "cell_type": "code",
   "execution_count": null,
   "id": "0d4a6156-6c00-4612-b756-b340c9beec24",
   "metadata": {},
   "outputs": [],
   "source": [
    "CV_rfc = GridSearchCV(estimator=rf, param_grid=param_grid, cv= 5)\n",
    "# CV_rfc.fit(X_train, y_train)\n",
    "# print(CV_rfc.cv_results_)\n",
    "# print(CV_rfc.best_params_)\n",
    "# print(CV_rfc.best_estimator_)"
   ]
  },
  {
   "cell_type": "code",
   "execution_count": null,
   "id": "5fb96112-a2e2-4603-a74d-6479db92fbbb",
   "metadata": {},
   "outputs": [],
   "source": [
    "rfc1=RandomForestClassifier(random_state=random_state, max_features='sqrt', n_estimators= 500, max_depth=int(md), criterion='gini')\n",
    "rfc1.fit(X_train, y_train)\n",
    "\n",
    "pred=rfc1.predict(X_test)\n",
    "print(\"Accuracy for Random Forest on CV data: \",accuracy_score(y_test,pred))"
   ]
  },
  {
   "cell_type": "code",
   "execution_count": null,
   "id": "1b51512d-ab29-49af-abe5-900707fbbcee",
   "metadata": {},
   "outputs": [],
   "source": [
    "def plot_search_results(grid):\n",
    "    \"\"\"\n",
    "    Params:\n",
    "    grid: A trained GridSearchCV object.\n",
    "    \"\"\"\n",
    "    ## Results from grid search\n",
    "    results = grid.cv_results_\n",
    "    means_test = results['mean_test_score']\n",
    "    stds_test = results['std_test_score']\n",
    "    means_train = results['mean_score_time']\n",
    "    stds_train = results['std_score_time']\n",
    "    ## Getting indexes of values per hyper-parameter\n",
    "    masks=[]\n",
    "    masks_names= list(grid.best_params_.keys())\n",
    "    for p_k, p_v in grid.best_params_.items():\n",
    "        masks.append(list(results['param_'+p_k].data==p_v))\n",
    "    params=grid.param_grid\n",
    "    ## Ploting results\n",
    "    fig, ax = plt.subplots(1,len(params),sharex='none',sharey='all',figsize=(20,5))\n",
    "    fig.suptitle('Score per parameter')\n",
    "    fig.text(0.04, 0.5, 'MEAN SCORE', va='center', rotation='vertical')\n",
    "    pram_preformace_in_best = {}\n",
    "    for i, p in enumerate(masks_names):\n",
    "        m = np.stack(masks[:i] + masks[i+1:])\n",
    "        pram_preformace_in_best\n",
    "        best_parms_mask = m.all(axis=0)\n",
    "        best_index = np.where(best_parms_mask)[0]\n",
    "        x = np.array(params[p])\n",
    "        y_1 = np.array(means_test[best_index])\n",
    "        e_1 = np.array(stds_test[best_index])\n",
    "        y_2 = np.array(means_train[best_index])\n",
    "        e_2 = np.array(stds_train[best_index])\n",
    "        ax[i].errorbar(x, y_1, e_1, linestyle='--', marker='o', label='test')\n",
    "        ax[i].errorbar(x, y_2, e_2, linestyle='-', marker='^',label='train' )\n",
    "        ax[i].set_xlabel(p.upper())\n",
    "    plt.legend()\n",
    "    plt.show()"
   ]
  },
  {
   "cell_type": "code",
   "execution_count": null,
   "id": "95d65c66-93f8-4d1f-936b-283ff6dddfb4",
   "metadata": {},
   "outputs": [],
   "source": [
    "# plot_search_results(CV_rfc)"
   ]
  },
  {
   "cell_type": "code",
   "execution_count": null,
   "id": "e6123f36-6946-4804-be72-2d9c98e11999",
   "metadata": {},
   "outputs": [],
   "source": [
    "import seaborn as sns\n",
    "def plot_cv_results(cv_results, param_x, param_z, metric='rank_test_score'):\n",
    "    \"\"\"\n",
    "    cv_results - cv_results_ attribute of a GridSearchCV instance (or similar)\n",
    "    param_x - name of grid search parameter to plot on x axis\n",
    "    param_z - name of grid search parameter to plot by line color\n",
    "    \"\"\"\n",
    "    cv_results = pd.DataFrame(cv_results)\n",
    "    col_x = 'param_' + param_x\n",
    "    col_z = 'param_' + param_z\n",
    "    fig, ax = plt.subplots(1, 1, figsize=(11, 8))\n",
    "    sns.pointplot(x=col_x, y=metric, hue=col_z, data=cv_results, errorbar=('ci', 99), n_boot=64, ax=ax)\n",
    "    ax.set_title(\"CV Grid Search Results\")\n",
    "    ax.set_xlabel(param_x)\n",
    "    ax.set_ylabel(metric)\n",
    "    ax.legend(title=param_z)\n",
    "    return fig"
   ]
  },
  {
   "cell_type": "code",
   "execution_count": null,
   "id": "d2a3111f-0a7a-4d46-a9b4-2c1067b1a826",
   "metadata": {},
   "outputs": [],
   "source": [
    "from sklearn.model_selection import RandomizedSearchCV\n",
    "rf_RandomGrid = RandomizedSearchCV(estimator = rf, param_distributions = param_grid, cv = 10, verbose=2, n_jobs = 4)\n",
    "rf_RandomGrid.fit(X_train, y_train)"
   ]
  },
  {
   "cell_type": "code",
   "execution_count": null,
   "id": "c01eb7a3-f82c-4a92-b3a5-41c39a611cfb",
   "metadata": {},
   "outputs": [],
   "source": [
    "print (f'Train Accuracy - : {rf_RandomGrid.score(X_train,y_train):.3f}')\n",
    "print (f'Test Accuracy - : {rf_RandomGrid.score(X_test,y_test):.3f}')"
   ]
  },
  {
   "cell_type": "code",
   "execution_count": null,
   "id": "07be2156-6463-4046-b1ff-35c4a7373a07",
   "metadata": {},
   "outputs": [],
   "source": [
    "rf_RandomGrid.best_params_"
   ]
  },
  {
   "cell_type": "code",
   "execution_count": null,
   "id": "19d431d3-ca32-49b2-b5ed-ea9ec7cff22f",
   "metadata": {},
   "outputs": [],
   "source": [
    "esti = rf_RandomGrid.best_estimator_.n_estimators\n",
    "mf = rf_RandomGrid.best_estimator_.max_features\n",
    "md = rf_RandomGrid.best_estimator_.max_depth\n",
    "crit = rf_RandomGrid.best_estimator_.criterion\n",
    "esti,mf,md,crit"
   ]
  },
  {
   "cell_type": "code",
   "execution_count": null,
   "id": "42f98855-68ef-4305-a518-3f8e6183cac4",
   "metadata": {},
   "outputs": [],
   "source": [
    "# instantiate the classifier with n_estimators = 100\n",
    "rfc_100 = RandomForestClassifier(n_estimators=esti, max_depth=md, random_state=42, max_features=mf, criterion=crit)\n",
    "# fit the model to the training set\n",
    "rfc_100.fit(X_train, y_train)\n",
    "# Predict on the test set results\n",
    "y_pred_100 = rfc_100.predict(X_test)\n",
    "# Check accuracy score\n",
    "print('Model accuracy score with 500 decision-trees : {0:0.4f}'.format(accuracy_score(y_test, y_pred_100)))"
   ]
  },
  {
   "cell_type": "code",
   "execution_count": null,
   "id": "229360a9-809f-40a6-8f42-dbda32d42280",
   "metadata": {},
   "outputs": [],
   "source": [
    "pred=rfc1.predict(X_test)\n",
    "print(\"Accuracy for Random Forest on CV data: {0:0.4f} \".format(accuracy_score(y_test,pred)))"
   ]
  },
  {
   "cell_type": "code",
   "execution_count": null,
   "id": "20ba2f72-96f8-4645-87cb-23641f1f13a1",
   "metadata": {},
   "outputs": [],
   "source": [
    "# view the feature scores\n",
    "feature_scores = pd.Series(rfc1.feature_importances_, index=X_train.columns).sort_values(ascending=False)\n",
    "feature_scores"
   ]
  },
  {
   "cell_type": "code",
   "execution_count": null,
   "id": "100e85ac-29f7-4f81-879f-076a182e005e",
   "metadata": {},
   "outputs": [],
   "source": [
    "# import seaborn as sns\n",
    "# import matplotlib.pyplot as plt\n",
    "# Creating a seaborn bar plot\n",
    "sns.barplot(x=feature_scores, y=feature_scores.index)\n",
    "# Add labels to the graph\n",
    "plt.xlabel('Pontuação')\n",
    "plt.ylabel('Variáveis Climáticas')\n",
    "# Add title to the graph\n",
    "plt.title(\"Variáveis importantes\")\n",
    "# Visualize the graph\n",
    "plt.show()"
   ]
  },
  {
   "cell_type": "code",
   "execution_count": null,
   "id": "ee353c6d-5e0e-4eb5-9d6e-af55fd0fa989",
   "metadata": {},
   "outputs": [],
   "source": [
    "# split data into training and testing sets\n",
    "from sklearn.model_selection import train_test_split\n",
    "X_train, X_test, y_train, y_test = train_test_split(X, y, test_size = 0.30,random_state = 42)"
   ]
  },
  {
   "cell_type": "code",
   "execution_count": null,
   "id": "d1fbf483-9953-4245-bdc4-1632f180e7da",
   "metadata": {},
   "outputs": [],
   "source": [
    "# instantiate the classifier with n_estimators = 100\n",
    "clf = RandomForestClassifier(random_state=random_state)\n",
    "# fit the model to the training set\n",
    "clf.fit(X_train, y_train)\n",
    "# Predict on the test set results\n",
    "y_pred = clf.predict(X_test)\n",
    "# Check accuracy score\n",
    "print('Model accuracy score with doors variable removed : {0:0.4f}'.format(accuracy_score(y_test, y_pred)))"
   ]
  },
  {
   "cell_type": "code",
   "execution_count": null,
   "id": "ad0d0385-5a52-44f6-94d6-ad3b15f15dd5",
   "metadata": {},
   "outputs": [],
   "source": [
    "from sklearn.metrics import classification_report, recall_score\n",
    "print(classification_report(y_test, y_pred))\n",
    "# print(\"Specificity\")\n",
    "# specificity = recall_score(y_test,y_pred, pos_label=0)\n",
    "# print(\"Specificity or True Negative Rate: \", specificity)"
   ]
  },
  {
   "cell_type": "code",
   "execution_count": null,
   "id": "1fe5372d-f704-4c8e-ab16-42eabe780e1c",
   "metadata": {},
   "outputs": [],
   "source": [
    "from sklearn.ensemble import RandomForestClassifier # from xgboost import XGBClassifier\n",
    "model = RandomForestClassifier() # XGBClassifier()\n",
    "model.fit(X, y)\n",
    "pd.DataFrame({'Variable':X.columns, 'Importance':model.feature_importances_}).sort_values('Importance', ascending=False)"
   ]
  },
  {
   "cell_type": "code",
   "execution_count": null,
   "id": "dfb47936-76dc-4ebd-b3f8-2cbe7272daf9",
   "metadata": {},
   "outputs": [],
   "source": [
    "g = sns.pairplot(df[['UHIp','RH','windspeed','windquad','skinTemp','NDVI']], hue='UHIp')\n",
    "g.fig.suptitle(\"Scatterplot e Histograma dos pares de variáveis codificado pela Direção do Vento\",y=1.05);"
   ]
  },
  {
   "cell_type": "code",
   "execution_count": null,
   "id": "efd76cea-e3a0-4d80-8360-f9c351d84d41",
   "metadata": {},
   "outputs": [],
   "source": [
    "# shap.dependence_plot('RH', shap_values, X_train)"
   ]
  },
  {
   "cell_type": "code",
   "execution_count": null,
   "id": "19904c83-8182-4778-ac12-1b0d693cd3c3",
   "metadata": {},
   "outputs": [],
   "source": [
    "X = df[feat] #drop(['windquad','windquad_cat','dewPoint','surface_pressure','skinTemp','UTFVI','windpower' ,axis=1)\n",
    "y = df['UHIp']\n",
    "X,y"
   ]
  },
  {
   "cell_type": "code",
   "execution_count": null,
   "id": "6b5babd6-a00a-4512-a531-6f10936a3513",
   "metadata": {},
   "outputs": [],
   "source": [
    "X_train, X_test, y_train, y_test = train_test_split(X, y, test_size=0.3, random_state=42)\n",
    "# model = RandomForestClassifier(n_estimators=500, max_depth=int(md), max_features='sqrt', random_state=random_state, criterion='gini')\n",
    "model = RandomForestClassifier(n_estimators=esti, max_depth=int(md), max_features=mf, random_state=random_state, criterion=crit)\n",
    "# Fit RandomForestClassifier\n",
    "rfc = model.fit(X_train, y_train)\n",
    "# Predict the test set labels\n",
    "# y_pred = rfc.predict(X_test)\n",
    "print('o R² do treino é: %.2f'% rfc.score(X_train, y_train))"
   ]
  },
  {
   "cell_type": "code",
   "execution_count": null,
   "id": "f5efea27-70ac-45d8-b4fb-d413bd1a75b8",
   "metadata": {},
   "outputs": [],
   "source": [
    "#prediction of the training data\n",
    "ytrain_pred = rfc.predict(X_train)\n",
    "print('Mean Absolute Error: %.2f'% mean_absolute_error(y_train, ytrain_pred))\n",
    "print('Mean Squared Error: %.2f'% mean_squared_error(y_train, ytrain_pred))\n",
    "print('Root Mean Squared Error: %.2f'% np.sqrt(mean_squared_error(y_train, ytrain_pred)))\n",
    "print('Explained Variance Score: %.2f'% explained_variance_score(y_train, ytrain_pred))"
   ]
  },
  {
   "cell_type": "code",
   "execution_count": null,
   "id": "897a7bc3-4280-45d7-943c-caa1abd565e5",
   "metadata": {},
   "outputs": [],
   "source": [
    "#Prediction on the testing data\n",
    "ytest_pred = rfc.predict(X_test)\n",
    "#the testing coef of determination\n",
    "print('O R² do Teste é: %.2f'% r2_score(y_test, ytest_pred))\n",
    "print('O R² do Teste é: %.2f'% rfc.score(X_test, y_test))"
   ]
  },
  {
   "cell_type": "code",
   "execution_count": null,
   "id": "c2886ed2-f3fc-4139-b75d-ff3fab7b1ec2",
   "metadata": {},
   "outputs": [],
   "source": [
    "print('Mean Absolute Error: %.2f'% mean_absolute_error(y_test, y_pred))\n",
    "print('Mean Squared Error: %.2f'% mean_squared_error(y_test, y_pred))\n",
    "print('Root Mean Squared Error: %.2f'% np.sqrt(mean_squared_error(y_test, y_pred)))\n",
    "print('Explained Variance Score: %.2f'% explained_variance_score(y_test, y_pred))"
   ]
  },
  {
   "cell_type": "code",
   "execution_count": null,
   "id": "59b45aa9-a130-4320-a3b8-da2c65f50bbb",
   "metadata": {},
   "outputs": [],
   "source": [
    "print('Mean Absolute Error: %.2f'% mean_absolute_error(y_test, ytest_pred))\n",
    "print('Mean Squared Error: %.2f'% mean_squared_error(y_test, ytest_pred))\n",
    "print('Root Mean Squared Error: %.2f'% np.sqrt(mean_squared_error(y_test, ytest_pred)))\n",
    "print('Explained Variance Score: %.2f'% explained_variance_score(y_test, ytest_pred))"
   ]
  },
  {
   "cell_type": "code",
   "execution_count": null,
   "id": "ff89f806-1b24-4286-a585-60b4c4dcb0b0",
   "metadata": {},
   "outputs": [],
   "source": [
    "y_test"
   ]
  },
  {
   "cell_type": "code",
   "execution_count": null,
   "id": "81731d2b-b09e-4db5-8467-22f0a0b465a1",
   "metadata": {},
   "outputs": [],
   "source": [
    "# Plotting the observed and predicted data\n",
    "import matplotlib.pyplot as plt\n",
    "# Setting the boundaries and parameters\n",
    "plt.rcParams['figure.figsize'] = (40,15)\n",
    "x_ax = range(len(X_test))\n",
    "# Plotting\n",
    "plt.plot(x_ax, y_test, label='Observado', color = 'k', linestyle = '-')\n",
    "plt.plot(x_ax, ytest_pred, label = 'Previsto', color = 'k', linestyle = '--')\n",
    "plt.ylabel('Fenômeno ICU', fontsize=15)\n",
    "plt.xlabel('Testando Dados Amostrais',fontsize=15)\n",
    "plt.legend(bbox_to_anchor = (0.5, -0.2), loc = 'lower center', ncol = 2, frameon =\n",
    "False,fontsize=15)\n",
    "# plt.show()\n",
    "plt.savefig(\"RF-IMAGES/classification/extremo/\"+folder+\"/\"+\"RF-WINDQUAD+NDVIxall-MD\"+str(md)+\"-\"+ano+\".png\")"
   ]
  },
  {
   "cell_type": "code",
   "execution_count": null,
   "id": "2d6511d6-da47-49e1-a370-0eafb22f3f60",
   "metadata": {},
   "outputs": [],
   "source": [
    "#Plotting the classification errors and residuals\n",
    "# Setting the boundaries and parameters\n",
    "plt.rcParams['figure.figsize'] = (7,4)\n",
    "from yellowbrick.classifier import ClassificationReport\n",
    "visualizer = ClassificationReport(rfc,classes=classes, support=True)\n",
    "visualizer.fit(X_train, y_train)\n",
    "visualizer.score(X_test, y_test)\n",
    "visualizer.poof()"
   ]
  },
  {
   "cell_type": "code",
   "execution_count": null,
   "id": "dfc83ef0-981d-4119-a408-0d8b8e469d8a",
   "metadata": {},
   "outputs": [],
   "source": [
    "from yellowbrick.classifier import ConfusionMatrix\n",
    "cm = ConfusionMatrix( rfc, \n",
    "                     classes=classes, \n",
    "                     percent=True\n",
    "                     #label_encoder={0: 'Forte', 1: 'Muito Forte', 2: 'Extremo'}\n",
    ")\n",
    "cm.fit(X_train, y_train)\n",
    "cm.score(X_test, y_test)\n",
    "cm.show();"
   ]
  },
  {
   "cell_type": "code",
   "execution_count": null,
   "id": "b1f17cc0-6e9a-456c-b8c9-c43b3747c6ce",
   "metadata": {},
   "outputs": [],
   "source": [
    "from yellowbrick.classifier import ClassPredictionError\n",
    "visualizer = ClassPredictionError(rfc, classes=classes)\n",
    "visualizer.fit(X_train, y_train)\n",
    "visualizer.score(X_test, y_test)\n",
    "visualizer.show();"
   ]
  },
  {
   "cell_type": "code",
   "execution_count": null,
   "id": "40d36ee5-1b66-495c-a914-fb9fecaf5ec0",
   "metadata": {},
   "outputs": [],
   "source": [
    "from yellowbrick.model_selection import FeatureImportances\n",
    "from sklearn.ensemble import RandomForestClassifier\n",
    "visualizer = FeatureImportances(rfc)\n",
    "visualizer.fit(X_train, y_train)\n",
    "visualizer.show();"
   ]
  },
  {
   "cell_type": "code",
   "execution_count": null,
   "id": "8f84254d-e36d-4037-994a-bcff66903a66",
   "metadata": {},
   "outputs": [],
   "source": [
    "cm = confusion_matrix(y_test, y_pred)\n",
    "print('Confusion Matrix : \\n', cm)\n",
    "#####from confusion matrix calculate accuracy\n",
    "total1=sum(sum(cm))\n",
    "accuracy1=(cm[0,0]+cm[1,1])/total1\n",
    "print ('Accuracy : ', accuracy1)\n",
    "\n",
    "sensitivity1 = cm[0,0]/(cm[0,0]+cm[0,1])\n",
    "print('Sensitivity : ', sensitivity1 )\n",
    "\n",
    "specificity1 = cm[1,1]/(cm[1,0]+cm[1,1])\n",
    "print('Specificity : ', specificity1)"
   ]
  },
  {
   "cell_type": "code",
   "execution_count": null,
   "id": "2fcbbe51-2662-4db6-8dba-9ab2425dfee5",
   "metadata": {},
   "outputs": [],
   "source": [
    "print(classes)"
   ]
  },
  {
   "cell_type": "code",
   "execution_count": null,
   "id": "a94b2eee-677d-4981-9d33-45d130dbb009",
   "metadata": {},
   "outputs": [],
   "source": [
    "# from sklearn.linear_model import LogisticRegression\n",
    "# X, y = load_spam()\n",
    "# X_train, X_test, y_train, y_test = train_test_split(X, y, stratify=y)\n",
    "# model = LogisticRegression(max_iter=10000)\n",
    "# model.fit(X_train, y_train)"
   ]
  },
  {
   "cell_type": "code",
   "execution_count": null,
   "id": "1027d901-8042-4ab6-9d98-dd730d7f7aab",
   "metadata": {},
   "outputs": [],
   "source": [
    "from yellowbrick.classifier import ROCAUC\n",
    "visualizer = ROCAUC(rfc, classes = classes) #['Segundo', 'Oitavo', 'Primeiro', 'Sétimo', 'Terceiro', 'Quarto', 'Quinto', 'Sexto'])\n",
    "visualizer.fit(X_train, y_train)\n",
    "visualizer.score(X_test, y_test)\n",
    "visualizer.show();"
   ]
  },
  {
   "cell_type": "code",
   "execution_count": null,
   "id": "4f43ef4f-3180-4e06-a86f-19efa867aabb",
   "metadata": {},
   "outputs": [],
   "source": [
    "from sklearn.svm import LinearSVC\n",
    "from yellowbrick.classifier import ROCAUC\n",
    "model = LinearSVC()\n",
    "visualizer = ROCAUC(model)\n",
    "visualizer.fit(X,y)\n",
    "visualizer.score(X,y)\n",
    "visualizer.show()"
   ]
  },
  {
   "cell_type": "code",
   "execution_count": null,
   "id": "b45c58b6-7b00-4419-8b0a-a0f15ed8f17b",
   "metadata": {},
   "outputs": [],
   "source": [
    "from sklearn.metrics import classification_report, confusion_matrix\n",
    "cm = confusion_matrix(y_test, y_pred)\n",
    "sns.heatmap(cm, annot=True, fmt='d').set_title('Matriz de Confusão - Fenômeno ICU')\n",
    "print(classification_report(y_test,y_pred))"
   ]
  },
  {
   "cell_type": "code",
   "execution_count": null,
   "id": "7d68096c-0c92-4167-a012-4559245a646b",
   "metadata": {},
   "outputs": [],
   "source": [
    "# # Organizing feature names and importances in a DataFrame\n",
    "# features_df = pd.DataFrame({'features': rfc.feature_names_in_, 'importances': rfc.feature_importances_ })\n",
    "# # Sorting data from highest to lowest\n",
    "# features_df_sorted = features_df.sort_values(by='importances', ascending=False)\n",
    "# # Barplot of the result without borders and axis lines\n",
    "# g = sns.barplot(data=features_df_sorted, x='importances', y ='features', palette=\"rocket\")\n",
    "# sns.despine(bottom = True, left = True)\n",
    "# g.set_title('Importância das Variáveis Climáticas')\n",
    "# g.set(xlabel=None)\n",
    "# g.set(ylabel=None)\n",
    "# g.set(xticks=[])\n",
    "# for value in g.containers:\n",
    "#     g.bar_label(value, padding=2)\n",
    "# # plt.savefig('importance features '+ano)\n",
    "# plt.savefig(\"RF-IMAGES/classification/extremo/\"+folder+\"/\"+\"RF-WINDQUADxall-MD\"+str(md)+\"-\"+ano+\".png\"))\n",
    "plt.rcParams['figure.figsize'] = (10,7)\n",
    "# Organizing feature names and importances in a DataFrame\n",
    "features_df = pd.DataFrame({'features': rfc.feature_names_in_, 'importances': rfc.feature_importances_ })\n",
    "# Sorting data from highest to lowest\n",
    "features_df_sorted = features_df.sort_values(by='importances', ascending=False)\n",
    "# Barplot of the result without borders and axis lines\n",
    "g = sns.barplot(data=features_df_sorted, x='importances', y ='features', palette=\"rocket\")\n",
    "sns.despine(bottom = True, left = True)\n",
    "sns.set(font_scale=1.2)\n",
    "g.set_title('Importância Normalizada das Variáveis Climáticas (ano '+ano+')')\n",
    "g.set(xlabel='Importância (score)')\n",
    "g.set(ylabel='Variáveis Independentes')\n",
    "# g.set(xticks=[])\n",
    "for value in g.containers:\n",
    "    g.bar_label(value, padding=2)\n",
    "plt.savefig(\"RF-IMAGES/classification/extremo/\"+folder+\"/\"+\"RF-Importance_Features-NDVI-\"+ano+\".png\")"
   ]
  },
  {
   "cell_type": "code",
   "execution_count": null,
   "id": "eac85aae-5a9a-4923-bd11-eda88d4b8370",
   "metadata": {},
   "outputs": [],
   "source": [
    "rfc_ = RandomForestClassifier(n_estimators=500, max_depth=int(md),random_state=random_state,criterion='gini')\n",
    "rfc_.fit(X_train, y_train)\n",
    "y_pred = rfc_.predict(X_test)"
   ]
  },
  {
   "cell_type": "code",
   "execution_count": null,
   "id": "3778e8b8-8004-4167-9100-485702d2d516",
   "metadata": {},
   "outputs": [],
   "source": [
    "regc = rfc_.fit(X_train, y_train)\n",
    "print('o R² do treino é: %.2f'% regc.score(X_train, y_train))"
   ]
  },
  {
   "cell_type": "code",
   "execution_count": null,
   "id": "2e707f2c-2ce3-4b2f-baf3-d70601321c8c",
   "metadata": {},
   "outputs": [],
   "source": [
    "regc = rfc_.fit(X_test, y_test)\n",
    "print('o R² do teste é: %.2f'% regc.score(X_test, y_test))"
   ]
  },
  {
   "cell_type": "code",
   "execution_count": null,
   "id": "9fcf7a13-9445-4b16-bcd2-81d0d4995b25",
   "metadata": {},
   "outputs": [],
   "source": [
    "cm_ = confusion_matrix(y_test, y_pred)\n",
    "sns.heatmap(cm_, annot=True, fmt='d').set_title('Matriz de Confusão - Fenômeno ICU para 900 árvores com 8 níveis')\n",
    "print(classification_report(y_test,y_pred))"
   ]
  },
  {
   "cell_type": "code",
   "execution_count": null,
   "id": "530dc0a3-2d87-47ab-9dfb-382d73e5af66",
   "metadata": {},
   "outputs": [],
   "source": [
    "print('Confusion Matrix : \\n', cm)\n",
    "#####from confusion matrix calculate accuracy\n",
    "total1=sum(sum(cm))\n",
    "accuracy1=(cm[0,0]+cm[1,1])/total1\n",
    "print ('Accuracy : ', accuracy1)\n",
    "\n",
    "sensitivity1 = cm[0,0]/(cm[0,0]+cm[0,1])\n",
    "print('Sensitivity : ', sensitivity1 )\n",
    "\n",
    "specificity1 = cm[1,1]/(cm[1,0]+cm[1,1])\n",
    "print('Specificity : ', specificity1)"
   ]
  },
  {
   "cell_type": "code",
   "execution_count": null,
   "id": "fd322535-8603-4402-a189-d3d9808ba31b",
   "metadata": {},
   "outputs": [],
   "source": [
    "plt.rcParams['figure.figsize'] = (10,7)\n",
    "# Organizing feature names and importances in a DataFrame\n",
    "features_df = pd.DataFrame({'features': rfc_.feature_names_in_, 'importances': rfc_.feature_importances_ })\n",
    "# Sorting data from highest to lowest\n",
    "features_df_sorted = features_df.sort_values(by='importances', ascending=False)\n",
    "# Barplot of the result without borders and axis lines\n",
    "g = sns.barplot(data=features_df_sorted, x='importances', y ='features', palette=\"rocket\")\n",
    "sns.despine(bottom = True, left = True)\n",
    "g.set_title('Importância Normalizada das Variáveis Climáticas (ano '+ano+')')\n",
    "g.set(xlabel='Importância (score)')\n",
    "g.set(ylabel='Variáveis Independentes')\n",
    "# g.set(xticks=[])\n",
    "for value in g.containers:\n",
    "    g.bar_label(value, padding=2)\n",
    "#plt.savefig('importance features '+ano)\n",
    "plt.savefig(\"RF-IMAGES/classification/extremo/\"+folder+\"/\"+\"importance features-NDVI-\"+ano+\".png\")"
   ]
  },
  {
   "cell_type": "code",
   "execution_count": null,
   "id": "7285356b-e767-44f1-a92f-499c7ccdf63e",
   "metadata": {},
   "outputs": [],
   "source": [
    "y = df[target]\n",
    "X = df[feat] #.drop(['UHIn','UTFVI2m','dewPoint','surface_pressure','windquad_cat','skinTemp','UTFVI','windpower'], axis=1)\n",
    "y"
   ]
  },
  {
   "cell_type": "code",
   "execution_count": null,
   "id": "e1a2b5ec-1882-4ad4-8734-74456b2979df",
   "metadata": {},
   "outputs": [],
   "source": [
    "X_train, X_test, y_train, y_test = train_test_split(X, y, test_size=0.3, random_state=random_state)"
   ]
  },
  {
   "cell_type": "code",
   "execution_count": null,
   "id": "fb191f37-d675-4c3e-8db4-775da2666127",
   "metadata": {},
   "outputs": [],
   "source": [
    "from sklearn.ensemble import RandomForestRegressor\n",
    "model = RandomForestRegressor(n_estimators=500, \n",
    "                              max_depth=int(md), \n",
    "                              random_state=random_state,\n",
    "                              max_features='log2',\n",
    "                              criterion='poisson')\n",
    "# rfr.fit(X_train, y_train)\n",
    "# y_pred = rfr.predict(X_test)"
   ]
  },
  {
   "cell_type": "code",
   "execution_count": null,
   "id": "9d780ca5-b3e9-4ec8-addd-b5c95d74f301",
   "metadata": {},
   "outputs": [],
   "source": [
    "reg = model.fit(X_train, y_train)\n",
    "print('o R² do treino é: %.2f'% reg.score(X_train, y_train))"
   ]
  },
  {
   "cell_type": "code",
   "execution_count": null,
   "id": "68c3c0fa-2e4c-4d24-bde1-2e72bf815f27",
   "metadata": {},
   "outputs": [],
   "source": [
    "ytrain_pred = reg.predict(X_train)\n",
    "y_pred = reg.predict(X_test)\n",
    "print('Mean Absolute Error: %.2f'% mean_absolute_error(y_train, ytrain_pred))\n",
    "print('Mean Squared Error: %.2f'% mean_squared_error(y_train, ytrain_pred))\n",
    "print('Root Mean Squared Error: %.2f'% np.sqrt(mean_squared_error(y_train, ytrain_pred)))\n",
    "print('Explained Variance Score: %.2f'% explained_variance_score(y_train, ytrain_pred))"
   ]
  },
  {
   "cell_type": "code",
   "execution_count": null,
   "id": "16143a21-24b5-460a-8a81-d54f8f7de559",
   "metadata": {},
   "outputs": [],
   "source": [
    "#Prediction on the testing data\n",
    "ytest_pred = reg.predict(X_test)\n",
    "#the testing coef of determination\n",
    "print('O R² do Teste é: %.2f'% r2_score(y_test, ytest_pred))\n",
    "print('O R² do Teste é: %.2f'% reg.score(X_test, y_test))"
   ]
  },
  {
   "cell_type": "code",
   "execution_count": null,
   "id": "25345183-241c-4ab1-82a3-b521d3d487fc",
   "metadata": {},
   "outputs": [],
   "source": [
    "# Model Metrics\n",
    "#MAE\n",
    "print('Mean Absolute Error: %.2f'% mean_absolute_error(y_test, ytest_pred))\n",
    "print('Mean Squared Error: %.2f'% mean_squared_error(y_test, ytest_pred))\n",
    "print('Root Mean Squared Error: %.2f'% np.sqrt(mean_squared_error(y_test,ytest_pred)))\n",
    "print('Explained Variance Score: %.2f'% explained_variance_score(y_test,ytest_pred))"
   ]
  },
  {
   "cell_type": "code",
   "execution_count": null,
   "id": "9c5225bd-a526-48c3-b765-389b3a11b215",
   "metadata": {},
   "outputs": [],
   "source": [
    "# Plotting the observed and predicted data\n",
    "import matplotlib.pyplot as plt\n",
    "# Setting the boundaries and parameters\n",
    "plt.rcParams['figure.figsize'] = (40,20)\n",
    "x_ax = range(len(X_test))\n",
    "# Plotting\n",
    "plt.plot(x_ax, y_test, label='Observado', color = 'k', linestyle = '-')\n",
    "plt.plot(x_ax, ytest_pred, label = 'Previsto', color = 'k', linestyle = '--')\n",
    "plt.ylabel('Fenômeno ICU',fontsize=18)\n",
    "plt.xlabel('Testando Dados Amostrais',fontsize=18)\n",
    "plt.legend(bbox_to_anchor = (0.5, -0.2), loc = 'lower center', ncol = 2, frameon = False,fontsize=18)\n",
    "plt.show()"
   ]
  },
  {
   "cell_type": "code",
   "execution_count": null,
   "id": "ffedbdd8-4404-40cc-a4ff-af5d7961d290",
   "metadata": {},
   "outputs": [],
   "source": [
    "# Setting the boundaries and parameters\n",
    "plt.rcParams['figure.figsize'] = (15,8)\n",
    "#Plotting the prediction errors and residuals\n",
    "from yellowbrick.regressor import PredictionError\n",
    "visualizer = PredictionError(reg)\n",
    "visualizer.fit(X_train, y_train)\n",
    "visualizer.score(X_test, y_test)\n",
    "visualizer.poof()"
   ]
  },
  {
   "cell_type": "code",
   "execution_count": null,
   "id": "a6bcfbfb-a2bd-489f-aab0-fa94cfeb98b3",
   "metadata": {},
   "outputs": [],
   "source": [
    "# Plotting the residuals\n",
    "plt.rcParams['figure.figsize'] = (15,8)\n",
    "from yellowbrick.regressor import ResidualsPlot\n",
    "visualizer = ResidualsPlot(reg)\n",
    "visualizer.fit(X_train, y_train)\n",
    "visualizer.score(X_test, y_test)\n",
    "visualizer.poof()"
   ]
  },
  {
   "cell_type": "code",
   "execution_count": null,
   "id": "00debe61-9786-45b6-abbe-a0fd1ba769e2",
   "metadata": {},
   "outputs": [],
   "source": [
    "# the k-fold Cross-Validation (CV)\n",
    "from sklearn.model_selection import cross_val_score\n",
    "seed = 42\n",
    "# training model CV\n",
    "score_train = cross_val_score(reg, X_train, y_train, scoring ='neg_mean_squared_error', cv = 10)\n",
    "score_train"
   ]
  },
  {
   "cell_type": "code",
   "execution_count": null,
   "id": "7b8b996a-2a68-46a4-af26-8bddca85c59f",
   "metadata": {},
   "outputs": [],
   "source": [
    "# the absolute mean score\n",
    "print(np.mean(score_train))\n",
    "# the absolute mean score\n",
    "from numpy import absolute\n",
    "print(absolute(np.mean(score_train)))"
   ]
  },
  {
   "cell_type": "code",
   "execution_count": null,
   "id": "2f917da1-d64f-4598-97f7-b40efdfe6d83",
   "metadata": {},
   "outputs": [],
   "source": [
    "# the testing model CV\n",
    "score_test = cross_val_score(reg, X_test, y_test, scoring ='neg_mean_squared_error', cv = 10)\n",
    "score_test\n",
    "print(absolute(np.mean(score_test)))"
   ]
  },
  {
   "cell_type": "code",
   "execution_count": null,
   "id": "b041d978-6d6e-4dc7-8f45-b921b7121b17",
   "metadata": {},
   "outputs": [],
   "source": [
    "# Random Forest Features Ranking\n",
    "from sklearn.pipeline import Pipeline\n",
    "f_list = list(X.columns)\n",
    "f_importance = pd.Series(reg.feature_importances_, index = f_list).sort_values(ascending = False)\n",
    "print(f_importance)"
   ]
  },
  {
   "cell_type": "code",
   "execution_count": null,
   "id": "8d71cba8-d3ec-4f30-9807-1da4f5ebc52b",
   "metadata": {},
   "outputs": [],
   "source": [
    "X,y"
   ]
  },
  {
   "cell_type": "markdown",
   "id": "f48b4d58-3b7d-43c5-9336-7aa8c8f0f384",
   "metadata": {},
   "source": [
    "#### GENERATING TREE DECISION"
   ]
  },
  {
   "cell_type": "code",
   "execution_count": null,
   "id": "603d5439-1f0a-4575-a8e6-76dd50a6db6e",
   "metadata": {},
   "outputs": [],
   "source": [
    "# from sklearn import tree\n",
    "# features = X.columns\n",
    "# # Obtain just the first tree\n",
    "# first_tree = reg.estimators_[0]\n",
    "# plt.figure(figsize=(20,12))\n",
    "# tree.plot_tree(first_tree,\n",
    "#                feature_names=features,\n",
    "#                fontsize=8,\n",
    "#                filled=True,\n",
    "#                rounded=True);"
   ]
  },
  {
   "cell_type": "markdown",
   "id": "7117daca-cf99-4cae-aebe-7cb413bfb3ad",
   "metadata": {},
   "source": [
    "### DTREEVIZ - REGRESSOR "
   ]
  },
  {
   "cell_type": "code",
   "execution_count": null,
   "id": "c26f8d23-d3bb-40ae-87f2-fab5ada86e9b",
   "metadata": {},
   "outputs": [],
   "source": [
    "\n",
    "# viz_model = dtreeviz.model(first_tree, tree_index=t_index, \n",
    "#                            X_train=X_train, \n",
    "#                            y_train=y_train, \n",
    "#                            feature_names=features,\n",
    "#                            target_name='Fenômeno ICU', \n",
    "#                            class_names=classes)\n",
    "# viz_model.view(scale=1)"
   ]
  },
  {
   "cell_type": "code",
   "execution_count": null,
   "id": "a4450110-f96f-47d8-a89b-a268e16e32dd",
   "metadata": {},
   "outputs": [],
   "source": [
    "print('Mean Absolute Error: %.2f'% mean_absolute_error(y_train, ytrain_pred))\n",
    "print('Mean Squared Error: %.2f'% mean_squared_error(y_train, ytrain_pred))\n",
    "print('Root Mean Squared Error: %.2f'% np.sqrt(mean_squared_error(y_train, ytrain_pred)))\n",
    "print('Explained Variance Score: %.2f'% explained_variance_score(y_train, ytrain_pred))"
   ]
  },
  {
   "cell_type": "code",
   "execution_count": null,
   "id": "9977eb05-9852-42d7-a0a6-5c8e1bd15391",
   "metadata": {},
   "outputs": [],
   "source": [
    "# Model Metrics\n",
    "#MAE\n",
    "print('Mean Absolute Error: %.2f'% mean_absolute_error(y_test, ytest_pred))\n",
    "print('Mean Squared Error: %.2f'% mean_squared_error(y_test, ytest_pred))\n",
    "print('Root Mean Squared Error: %.2f'% np.sqrt(mean_squared_error(y_test, ytest_pred)))\n",
    "print('Explained Variance Score: %.2f'% explained_variance_score(y_test, ytest_pred))"
   ]
  },
  {
   "cell_type": "code",
   "execution_count": null,
   "id": "b3898eaf-c487-465c-8dc6-732f8becf870",
   "metadata": {},
   "outputs": [],
   "source": [
    "# from sklearn.metrics import mean_absolute_error, mean_squared_error\n",
    "print('Mean Absolute Error:', mean_absolute_error(y_test, y_pred))\n",
    "print('Mean Squared Error:', mean_squared_error(y_test, y_pred))\n",
    "print('Root Mean Squared Error:', np.sqrt(mean_squared_error(y_test, y_pred)))"
   ]
  },
  {
   "cell_type": "code",
   "execution_count": null,
   "id": "da24d225-3217-4db7-b441-dff9fa6e8241",
   "metadata": {},
   "outputs": [],
   "source": [
    "print(df[feat+[target]].describe().round(2).T)"
   ]
  },
  {
   "cell_type": "code",
   "execution_count": null,
   "id": "07a47bde-61bb-4fc0-9c12-7a2d4f26eb9e",
   "metadata": {},
   "outputs": [],
   "source": [
    "# Data treatment\n",
    "# ==============================================================================\n",
    "import scipy.stats as stats\n",
    "# Visual\n",
    "# ==============================================================================\n",
    "import plotly.express as px\n",
    "import pylab\n",
    "import matplotlib.pyplot as plt\n",
    "import seaborn as sns\n",
    "import plotly.figure_factory as ff\n",
    "# Machine Learnig\n",
    "# ==============================================================================\n",
    "from sklearn.model_selection import train_test_split\n",
    "import statsmodels.api as sm\n",
    "import statsmodels.stats.api as sms\n",
    "from sklearn.tree import DecisionTreeClassifier\n",
    "from sklearn.ensemble import RandomForestClassifier\n",
    "# Metrics\n",
    "# ==============================================================================\n",
    "from sklearn.metrics import mean_squared_error\n",
    "from sklearn.metrics import mean_absolute_error\n",
    "from sklearn import metrics\n",
    "from sklearn.metrics import confusion_matrix\n",
    "# Warning Config\n",
    "# ==============================================================================\n",
    "import warnings\n",
    "warnings.filterwarnings('ignore')"
   ]
  },
  {
   "cell_type": "code",
   "execution_count": null,
   "id": "3cced68e-aa89-436e-a6fe-b297a1a0d4c7",
   "metadata": {},
   "outputs": [],
   "source": [
    "# Setting the boundaries and parameters\n",
    "plt.rcParams['figure.figsize'] = (15,12)\n",
    "fig = px.histogram(y, x =\"UHIp\")\n",
    "fig.show()"
   ]
  },
  {
   "cell_type": "code",
   "execution_count": null,
   "id": "84c1952e-db07-4942-b1c8-f14bd18ec076",
   "metadata": {},
   "outputs": [],
   "source": [
    "corr = df[feat+[target]].corr()\n",
    "fig = ff.create_annotated_heatmap(\n",
    "    z=corr.to_numpy().round(2),\n",
    "    x=list(corr.index.values),\n",
    "    y=list(corr.columns.values),\n",
    "    xgap=4, ygap=4,\n",
    "    zmin=-1, zmax=1, \n",
    "    # colorscale='RdYlGn',\n",
    "    colorbar_thickness=30,\n",
    "    colorbar_ticklen=3,\n",
    ")\n",
    "fig.update_layout(title_text='<b>Matriz da Correlação<b>',\n",
    "                  title_x=0.5,\n",
    "                  titlefont={'size': 24},\n",
    "                  width=700, height=500,\n",
    "                  xaxis_showgrid=False,\n",
    "                  xaxis={'side': 'bottom'},\n",
    "                  yaxis_showgrid=False,\n",
    "                  yaxis_autorange='reversed',\n",
    "                  paper_bgcolor=None,\n",
    ")\n",
    "fig.show()"
   ]
  },
  {
   "cell_type": "code",
   "execution_count": null,
   "id": "d31e7dbc-cb71-4211-9cc2-b85aab441de2",
   "metadata": {},
   "outputs": [],
   "source": [
    "Y = df[target]\n",
    "X = df[feat]\n",
    "Model = sm.OLS(Y, sm.add_constant(X))\n",
    "Results = Model.fit()\n",
    "print(Results.summary())"
   ]
  },
  {
   "cell_type": "code",
   "execution_count": null,
   "id": "79a34cd0-79b8-4788-a5db-a138273d3927",
   "metadata": {},
   "outputs": [],
   "source": [
    "from sklearn.linear_model import LinearRegression\n",
    "model = LinearRegression()\n",
    "model.fit(X, y)\n",
    "r_sq = model.score(X, y)\n",
    "print(f\"coefficient of determination: {r_sq}\")"
   ]
  },
  {
   "cell_type": "code",
   "execution_count": null,
   "id": "41ef58e1-678a-48ee-9631-60ad442dd934",
   "metadata": {},
   "outputs": [],
   "source": [
    "model = LinearRegression().fit(X, y)\n",
    "r_sq = model.score(X, y)\n",
    "print(f\"coefficient of determination: {r_sq}\")\n",
    "print(f\"intercept: {model.intercept_}\")\n",
    "print(f\"slope: {model.coef_}\")"
   ]
  },
  {
   "cell_type": "code",
   "execution_count": null,
   "id": "cd0702ce-5bdb-4a85-ac8d-3f6b56660c3e",
   "metadata": {},
   "outputs": [],
   "source": [
    "import statsmodels.api as sm\n",
    "x, y = np.array(df[feat]), np.array(df[target])\n",
    "x = sm.add_constant(x)\n",
    "model = sm.OLS(y, x)\n",
    "results = model.fit()\n",
    "\n",
    "print(results.summary())"
   ]
  },
  {
   "cell_type": "code",
   "execution_count": null,
   "id": "8aeaa55d-8cbf-48bc-95c1-ebf7a0db81c7",
   "metadata": {},
   "outputs": [],
   "source": [
    "x = df[feat]\n",
    "y = df[target]\n",
    "x = sm.add_constant(x)\n",
    "model = sm.OLS(y, x).fit()\n",
    "predictions = model.predict(x)\n",
    "print_model = model.summary()\n",
    "print(print_model)"
   ]
  },
  {
   "cell_type": "code",
   "execution_count": null,
   "id": "e8d6ff09-bb2e-4a2b-a42d-253d51f70dac",
   "metadata": {},
   "outputs": [],
   "source": [
    "X = df[feat+[target]].iloc[:, 1].values.reshape(-1, 1) # values converts it into a numpy array\n",
    "Y = df[feat+[target]].iloc[:, 2].values.reshape(-1, 1) # -1 means that calculate the dimension of rows, but have 1 column\n",
    "linear_regressor = LinearRegression() # create object for the class\n",
    "linear_regressor.fit(X, Y) # perform linear regression\n",
    "Y_pred = linear_regressor.predict(X) # make predictions"
   ]
  },
  {
   "cell_type": "code",
   "execution_count": null,
   "id": "d71c4b69-b283-4437-84d5-61a9849a5cf0",
   "metadata": {},
   "outputs": [],
   "source": [
    "# Setting the boundaries and parameters\n",
    "plt.rcParams['figure.figsize'] = (10,8)\n",
    "plt.scatter(X, Y)\n",
    "plt.plot(X, Y_pred, color='red')\n",
    "plt.show()"
   ]
  },
  {
   "cell_type": "code",
   "execution_count": null,
   "id": "d50603c1-58a9-49f7-b7eb-60cefdf023cc",
   "metadata": {},
   "outputs": [],
   "source": [
    "y = df['windquad'].values.reshape(-1, 1)\n",
    "X = df['UHIp'].values.reshape(-1, 1)\n",
    "X_train, X_test, y_train, y_test = train_test_split(X, y, test_size = 0.3,random_state = 42)"
   ]
  },
  {
   "cell_type": "code",
   "execution_count": null,
   "id": "25963da0-729b-4f34-a7f3-9ba07fe24bb7",
   "metadata": {},
   "outputs": [],
   "source": [
    "from sklearn.linear_model import LinearRegression\n",
    "regressor = LinearRegression()\n",
    "regressor.fit(X_train, y_train)\n",
    "print(regressor.intercept_)\n",
    "print(regressor.coef_)"
   ]
  },
  {
   "cell_type": "code",
   "execution_count": null,
   "id": "9e4e356e-fcda-4ed6-be18-3ea3a43aff8a",
   "metadata": {},
   "outputs": [],
   "source": [
    "def calc(slope, intercept, UTFVI):\n",
    "    return slope*UTFVI+intercept\n",
    "score = calc(regressor.coef_, regressor.intercept_, .0022)\n",
    "print(score)"
   ]
  },
  {
   "cell_type": "code",
   "execution_count": null,
   "id": "bde09a82-2925-4dd9-88d3-35238b9e32ee",
   "metadata": {},
   "outputs": [],
   "source": [
    "# Passing 9.5 in double brackets to have a 2 dimensional array\n",
    "score = regressor.predict([[0.0022]])\n",
    "print(score)"
   ]
  },
  {
   "cell_type": "code",
   "execution_count": null,
   "id": "f3f668ed-4cf7-4983-bc27-0cb7d6719ef1",
   "metadata": {},
   "outputs": [],
   "source": [
    "y_pred = regressor.predict(X_test)\n",
    "df_preds = pd.DataFrame({'Actual': y_test.squeeze(), 'Predicted': y_pred.squeeze()})\n",
    "print(df_preds)"
   ]
  },
  {
   "cell_type": "code",
   "execution_count": null,
   "id": "abaa87ea-abb2-4024-a91d-1d396f65d9c2",
   "metadata": {},
   "outputs": [],
   "source": [
    "mae = mean_absolute_error(y_test, y_pred)\n",
    "mse = mean_squared_error(y_test, y_pred)\n",
    "rmse = np.sqrt(mse)\n",
    "print(f'Mean absolute error: {mae:.2f}')\n",
    "print(f'Mean squared error: {mse:.2f}')\n",
    "print(f'Root mean squared error: {rmse:.2f}')"
   ]
  },
  {
   "cell_type": "code",
   "execution_count": null,
   "id": "d694004f-7f51-47f2-9fa5-2aecb8d1abef",
   "metadata": {},
   "outputs": [],
   "source": [
    "print(df[feat + [target]].describe().round(2).T)"
   ]
  },
  {
   "cell_type": "code",
   "execution_count": null,
   "id": "9bcd46f7-87a7-4f09-94bc-0b300cef0832",
   "metadata": {},
   "outputs": [],
   "source": [
    "import seaborn as sns # Convention alias for Seaborn\n",
    "variables = feat\n",
    "for var in variables:\n",
    "    plt.figure() # Creating a rectangle (figure) for each plot\n",
    "    # Regression Plot also by default includes\n",
    "    # best-fitting regression line\n",
    "    # which can be turned off via `fit_reg=False`\n",
    "    sns.regplot(x=var, y=target, data=df).set(title=f'Regressão de {var} e Fenômeno ICU');"
   ]
  },
  {
   "cell_type": "code",
   "execution_count": null,
   "id": "7f5d4c9f-26e1-4245-bd07-a16ebed98f13",
   "metadata": {},
   "outputs": [],
   "source": [
    "correlations = df[feat + [target]].corr()\n",
    "# annot=True displays the correlation values\n",
    "sns.heatmap(correlations, annot=True).set(title='Heat map das Variáveis Microclimáticas (Pearson)');"
   ]
  },
  {
   "cell_type": "code",
   "execution_count": null,
   "id": "49fa9d2e-86f9-4a1a-b278-5b583d71e654",
   "metadata": {},
   "outputs": [],
   "source": [
    "y = df[target]\n",
    "X = df[feat]\n",
    "X_train, X_test, y_train, y_test = train_test_split(X, y, test_size=0.3, random_state=random_state)"
   ]
  },
  {
   "cell_type": "code",
   "execution_count": null,
   "id": "e65190a5-5d99-4b17-9f03-ae0c857d5023",
   "metadata": {},
   "outputs": [],
   "source": [
    "regressor = LinearRegression()\n",
    "regressor.fit(X_train, y_train)\n",
    "print(regressor.intercept_)\n",
    "print(regressor.coef_)"
   ]
  },
  {
   "cell_type": "code",
   "execution_count": null,
   "id": "21266428-850d-4367-8cf7-0cd148c5e89d",
   "metadata": {},
   "outputs": [],
   "source": [
    "feature_names = X.columns\n",
    "model_coefficients = regressor.coef_\n",
    "coefficients_df = pd.DataFrame(data = model_coefficients, \n",
    "                               index = feature_names,\n",
    "                               columns = ['Coefficient value'])\n",
    "print(coefficients_df)"
   ]
  },
  {
   "cell_type": "code",
   "execution_count": null,
   "id": "3aa1baa7-f8f6-41c0-a8ca-abd6ad89b0ff",
   "metadata": {},
   "outputs": [],
   "source": [
    "y_pred = regressor.predict(X_test)\n",
    "results = pd.DataFrame({'Actual': y_test, 'Predicted': y_pred})\n",
    "print(results)"
   ]
  },
  {
   "cell_type": "code",
   "execution_count": null,
   "id": "2f3f7dd6-b928-4a0e-bc39-e89cbe104d2c",
   "metadata": {},
   "outputs": [],
   "source": [
    "mae = mean_absolute_error(y_test, y_pred)\n",
    "mse = mean_squared_error(y_test, y_pred)\n",
    "rmse = np.sqrt(mse)\n",
    "print(f'Mean absolute error: {mae:.2f}')\n",
    "print(f'Mean squared error: {mse:.2f}')\n",
    "print(f'Root mean squared error: {rmse:.2f}')"
   ]
  },
  {
   "cell_type": "code",
   "execution_count": null,
   "id": "241a5f19-09f7-43d6-9e1d-35809fedb90e",
   "metadata": {},
   "outputs": [],
   "source": [
    "actual_minus_predicted = sum((y_test - y_pred)**2)\n",
    "actual_minus_actual_mean = sum((y_test - y_test.mean())**2)\n",
    "r2 = 1 - actual_minus_predicted/actual_minus_actual_mean\n",
    "print('R²:', r2)\n",
    "print(regressor.score(X_test, y_test))\n",
    "print(regressor.score(X_train, y_train))"
   ]
  },
  {
   "cell_type": "code",
   "execution_count": null,
   "id": "cc28dfee-48a4-4fe7-8c88-d56f79c94b48",
   "metadata": {},
   "outputs": [],
   "source": [
    "from sklearn.tree import DecisionTreeClassifier, DecisionTreeRegressor\n",
    "md = '5'\n",
    "tree_classifier = DecisionTreeClassifier(max_depth=int(md), random_state=random_state, max_features='auto', criterion='gini')\n",
    "tree_classifier.fit(df[features].values, df[target].values)"
   ]
  },
  {
   "cell_type": "code",
   "execution_count": null,
   "id": "64ea482a-063f-4081-b4ac-717402a1434c",
   "metadata": {},
   "outputs": [],
   "source": [
    "viz_model = dtreeviz.model(tree_classifier, \n",
    "                           X_train=df[features],\n",
    "                           y_train=df[target],\n",
    "                           feature_names=features,\n",
    "                           target_name='Fenômeno ICU',\n",
    "                           class_names=classes)\n",
    "viz_model.view(scale=0.8)"
   ]
  },
  {
   "cell_type": "code",
   "execution_count": null,
   "id": "3b6f8dd5-188f-43c9-b9f3-be1949c2ddc6",
   "metadata": {},
   "outputs": [],
   "source": [
    "v.save(\"RF-IMAGES/classification/extremo/\"+folder+\"/\"+\"RF-UHIn-NDVI x ALL-MD\"+md+\"-DT-\"+ano+\".svg\")"
   ]
  },
  {
   "cell_type": "markdown",
   "id": "4909a30d-994b-4e88-b47d-65939b359b46",
   "metadata": {},
   "source": [
    "#### DECISION TREE - FEATURES IMPORTANCES"
   ]
  },
  {
   "cell_type": "code",
   "execution_count": null,
   "id": "e3d2090c-3ece-4e54-97f8-f01953d17a53",
   "metadata": {},
   "outputs": [],
   "source": [
    "# Extracting the importances by sklearn \n",
    "importances_sk = tree_classifier.feature_importances_\n",
    "\n",
    "# Creating a dataframe with the feature importance by sklearn\n",
    "feature_importance_sk = {}\n",
    "for i, feature in enumerate(features):\n",
    "    feature_importance_sk[feature] = round(importances_sk[i], 3)\n",
    "\n",
    "print(f\"Feature importance by sklearn: {feature_importance_sk}\")"
   ]
  },
  {
   "cell_type": "code",
   "execution_count": null,
   "id": "4f552a5e-8bfd-41d5-bba8-1b74cd62c40f",
   "metadata": {},
   "outputs": [],
   "source": [
    "feat_importances = pd.DataFrame(tree_classifier.feature_importances_, index=df[features].columns, columns=[\"Importance\"])\n",
    "feat_importances.sort_values(by='Importance', ascending=False, inplace=True)\n",
    "feat_importances.plot(kind='bar', figsize=(8,6))"
   ]
  },
  {
   "cell_type": "code",
   "execution_count": null,
   "id": "7d7c74b4-cb17-4b0e-99c1-d479c943261d",
   "metadata": {},
   "outputs": [],
   "source": [
    "n_features = df[features].shape[1]\n",
    "plt.barh(range(n_features),tree_classifier.feature_importances_,align='center')\n",
    "plt.yticks(ticks=np.arange(n_features), labels=df[features].columns)\n",
    "plt.xlabel('Features Importances')\n",
    "plt.ylabel('Variáveis micro-climáticas')\n",
    "         "
   ]
  },
  {
   "cell_type": "code",
   "execution_count": null,
   "id": "e3dc740f-e3a9-4dc5-a3c3-187460e39dc7",
   "metadata": {},
   "outputs": [],
   "source": [
    "feature_scores = pd.Series(tree_classifier.feature_importances_, index=feature_importance_sk).sort_values(ascending=False)\n",
    "\n",
    "feature_scores, feature_scores.index, df[features]"
   ]
  },
  {
   "cell_type": "code",
   "execution_count": null,
   "id": "c57c4bb5-1b66-4638-bc33-0cf6514c047d",
   "metadata": {},
   "outputs": [],
   "source": [
    "plt.rcParams['figure.figsize'] = (10,7)\n",
    "# Organizing feature names and importances in a DataFrame\n",
    "features_df = pd.DataFrame({'features': feature_scores.index, 'importances': tree_classifier.feature_importances_ })\n",
    "# Sorting data from highest to lowest\n",
    "features_df_sorted = features_df.sort_values(by='importances', ascending=False)\n",
    "# Barplot of the result without borders and axis lines\n",
    "g = sns.barplot(data=features_df_sorted, x='importances', y ='features', palette=\"rocket\")\n",
    "sns.despine(bottom = True, left = True)\n",
    "g.set_title('Importância Normalizada das Variáveis Climáticas (ano '+ano+')')\n",
    "g.set(xlabel='Importância (score)')\n",
    "g.set(ylabel='Variáveis Independentes')\n",
    "# g.set(xticks=[])\n",
    "for value in g.containers:\n",
    "    g.bar_label(value, padding=2)\n",
    "#plt.savefig('Importance Features - DecisionTree_'+ano)\n",
    "plt.savefig(\"RF-IMAGES/classification/extremo/\"+folder+\"/\"+\"Importance Features - DecisionTree-NDVI-\"+ano+\".png\")"
   ]
  },
  {
   "cell_type": "code",
   "execution_count": null,
   "id": "1609b603-f75d-4bc3-b84f-b66379577ea4",
   "metadata": {},
   "outputs": [],
   "source": [
    "# # Creating a seaborn bar plot\n",
    "\n",
    "# f, ax = plt.subplots(figsize=(30, 24))\n",
    "# ax = sns.barplot(x=feature_scores, y=feature_scores.index, data=df[features])\n",
    "# ax.set_title(\"Visualize feature scores of the features\")\n",
    "# ax.set_yticklabels(feature_scores.index)\n",
    "# ax.set_xlabel(\"Feature importance score\")\n",
    "# ax.set_ylabel(\"Features\")\n",
    "# plt.show()"
   ]
  },
  {
   "cell_type": "code",
   "execution_count": null,
   "id": "7d3ad9e0-3d44-454b-add0-a263037390d1",
   "metadata": {},
   "outputs": [],
   "source": [
    "from sklearn import decomposition, datasets\n",
    "from sklearn import tree\n",
    "from sklearn.pipeline import Pipeline\n",
    "from sklearn.model_selection import GridSearchCV\n",
    "from sklearn.preprocessing import StandardScaler\n",
    "std_slc = StandardScaler()\n",
    "pca = decomposition.PCA()\n",
    "dec_tree = tree.DecisionTreeClassifier()\n",
    "pipe = Pipeline(steps=[('std_slc', std_slc),\n",
    "('pca', pca),\n",
    "('dec_tree', dec_tree)])\n",
    "n_components = list(range(1,X.shape[1]+1,1))\n",
    "criterion = ['gini', 'entropy']\n",
    "max_depth = [2,4,6,8,10,12]\n",
    "parameters = dict(pca__n_components=n_components,\n",
    "dec_tree__criterion=criterion,\n",
    "dec_tree__max_depth=max_depth)"
   ]
  },
  {
   "cell_type": "code",
   "execution_count": null,
   "id": "6d8fce9a-77d5-4da0-b830-c8a039a7864d",
   "metadata": {},
   "outputs": [],
   "source": [
    "clf_GS = GridSearchCV(pipe, parameters)\n",
    "clf_GS.fit(X, y)\n",
    "print('Best Criterion:', clf_GS.best_estimator_.get_params()['dec_tree__criterion'])\n",
    "print('Best max_depth:', clf_GS.best_estimator_.get_params()['dec_tree__max_depth'])\n",
    "print('Best Number Of Components:', clf_GS.best_estimator_.get_params()['pca__n_components'])\n",
    "print(); print(clf_GS.best_estimator_.get_params()['dec_tree'])"
   ]
  },
  {
   "cell_type": "code",
   "execution_count": null,
   "id": "661a8803-68af-4ffd-b5b7-dd62de909333",
   "metadata": {},
   "outputs": [],
   "source": [
    "from sklearn.model_selection import GridSearchCV\n",
    "param_grid = {'max_features': ['sqrt', 'log2'],\n",
    "'ccp_alpha': [0.1, .01, .001],\n",
    "'max_depth' : [5, 6, 7, 8, 9],\n",
    "'criterion' :['gini', 'entropy']\n",
    "}\n",
    "tree_clas = DecisionTreeClassifier(random_state=42)"
   ]
  },
  {
   "cell_type": "code",
   "execution_count": null,
   "id": "cd489074-429d-4127-aa02-f1576fd407c7",
   "metadata": {},
   "outputs": [],
   "source": [
    "grid_search = GridSearchCV(estimator=tree_clas, param_grid=param_grid, cv=5, verbose=True)\n",
    "grid_search.fit(X_train, y_train)\n",
    "final_model = grid_search.best_estimator_\n",
    "final_model"
   ]
  },
  {
   "cell_type": "code",
   "execution_count": null,
   "id": "97611b8c-cb0d-4794-83d2-0fd4ebf093e6",
   "metadata": {},
   "outputs": [],
   "source": [
    "#Training the model\n",
    "tree_clas = DecisionTreeClassifier(ccp_alpha=0.01, class_weight=None, criterion='entropy',\n",
    "max_depth=9, max_features='sqrt', max_leaf_nodes=None,\n",
    "min_impurity_decrease=0.0,\n",
    "min_samples_leaf=1, min_samples_split=2,\n",
    "min_weight_fraction_leaf=0.0,\n",
    "random_state=42, splitter='best')\n",
    "tree_clas.fit(X_train, y_train)\n",
    "y_predict = tree_clas.predict(X_test)\n",
    "y_predict"
   ]
  },
  {
   "cell_type": "code",
   "execution_count": null,
   "id": "887131c7-12f1-4542-9183-fc8d1f10822a",
   "metadata": {},
   "outputs": [],
   "source": [
    "actual_minus_predicted = sum((y_test - y_pred)**2)\n",
    "actual_minus_actual_mean = sum((y_test - y_test.mean())**2)\n",
    "r2 = 1 - actual_minus_predicted/actual_minus_actual_mean\n",
    "print('R²:', r2)"
   ]
  },
  {
   "cell_type": "code",
   "execution_count": null,
   "id": "1d08b1f2-889d-4996-8b65-1438290aabff",
   "metadata": {},
   "outputs": [],
   "source": [
    "import xgboost\n",
    "import shap\n",
    "\n",
    "model = xgboost.XGBClassifier(n_estimators=20)\n",
    "model.fit(X, y)"
   ]
  },
  {
   "cell_type": "code",
   "execution_count": null,
   "id": "08089b00-8b21-4045-aae6-67705ab51966",
   "metadata": {},
   "outputs": [],
   "source": [
    "# equilibrated case\n",
    "background = X.sample(1000) #X is equilibrated# background used in explainer defines base value\n",
    "explainer = shap.TreeExplainer(model,background,model_output=\"raw\" )\n",
    "shap_values = explainer.shap_values(X)# background used in the plot, the points that are visible on the plot\n",
    "shap.summary_plot(shap_values,background, feature_names=background.columns)"
   ]
  },
  {
   "cell_type": "code",
   "execution_count": null,
   "id": "724d5cbe-6305-4bb7-bbae-489b30071127",
   "metadata": {},
   "outputs": [],
   "source": [
    "shap.summary_plot(shap_values[2], X)\n",
    "shap.summary_plot(shap_values[1], X)\n",
    "shap.summary_plot(shap_values[0], X)"
   ]
  },
  {
   "cell_type": "code",
   "execution_count": null,
   "id": "133d5f26-2908-40e8-a1ac-278d26d5648b",
   "metadata": {},
   "outputs": [],
   "source": [
    "# shap.dependence_plot(“alcohol”, shap_values, X_train)\n",
    "# shap.dependence_plot(\"RH\", shap_values[0], X)"
   ]
  },
  {
   "cell_type": "code",
   "execution_count": null,
   "id": "d24bcc44-4465-4282-a4cd-9126e84a8d33",
   "metadata": {},
   "outputs": [],
   "source": [
    "shap.dependence_plot('windspeed', shap_values[0], X, interaction_index=\"RH\")"
   ]
  },
  {
   "cell_type": "code",
   "execution_count": null,
   "id": "3b709923-1c14-4925-80bc-f691cb3f8792",
   "metadata": {},
   "outputs": [],
   "source": [
    "shap.initjs()"
   ]
  },
  {
   "cell_type": "code",
   "execution_count": null,
   "id": "8054cacb-ae2e-4e7b-85f3-207bbf006b42",
   "metadata": {},
   "outputs": [],
   "source": [
    "shap.force_plot(explainer.expected_value[1], shap_values[0], X)"
   ]
  },
  {
   "cell_type": "code",
   "execution_count": null,
   "id": "bc2e13d0-beae-4c51-843a-39f07cb7f05c",
   "metadata": {},
   "outputs": [],
   "source": [
    "columIndex= 2\n",
    "shap.force_plot(explainer.expected_value[1], shap_values[1][columIndex,:], X.iloc[columIndex,:], link=\"logit\")"
   ]
  },
  {
   "cell_type": "code",
   "execution_count": null,
   "id": "6f28e057-c162-47ba-9801-7fece73e7ccc",
   "metadata": {},
   "outputs": [],
   "source": [
    "X_train, X_test, y_train, y_test = train_test_split(X, y, test_size = 0.3, random_state=42)\n",
    "print(X_train.shape)"
   ]
  },
  {
   "cell_type": "code",
   "execution_count": null,
   "id": "6f28676e-0c0e-4ab4-befc-0abe61a6a69f",
   "metadata": {},
   "outputs": [],
   "source": [
    "clf = RandomForestClassifier(n_estimators=500, max_depth=8)\n",
    "clf.fit(X_train, y_train)"
   ]
  },
  {
   "cell_type": "code",
   "execution_count": null,
   "id": "ed784d91-8b4f-4ba5-8edd-64c05cd4dc96",
   "metadata": {},
   "outputs": [],
   "source": [
    "explainer = shap.TreeExplainer(clf)\n",
    "shap_values = np.array(explainer.shap_values(X_train))\n",
    "print(shap_values.shape)"
   ]
  },
  {
   "cell_type": "code",
   "execution_count": null,
   "id": "35bc9f82-635b-4761-9eb5-b16d9e8d49e6",
   "metadata": {},
   "outputs": [],
   "source": [
    "shap_values_ = shap_values.transpose((1,0,2))\n",
    "\n",
    "np.allclose(\n",
    "    clf.predict_proba(X_train),\n",
    "    shap_values_.sum(2) + explainer.expected_value\n",
    ")"
   ]
  },
  {
   "cell_type": "code",
   "execution_count": null,
   "id": "bd563b79-0c77-4629-8671-8b7c2e6f9430",
   "metadata": {},
   "outputs": [],
   "source": [
    "shap.summary_plot(shap_values[0],X_train)"
   ]
  },
  {
   "cell_type": "code",
   "execution_count": null,
   "id": "5e55c0b2-9502-41f7-9044-ddf7f8662e08",
   "metadata": {},
   "outputs": [],
   "source": [
    "rf = RandomForestClassifier(n_estimators=500, max_depth=8, random_state=42, max_features='sqrt', class_weight='balanced')\n",
    "rf.fit(X_train, y_train)\n",
    "\n",
    "# Make predictions for the test set\n",
    "y_pred_test = rf.predict(X_test)\n",
    "\n",
    "# Print accuracy for the training and test sets\n",
    "print(\"Accuracy on training set: {:.3f}\".format(rf.score(X_train, y_train)))\n",
    "print(\"Accuracy on test set: {:.3f}\".format(rf.score(X_test, y_test)))"
   ]
  },
  {
   "cell_type": "code",
   "execution_count": null,
   "id": "9bd1cc57-fc32-4c90-a48a-653aa7ca1232",
   "metadata": {},
   "outputs": [],
   "source": [
    "# View confusion matrix for test data and predictions\n",
    "confusion_matrix(y_test, y_pred_test)"
   ]
  },
  {
   "cell_type": "code",
   "execution_count": null,
   "id": "669177fb-a68a-412b-a424-a35ee28dd091",
   "metadata": {},
   "outputs": [],
   "source": [
    "print(classification_report(y_test, y_pred_test))"
   ]
  },
  {
   "cell_type": "code",
   "execution_count": null,
   "id": "ea674df1-41c6-417e-bc96-4873b87c9b7f",
   "metadata": {},
   "outputs": [],
   "source": [
    "recall_score(y_test, y_pred_test, average=None)[0]"
   ]
  },
  {
   "cell_type": "code",
   "execution_count": null,
   "id": "60bf0b53-c424-47f1-810a-a72a65472d66",
   "metadata": {},
   "outputs": [],
   "source": [
    "precision_score(y_test, y_pred_test, average=None)[0]"
   ]
  },
  {
   "cell_type": "code",
   "execution_count": null,
   "id": "924c5e3b-ec62-437f-b533-a85aa9853d41",
   "metadata": {},
   "outputs": [],
   "source": [
    "from quantile_forest import RandomForestQuantileRegressor\n",
    "from sklearn.model_selection import train_test_split\n",
    "\n",
    "qrf = RandomForestQuantileRegressor(random_state=0)\n",
    "qrf.fit(X_train, y_train)\n",
    "\n",
    "# Get the training indices for tree=0, leaf=18683.\n",
    "y_train_leaves = np.asarray(qrf.forest_.y_train_leaves)\n",
    "train_indices = y_train_leaves[0, 2, :] - 1\n",
    "train_indices = train_indices[train_indices >= 0]\n",
    "\n",
    "# Get the training response values for the training indices\n",
    "print(np.array(qrf.forest_.y_train)[train_indices])\n"
   ]
  },
  {
   "cell_type": "code",
   "execution_count": null,
   "id": "6f05defc-0bc0-41d5-a926-289d7ae66de9",
   "metadata": {},
   "outputs": [],
   "source": [
    "y_train_leaves.shape"
   ]
  },
  {
   "cell_type": "code",
   "execution_count": null,
   "id": "8aaa2418-5ea2-498e-a68c-243f31625821",
   "metadata": {},
   "outputs": [],
   "source": [
    "# n_trees, n_nodes, _ = y_train_leaves.shape\n",
    "# for tree_i in range(n_trees):\n",
    "#     for node_j in range(n_nodes):\n",
    "#         train_indices_ij = y_train_leaves[tree_i, node_j] - 1\n",
    "#         train_indices_ij = train_indices_ij[train_indices_ij >= 0]\n",
    "#         print(np.array(qrf.forest_.y_train)[train_indices_ij])"
   ]
  },
  {
   "cell_type": "code",
   "execution_count": null,
   "id": "5280d381-b2d2-4668-befa-99a016abe1d7",
   "metadata": {},
   "outputs": [],
   "source": []
  },
  {
   "cell_type": "code",
   "execution_count": null,
   "id": "88f3686e-5f2f-41ef-9e39-7362d8576710",
   "metadata": {},
   "outputs": [],
   "source": [
    "\n",
    "from sklearn.model_selection import train_test_split # for splitting the data into train and test samples\n",
    "from sklearn.metrics import classification_report # for model evaluation metrics\n",
    "from sklearn import tree # for decision tree models\n",
    "\n",
    "import plotly.express as px  # for data visualization\n",
    "import plotly.graph_objects as go # for data visualization\n",
    "import graphviz # for plotting decision tree graphs\n"
   ]
  },
  {
   "cell_type": "code",
   "execution_count": null,
   "id": "a3c69eb1-1524-4919-9f8e-2fe069997685",
   "metadata": {},
   "outputs": [],
   "source": [
    "def fitting(X, y, criterion, splitter, mdepth, clweight, minleaf):\n",
    "\n",
    "    # Create training and testing samples\n",
    "    X_train, X_test, y_train, y_test = train_test_split(X, y, test_size=0.2, random_state=42)\n",
    "\n",
    "    # Fit the model\n",
    "    model = tree.DecisionTreeClassifier(criterion=criterion, \n",
    "                                        splitter=splitter, \n",
    "                                        max_depth=mdepth,\n",
    "                                        class_weight=clweight,\n",
    "                                        min_samples_leaf=minleaf, \n",
    "                                        random_state=42, \n",
    "                                  )\n",
    "    clf = model.fit(X_train, y_train)\n",
    "\n",
    "    # Predict class labels on training data\n",
    "    pred_labels_tr = model.predict(X_train)\n",
    "    # Predict class labels on a test data\n",
    "    pred_labels_te = model.predict(X_test)\n",
    "\n",
    "    # Tree summary and model evaluation metrics\n",
    "    print('*************** Tree Summary ***************')\n",
    "    print('Classes: ', clf.classes_)\n",
    "    print('Tree Depth: ', clf.tree_.max_depth)\n",
    "    print('No. of leaves: ', clf.tree_.n_leaves)\n",
    "    print('No. of features: ', clf.n_features_in_)\n",
    "    print('--------------------------------------------------------')\n",
    "    print(\"\")\n",
    "    \n",
    "    print('*************** Evaluation on Test Data ***************')\n",
    "    score_te = model.score(X_test, y_test)\n",
    "    print('Accuracy Score: ', score_te)\n",
    "    # Look at classification report to evaluate the model\n",
    "    print(classification_report(y_test, pred_labels_te))\n",
    "    print('--------------------------------------------------------')\n",
    "    print(\"\")\n",
    "    \n",
    "    print('*************** Evaluation on Training Data ***************')\n",
    "    score_tr = model.score(X_train, y_train)\n",
    "    print('Accuracy Score: ', score_tr)\n",
    "    # Look at classification report to evaluate the model\n",
    "    print(classification_report(y_train, pred_labels_tr))\n",
    "    print('--------------------------------------------------------')\n",
    "    \n",
    "    # Use graphviz to plot the tree\n",
    "    dot_data = tree.export_graphviz(clf, out_file=None, \n",
    "                                feature_names=X.columns, \n",
    "                                class_names=[str(list(clf.classes_)[0]), str(list(clf.classes_)[1])],\n",
    "                                filled=True, \n",
    "                                rounded=True, \n",
    "                                #rotate=True,\n",
    "                               ) \n",
    "    graph = graphviz.Source(dot_data)\n",
    "    \n",
    "    # Return relevant data for chart plotting\n",
    "    return X_train, X_test, y_train, y_test, clf, graph"
   ]
  },
  {
   "cell_type": "code",
   "execution_count": null,
   "id": "cddff54d-9b92-41b2-8654-3fff14548108",
   "metadata": {},
   "outputs": [],
   "source": [
    "# Fit the model and display results\n",
    "X_train, X_test, y_train, y_test, clf, graph = fitting(X, y, 'entropy', 'best', \n",
    "                                                       mdepth=8, \n",
    "                                                       clweight=None,\n",
    "                                                       minleaf=1000)\n",
    "\n",
    "# Plot the tree graph\n",
    "graph\n",
    "\n",
    "# Save tree graph to a PDF\n",
    "#graph.render('Decision_Tree_all_vars_gini')"
   ]
  },
  {
   "cell_type": "code",
   "execution_count": null,
   "id": "452b70c0-aef1-4beb-ae54-837cf2a4f0c0",
   "metadata": {},
   "outputs": [],
   "source": [
    "# Fit the model and display results\n",
    "X_train, X_test, y_train, y_test, clf, graph = fitting(X, y, 'entropy', 'best', \n",
    "                                                       mdepth=8, \n",
    "                                                       clweight=None, \n",
    "                                                       minleaf=1000)\n",
    "\n",
    "# Plot the tree graph\n",
    "graph"
   ]
  },
  {
   "cell_type": "code",
   "execution_count": null,
   "id": "381f8115-0227-4876-9120-ccda452324ba",
   "metadata": {},
   "outputs": [],
   "source": [
    "# !pip install pycaret"
   ]
  },
  {
   "cell_type": "code",
   "execution_count": null,
   "id": "31d5d8bc-d6e7-4c6d-b708-68450716bd59",
   "metadata": {},
   "outputs": [],
   "source": [
    "# from pycaret.classification import *\n",
    "# s = setup(data = df[feat], target = df['UHIp'], session_id=123)"
   ]
  },
  {
   "cell_type": "code",
   "execution_count": null,
   "id": "174550df-6a89-466d-b92c-a2220dd61619",
   "metadata": {},
   "outputs": [],
   "source": [
    "# best_model = compare_models()"
   ]
  },
  {
   "cell_type": "code",
   "execution_count": null,
   "id": "b92debe5-b064-422b-ab5e-21cb8a661e13",
   "metadata": {},
   "outputs": [],
   "source": [
    "# dt = create_model('rf')"
   ]
  },
  {
   "cell_type": "code",
   "execution_count": null,
   "id": "a2a5b005-ae20-46e6-98af-feaf0ae40893",
   "metadata": {},
   "outputs": [],
   "source": [
    "# print(dt)"
   ]
  },
  {
   "cell_type": "code",
   "execution_count": null,
   "id": "d880e0d2-6872-4ace-ae4b-7045589b48f3",
   "metadata": {},
   "outputs": [],
   "source": [
    "df[target]"
   ]
  },
  {
   "cell_type": "code",
   "execution_count": null,
   "id": "520eef62-ff5d-47ac-9bb2-8f0dcbbb4c68",
   "metadata": {},
   "outputs": [],
   "source": [
    "df2 = df[['windspeed', 'windquad', 'RH','UHIp','NDVI']]\n",
    "df2"
   ]
  },
  {
   "cell_type": "code",
   "execution_count": null,
   "id": "a2d2bb80-8c4a-4a1a-bc96-6bca3dcbb355",
   "metadata": {},
   "outputs": [],
   "source": [
    "# Distribution of all parameters wrt price.\n",
    "nr_rows = 2\n",
    "nr_cols = 3\n",
    "\n",
    "fig, axs = plt.subplots(nr_rows, nr_cols, figsize=(nr_cols*4,nr_rows*4))\n",
    "numerical_feats = df2.dtypes[df2.dtypes != \"object\"].index\n",
    "li_num_feats = list(numerical_feats)\n",
    "li_not_plot = ['id']\n",
    "li_plot_num_feats = [c for c in list(numerical_feats) if c not in li_not_plot]\n",
    "for r in range(0,nr_rows):\n",
    "    for c in range(0,nr_cols):  \n",
    "        i = r*nr_cols+c\n",
    "        if i < len(li_plot_num_feats):\n",
    "            sns.regplot(x = df[['windspeed', 'windquad', 'RH','UHIp','NDVI']][li_plot_num_feats[i]], y= df['NDVI'], ax = axs[r][c])\n",
    "            stp = stats.pearsonr(df2[li_plot_num_feats[i]], df2['NDVI'])\n",
    "            str_title = \"r = \" + \"{0:.2f}\".format(stp[0]) + \"      \" \"p = \" + \"{0:.2f}\".format(stp[1])\n",
    "            axs[r][c].set_title(str_title,fontsize=11)\n",
    "            \n",
    "plt.tight_layout()    \n",
    "sns.set(color_codes=True)\n",
    "plt.show()   "
   ]
  },
  {
   "cell_type": "code",
   "execution_count": null,
   "id": "875abb6f-a9fd-4543-a89d-ac303018d189",
   "metadata": {},
   "outputs": [],
   "source": [
    "# Features having coorelation to price\n",
    "sns.set(color_codes=True)\n",
    "df2.corrwith(df2.UHIp).plot.bar( figsize = (12, 5), title = \"Correlação em função do UTFVI\", fontsize = 15, rot = 0, grid = True);"
   ]
  },
  {
   "cell_type": "code",
   "execution_count": null,
   "id": "9c54f86c-2e02-44d6-a0d7-c02110d568c3",
   "metadata": {},
   "outputs": [],
   "source": [
    "df2[li_plot_num_feats[2]]"
   ]
  },
  {
   "cell_type": "code",
   "execution_count": null,
   "id": "3a82e411-60b6-4563-b005-047006420f0e",
   "metadata": {},
   "outputs": [],
   "source": [
    "df2"
   ]
  },
  {
   "cell_type": "code",
   "execution_count": null,
   "id": "9479c113-28dc-4ac5-aae7-0b8e3768d234",
   "metadata": {},
   "outputs": [],
   "source": [
    "import folium\n",
    "import warnings\n",
    "import numpy as np \n",
    "import pandas as pd\n",
    "import matplotlib.pyplot as plt\n",
    "import seaborn as sns\n",
    "from folium.plugins import HeatMap\n",
    "\n",
    "folds  = 5\n",
    "\n",
    "sns.set(color_codes=True)\n",
    "\n",
    "warnings.filterwarnings(\"ignore\", category=FutureWarning)\n",
    "\n",
    "from sklearn.metrics import r2_score\n",
    "# from ml_metrics import rmse\n",
    "from scipy import stats\n",
    "from sklearn.model_selection import GridSearchCV\n",
    "score_calc = 'neg_mean_squared_error'"
   ]
  },
  {
   "cell_type": "code",
   "execution_count": null,
   "id": "7009f979-3a1d-45b9-bc06-1dd79dd1b73d",
   "metadata": {},
   "outputs": [],
   "source": [
    "house_price_data = pd.read_csv(\"../kc_house_data.csv\")\n",
    "house_price_data = house_price_data.drop([\"date\",\"id\"], axis = 1)"
   ]
  },
  {
   "cell_type": "code",
   "execution_count": null,
   "id": "9f736c94-9bfe-48b6-b241-d581ad10728b",
   "metadata": {},
   "outputs": [],
   "source": [
    "house_price_data"
   ]
  },
  {
   "cell_type": "code",
   "execution_count": null,
   "id": "d670d491-e502-4d6f-871f-b7edf1ece6e5",
   "metadata": {},
   "outputs": [],
   "source": [
    "# # Distribution of all parameters wrt price.\n",
    "# nr_rows = 3\n",
    "# nr_cols = 6\n",
    "\n",
    "# fig, axs = plt.subplots(nr_rows, nr_cols, figsize=(nr_cols*4,nr_rows*4))\n",
    "\n",
    "# numerical_feats = house_price_data.dtypes[df2.dtypes != \"object\"].index\n",
    "\n",
    "# li_num_feats = list(numerical_feats)\n",
    "# li_not_plot = ['id']\n",
    "# li_plot_num_feats = [c for c in list(numerical_feats) if c not in li_not_plot]\n",
    "\n",
    "# for r in range(0,nr_rows):\n",
    "#     for c in range(0,nr_cols):  \n",
    "#         i = r*nr_cols+c\n",
    "#         if i < len(li_plot_num_feats):\n",
    "#             sns.regplot(x= house_price_data[li_plot_num_feats[i]], y=house_price_data['price'],ax = axs[r][c])\n",
    "#             stp = stats.pearsonr(house_price_data[li_plot_num_feats[i]], house_price_data['price'])\n",
    "#             str_title = \"r = \" + \"{0:.2f}\".format(stp[0]) + \"      \" \"p = \" + \"{0:.2f}\".format(stp[1])\n",
    "#             axs[r][c].set_title(str_title,fontsize=11)\n",
    "            \n",
    "# plt.tight_layout()    \n",
    "# sns.set(color_codes=True)\n",
    "# plt.show()   \n",
    "# Distribution of all parameters wrt price.\n",
    "nr_rows = 2\n",
    "nr_cols = 3\n",
    "\n",
    "fig, axs = plt.subplots(nr_rows, nr_cols, figsize=(nr_cols*4,nr_rows*4))\n",
    "\n",
    "numerical_feats = df2.dtypes[df2.dtypes != \"object\"].index\n",
    "\n",
    "li_num_feats = list(numerical_feats)\n",
    "li_not_plot = ['id']\n",
    "li_plot_num_feats = [c for c in list(numerical_feats) if c not in li_not_plot]\n",
    "\n",
    "for r in range(0,nr_rows):\n",
    "    for c in range(0,nr_cols):  \n",
    "        i = r*nr_cols+c\n",
    "        if i < len(li_plot_num_feats):\n",
    "            sns.regplot(x= df2[li_plot_num_feats[i]], y=df2['NDVI'],ax = axs[r][c])\n",
    "            stp = stats.pearsonr(df2[li_plot_num_feats[i]], df2['NDVI'])\n",
    "            str_title = \"r = \" + \"{0:.2f}\".format(stp[0]) + \"      \" \"p = \" + \"{0:.2f}\".format(stp[1])\n",
    "            axs[r][c].set_title(str_title,fontsize=11)\n",
    "            \n",
    "plt.tight_layout()    \n",
    "sns.set(color_codes=True)\n",
    "plt.show()   "
   ]
  },
  {
   "cell_type": "code",
   "execution_count": null,
   "id": "6f82426d-d276-4b1c-8edb-98ded50440a5",
   "metadata": {},
   "outputs": [],
   "source": [
    "# # # Features having coorelation to price\n",
    "# sns.set(color_codes=True)\n",
    "# house_price_data.corrwith(house_price_data.price).plot.bar( figsize = (12, 5), title = \"Correlation with respect to Prices\", fontsize = 15, rot = 90, grid = True);\n",
    "# Features having coorelation to price\n",
    "sns.set(color_codes=True)\n",
    "df2.corrwith(df2.NDVI).plot.bar( figsize = (12, 5), title = \"Correlação com NDVI\", fontsize = 15, rot = 90, grid = True);\n"
   ]
  },
  {
   "cell_type": "code",
   "execution_count": null,
   "id": "9c358fe7-ee96-471f-9b0b-66c41b58b564",
   "metadata": {},
   "outputs": [],
   "source": [
    "import statsmodels.formula.api as smf\n",
    "import pandas as pd\n",
    "import numpy as np\n",
    "import matplotlib.pyplot as plt\n",
    "import statsmodels.api as sm\n",
    "from scipy import stats\n",
    "from sklearn.linear_model import LinearRegression\n",
    "from statsmodels.graphics.factorplots import interaction_plot"
   ]
  },
  {
   "cell_type": "code",
   "execution_count": null,
   "id": "4cb7b2ca-2324-47df-ab9a-984ed49ffc6d",
   "metadata": {},
   "outputs": [],
   "source": [
    "results = smf.ols('skinTemp ~ RH + windspeed + windquad + NDVI', data=df).fit()\n",
    "table = sm.stats.anova_lm(results, typ=1)\n",
    "table"
   ]
  },
  {
   "cell_type": "code",
   "execution_count": null,
   "id": "8abb775e-46e7-4538-aae3-fd6c96f485c9",
   "metadata": {},
   "outputs": [],
   "source": [
    "print(results.summary())"
   ]
  },
  {
   "cell_type": "code",
   "execution_count": null,
   "id": "a3d97a4e-ca45-4dfc-89e7-873dd576caa5",
   "metadata": {},
   "outputs": [],
   "source": [
    "df.dtypes"
   ]
  },
  {
   "cell_type": "code",
   "execution_count": null,
   "id": "adf81f33-1890-416b-b43b-d47364c0d050",
   "metadata": {},
   "outputs": [],
   "source": [
    "# two variables of interest\n",
    "sample_df = df[['Temp2m', 'RH','windspeed','windquad','NDVI']]\n",
    "groups = sample_df.groupby('windquad').count().reset_index()"
   ]
  },
  {
   "cell_type": "code",
   "execution_count": null,
   "id": "1fbe7cc9-54bd-4a6b-9026-c09c45edda00",
   "metadata": {},
   "outputs": [],
   "source": [
    "# Create ANOVA backbone table\n",
    "data = [['Entre grupos', '', '', '', '', '', ''], ['Dentro dos Grupos', '', '', '', '', '', ''], ['Total', '', '', '', '', '', '']] \n",
    "anova_table = pd.DataFrame(data, columns = ['Fonte da Variação', 'SS', 'df', 'MS', 'F', 'P-value', 'F crit']) \n",
    "anova_table.set_index('Fonte da Variação', inplace = True)\n",
    "\n",
    "# calculate SSTR and update anova table\n",
    "x_bar = df['Temp2m'].mean()\n",
    "SSTR = sample_df.groupby('windquad').count() * (sample_df.groupby('windquad').mean() - x_bar)**2\n",
    "anova_table['SS']['Entre grupos'] = SSTR['Temp2m'].sum()\n",
    "\n",
    "# calculate SSE and update anova table\n",
    "SSE = (sample_df.groupby('windquad').count() - 1) * sample_df.groupby('windquad').std()**2\n",
    "anova_table['SS']['Dentro dos Grupos'] = SSE['Temp2m'].sum()\n",
    "\n",
    "# calculate SSTR and update anova table\n",
    "SSTR = SSTR['Temp2m'].sum() + SSE['Temp2m'].sum()\n",
    "anova_table['SS']['Total'] = SSTR\n",
    "\n",
    "# update degree of freedom\n",
    "anova_table['df']['Entre grupos'] = sample_df['windquad'].nunique() - 1\n",
    "anova_table['df']['Dentro dos Grupos'] = sample_df.shape[0] - sample_df['windquad'].nunique()\n",
    "anova_table['df']['Total'] = sample_df.shape[0] - 1\n",
    "\n",
    "# calculate MS\n",
    "anova_table['MS'] = anova_table['SS'] / anova_table['df']\n",
    "\n",
    "# calculate F \n",
    "F = anova_table['MS']['Entre grupos'] / anova_table['MS']['Dentro dos Grupos']\n",
    "anova_table['F']['Entre grupos'] = F\n",
    "\n",
    "# p-value\n",
    "anova_table['P-value']['Entre grupos'] = 1 - stats.f.cdf(F, anova_table['df']['Entre grupos'], anova_table['df']['Dentro dos Grupos'])\n",
    "\n",
    "# F critical \n",
    "alpha = 0.05\n",
    "# possible types \"right-tailed, left-tailed, two-tailed\"\n",
    "tail_hypothesis_type = \"two-tailed\"\n",
    "if tail_hypothesis_type == \"two-tailed\":\n",
    "    alpha /= 2\n",
    "anova_table['F crit']['Entre grupos'] = stats.f.ppf(1-alpha, anova_table['df']['Entre grupos'], anova_table['df']['Dentro dos Grupos'])\n",
    "\n",
    "# Final ANOVA Table\n",
    "anova_table"
   ]
  },
  {
   "cell_type": "markdown",
   "id": "2dfb81a5-419b-43ff-8e0e-c717f28ae25a",
   "metadata": {},
   "source": [
    "## Verificação de suposição de homogeneidade de variância"
   ]
  },
  {
   "cell_type": "code",
   "execution_count": null,
   "id": "3558b8de-4fd8-4993-92ba-27d2d13af353",
   "metadata": {},
   "outputs": [],
   "source": [
    "# calcular a proporção do maior para o menor desvio padrão da amostra\n",
    "ratio = sample_df.groupby('windquad').std().max() / sample_df.groupby('windquad').std().min()\n",
    "ratio"
   ]
  },
  {
   "cell_type": "code",
   "execution_count": null,
   "id": "25b906af-d3b8-458d-826c-9c20e57fb60f",
   "metadata": {},
   "outputs": [],
   "source": [
    "import numpy as np \n",
    "import scipy.stats as stats\n",
    "import matplotlib.pyplot as plt\n",
    "\n",
    "unique_majors = sample_df['windquad'].unique()\n",
    "for major in unique_majors:\n",
    "    stats.probplot(sample_df[sample_df['windquad'] == major]['Temp2m'], dist=\"norm\", plot=plt)\n",
    "    plt.title(\"Probabilidade- Temperatura do ar (2m) e Direção do Vento (quadrante) \" +  major.astype(str))\n",
    "    plt.show()"
   ]
  },
  {
   "cell_type": "markdown",
   "id": "d77330b5-d315-4622-bead-7256feb29481",
   "metadata": {},
   "source": [
    "# Testando hipóteses"
   ]
  },
  {
   "cell_type": "markdown",
   "id": "7feccf64-7607-42f2-bba6-ce3f39d86154",
   "metadata": {},
   "source": [
    "## De acordo com o processo de cinco etapas de teste de hipóteses:\n",
    "## H₀: μ₁= μ₂ = μ₃ =… = μ₆\n",
    "## H₁: Nem todas as médias das temperaturas são iguais\n",
    "## α = 0,05\n",
    "## De acordo com as estatísticas do teste F:"
   ]
  },
  {
   "cell_type": "code",
   "execution_count": null,
   "id": "59216c16-ad22-42da-a29d-ae76bb922581",
   "metadata": {},
   "outputs": [],
   "source": [
    "# The p-value approach\n",
    "print(\"Abordagem 1: A abordagem do valor p para testes de hipóteses na regra de decisão\")\n",
    "conclusion = \"Falha ao rejeitar a hipótese nula.\"\n",
    "if anova_table['P-value']['Entre grupos'] <= alpha:\n",
    "    conclusion = \"Hipótese nula foi rejeitada.\"\n",
    "print(\"F-score é:\", anova_table['F']['Entre grupos'], \" e p value é:\", anova_table['P-value']['Entre grupos'])    \n",
    "print(conclusion)\n",
    "    \n",
    "# The critical value approach\n",
    "print(\"\\n--------------------------------------------------------------------------------------\")\n",
    "print(\"Abordagem 2: A abordagem do valor crítico para testes de hipóteses na regra de decisão\")\n",
    "conclusion = \"Falha ao rejeitar a hipótese nula.\"\n",
    "if anova_table['F']['Entre grupos'] > anova_table['F crit']['Entre grupos']:\n",
    "    conclusion = \"Hipótese nula foi rejeitada.\"\n",
    "print(\"F-score é:\", anova_table['F']['Entre grupos'], \" e valor crítico é:\", anova_table['F crit']['Entre grupos'])\n",
    "print(conclusion)"
   ]
  },
  {
   "cell_type": "code",
   "execution_count": null,
   "id": "3027d0c8-be07-411a-bda4-f99140cfb29d",
   "metadata": {},
   "outputs": [],
   "source": [
    "dataframe = df\n",
    "\n",
    "print(dataframe.shape)\n",
    "\n",
    "print(dataframe.head(n=5))\n",
    "\n",
    "print(dataframe.columns)\n",
    "\n",
    "print(dataframe.info())\n"
   ]
  },
  {
   "cell_type": "code",
   "execution_count": null,
   "id": "9f7d3f91-a75e-403b-9043-bd7a5815b5ba",
   "metadata": {},
   "outputs": [],
   "source": [
    "# del df['windpower']\n",
    "# del df['UHIn']\n",
    "# del df['UHIp2m']\n",
    "# del df['UHIn2m']\n",
    "# del df['windquad_cat']\n",
    "# del df['UHIt']"
   ]
  },
  {
   "cell_type": "code",
   "execution_count": null,
   "id": "f34d3550-d4a4-4be6-9c5a-1d00eab78f92",
   "metadata": {},
   "outputs": [],
   "source": [
    "subset=dataframe.iloc[:,1:]\n",
    "\n",
    "subset.shape\n"
   ]
  },
  {
   "cell_type": "code",
   "execution_count": null,
   "id": "3f8bd30f-fb3e-4ecb-83c4-3f4dd9defc5b",
   "metadata": {},
   "outputs": [],
   "source": [
    "print(subset.info())"
   ]
  },
  {
   "cell_type": "code",
   "execution_count": null,
   "id": "a3e6ec00-06b9-48a0-9164-12aa22ce193f",
   "metadata": {},
   "outputs": [],
   "source": [
    "print(subset.isnull().sum())"
   ]
  },
  {
   "cell_type": "code",
   "execution_count": null,
   "id": "d81ce162-c141-44d6-9c23-236e4c095a6b",
   "metadata": {},
   "outputs": [],
   "source": [
    "print(subset.dropna(inplace=True))\n",
    "\n",
    "print(subset.shape)\n",
    "\n",
    "print(subset.columns)"
   ]
  },
  {
   "cell_type": "code",
   "execution_count": null,
   "id": "7b09f4b9-b58e-4b00-b8a3-3e069403a14f",
   "metadata": {},
   "outputs": [],
   "source": [
    "labels=pd.Categorical(subset['UHIp'])\n",
    "labels"
   ]
  },
  {
   "cell_type": "code",
   "execution_count": null,
   "id": "30175d4b-b1ee-44d1-9e22-8ac289e9838c",
   "metadata": {},
   "outputs": [],
   "source": [
    "subset.head()"
   ]
  },
  {
   "cell_type": "code",
   "execution_count": null,
   "id": "445a19f9-b248-41c6-ac47-bd999105784a",
   "metadata": {},
   "outputs": [],
   "source": [
    "subset['UHIp'].value_counts()"
   ]
  },
  {
   "cell_type": "code",
   "execution_count": null,
   "id": "21a1f286-646d-4c26-9cac-2d9694ea59bd",
   "metadata": {},
   "outputs": [],
   "source": [
    "subset['UHIp'].value_counts().plot.bar()"
   ]
  },
  {
   "cell_type": "code",
   "execution_count": null,
   "id": "83535e19-add4-4c25-affd-a45626196198",
   "metadata": {},
   "outputs": [],
   "source": [
    "subset.iloc[:,0:].describe().transpose()"
   ]
  },
  {
   "cell_type": "code",
   "execution_count": null,
   "id": "46464fa2-7a56-4395-98fa-bc08556fe94d",
   "metadata": {},
   "outputs": [],
   "source": [
    "subset.corr()"
   ]
  },
  {
   "cell_type": "code",
   "execution_count": null,
   "id": "ca8cfc9e-9ef8-4147-91c2-8796f67a01c6",
   "metadata": {},
   "outputs": [],
   "source": [
    "sns.heatmap(subset.corr(),cmap='coolwarm')"
   ]
  },
  {
   "cell_type": "code",
   "execution_count": null,
   "id": "249ccff5-5f21-458c-a684-7ba6b47c1188",
   "metadata": {},
   "outputs": [],
   "source": [
    "X = subset[feat]\n",
    "y = subset['UHIp']"
   ]
  },
  {
   "cell_type": "code",
   "execution_count": null,
   "id": "6ce5f105-eb7a-4b78-950f-5c98a7708338",
   "metadata": {},
   "outputs": [],
   "source": [
    "X"
   ]
  },
  {
   "cell_type": "code",
   "execution_count": null,
   "id": "956ac135-58b2-4bbb-8a60-2e6824818a74",
   "metadata": {},
   "outputs": [],
   "source": [
    "y"
   ]
  },
  {
   "cell_type": "code",
   "execution_count": null,
   "id": "5e1077cb-636c-4a55-ae19-8f72efa79d5f",
   "metadata": {},
   "outputs": [],
   "source": [
    "#Lets encode target labels (y) with values between 0 and n_classes-1.\n",
    "#We will use the LabelEncoder to do this. \n",
    "from sklearn.preprocessing import LabelEncoder\n",
    "label_encoder=LabelEncoder()\n",
    "label_encoder.fit(y)\n",
    "y=label_encoder.transform(y)\n",
    "classes=label_encoder.classes_"
   ]
  },
  {
   "cell_type": "code",
   "execution_count": null,
   "id": "4f8fcb99-84f3-4ba7-95aa-b701332f41bf",
   "metadata": {},
   "outputs": [],
   "source": [
    "classes"
   ]
  },
  {
   "cell_type": "code",
   "execution_count": null,
   "id": "2b194ae0-0f01-484d-908e-e6ace3f3da5d",
   "metadata": {},
   "outputs": [],
   "source": [
    "from sklearn.model_selection import train_test_split\n",
    "X_train,X_test,y_train,y_test=train_test_split(X,y,test_size=0.3)\n",
    "\n",
    "from sklearn.preprocessing import MinMaxScaler\n",
    "min_max_scaler=MinMaxScaler()\n",
    "X_train_norm=min_max_scaler.fit_transform(X_train)\n",
    "X_test_norm=min_max_scaler.fit_transform(X_test)\n"
   ]
  },
  {
   "cell_type": "code",
   "execution_count": null,
   "id": "a7d5196e-4697-45c6-8ca1-76d27d06f908",
   "metadata": {},
   "outputs": [],
   "source": [
    "from sklearn.multiclass import OneVsRestClassifier\n",
    "from sklearn.ensemble import RandomForestClassifier\n",
    "from sklearn.metrics import roc_curve,auc\n",
    "\n",
    "#Random Forest Classifier\n",
    "#because we are dealing with multiclass data and so, the one versus rest strategy is used.\n",
    "#learn to predict each class against the other.\n",
    "\n",
    "RF=OneVsRestClassifier(RandomForestClassifier(max_features=0.2))\n",
    "RF.fit(X_train_norm,y_train)\n",
    "y_pred =RF.predict(X_test_norm)\n",
    "pred_prob = RF.predict_proba(X_test_norm)\n"
   ]
  },
  {
   "cell_type": "code",
   "execution_count": null,
   "id": "f8891472-a5cc-41a3-81ac-88fb661e6d77",
   "metadata": {},
   "outputs": [],
   "source": [
    "from sklearn.preprocessing import label_binarize\n",
    "#binarize the y_values\n",
    "\n",
    "y_test_binarized=label_binarize(y_test,classes=np.unique(y_test))\n"
   ]
  },
  {
   "cell_type": "code",
   "execution_count": null,
   "id": "5a13570e-98d5-4a42-b361-e487d3c043e8",
   "metadata": {},
   "outputs": [],
   "source": [
    "# roc curve for classes\n",
    "fpr = {}\n",
    "tpr = {}\n",
    "thresh ={}\n",
    "roc_auc = dict()\n",
    "\n",
    "n_class = classes.shape[0]\n",
    "\n",
    "for i in range(n_class):    \n",
    "    fpr[i], tpr[i], thresh[i] = roc_curve(y_test_binarized[:,i], pred_prob[:,i])\n",
    "    roc_auc[i] = auc(fpr[i], tpr[i])\n",
    "    \n",
    "    # plotting    \n",
    "    plt.plot(fpr[i], tpr[i], linestyle='--', \n",
    "             label='%s vs Rest (AUC=%0.2f)'%(classes[i],roc_auc[i]))\n",
    "\n",
    "plt.plot([0,1],[0,1],'b--')\n",
    "plt.xlim([0,1])\n",
    "plt.ylim([0,1.05])\n",
    "plt.title('Multiclass ROC curve')\n",
    "plt.xlabel('False Positive Rate')\n",
    "plt.ylabel('True Positive rate')\n",
    "plt.legend(loc='lower right')\n",
    "plt.show()\n"
   ]
  },
  {
   "cell_type": "code",
   "execution_count": null,
   "id": "77fcc946-b148-4323-9e31-26cc84ee61a9",
   "metadata": {},
   "outputs": [],
   "source": []
  }
 ],
 "metadata": {
  "colab": {
   "provenance": []
  },
  "kernelspec": {
   "display_name": "Python 3 (ipykernel)",
   "language": "python",
   "name": "python3"
  },
  "language_info": {
   "codemirror_mode": {
    "name": "ipython",
    "version": 3
   },
   "file_extension": ".py",
   "mimetype": "text/x-python",
   "name": "python",
   "nbconvert_exporter": "python",
   "pygments_lexer": "ipython3",
   "version": "3.9.16"
  },
  "toc": {
   "base_numbering": 1,
   "nav_menu": {},
   "number_sections": true,
   "sideBar": true,
   "skip_h1_title": false,
   "title_cell": "Table of Contents",
   "title_sidebar": "Contents",
   "toc_cell": false,
   "toc_position": {},
   "toc_section_display": true,
   "toc_window_display": true
  }
 },
 "nbformat": 4,
 "nbformat_minor": 5
}
